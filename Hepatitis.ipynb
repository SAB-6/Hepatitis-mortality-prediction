{
  "nbformat": 4,
  "nbformat_minor": 0,
  "metadata": {
    "colab": {
      "name": "Hepatitis.ipynb",
      "provenance": [],
      "authorship_tag": "ABX9TyP7lNh6v8NXm4jvpb5rThcZ"
    },
    "kernelspec": {
      "name": "python3",
      "display_name": "Python 3"
    }
  },
  "cells": [
    {
      "cell_type": "code",
      "metadata": {
        "id": "BluWAobcQJq5",
        "colab_type": "code",
        "colab": {}
      },
      "source": [
        ""
      ],
      "execution_count": null,
      "outputs": []
    },
    {
      "cell_type": "markdown",
      "metadata": {
        "id": "6syH2Rx1bmBr",
        "colab_type": "text"
      },
      "source": [
        "**For data source click** <a href=\"https://archive.ics.uci.edu/ml/datasets/Hepatitis\">Here<a/>\n",
        "\n",
        "<br/> Author **Shereef Bankole**\n",
        "<br/> **LinkedIn click** <a href=\"https://www.linkedin.com/in/shereef-b-b9aab823/\\\">Here<a/>\n",
        "<br/> **Github click**  <a href=\"https://github.com/SAB-6\\\">Here<a/>"
      ]
    },
    {
      "cell_type": "markdown",
      "metadata": {
        "id": "pVwi6vjGQXxf",
        "colab_type": "text"
      },
      "source": [
        "## Table of contents\n",
        "- [Project objectives](#Project-objectives)\n",
        "- [Data exploration](#Exploratory-data-analysis)\n",
        "- [Data Wrangling](#Data-wrangling)\n",
        "- [Data modelling](#Modelling)\n",
        "- [Model Evaluation](#Model-evaluation)"
      ]
    },
    {
      "cell_type": "markdown",
      "metadata": {
        "id": "BiLvYNJOSa7_",
        "colab_type": "text"
      },
      "source": [
        "## Import Required libraries"
      ]
    },
    {
      "cell_type": "code",
      "metadata": {
        "id": "1oZTWbOSSlOz",
        "colab_type": "code",
        "colab": {}
      },
      "source": [
        "\n",
        "import pandas as pd\n",
        "import numpy as np\n",
        "import matplotlib.pyplot as plt\n",
        "import matplotlib as matplot\n",
        "import seaborn as sns\n",
        "from sklearn.feature_extraction.text import CountVectorizer, TfidfTransformer\n",
        "from sklearn.linear_model import LogisticRegression\n",
        "from sklearn.model_selection import cross_val_score\n",
        "from sklearn.ensemble import RandomForestClassifier\n",
        "from sklearn.ensemble import GradientBoostingClassifier\n",
        "from sklearn.model_selection import GridSearchCV\n",
        "from sklearn.preprocessing import StandardScaler\n",
        "from sklearn.pipeline import Pipeline, make_pipeline\n",
        "from sklearn.model_selection import train_test_split\n",
        "from sklearn.metrics import accuracy_score, classification_report, precision_score, recall_score, f1_score, confusion_matrix, precision_recall_curve, roc_curve, roc_auc_score\n",
        "%matplotlib inline\n",
        "from nltk.stem.wordnet import WordNetLemmatizer\n",
        "from nltk.tokenize import word_tokenize\n",
        "import nltk\n",
        "nltk.download('stopwords')\n",
        "from nltk.corpus import stopwords\n",
        "from string import punctuation\n",
        "from sklearn.compose import ColumnTransformer, make_column_transformer"
      ],
      "execution_count": null,
      "outputs": []
    },
    {
      "cell_type": "code",
      "metadata": {
        "id": "a-O-g07gUZDf",
        "colab_type": "code",
        "colab": {}
      },
      "source": [
        "import pandas as pd\n",
        "import numpy as np\n",
        "import seaborn as sns\n",
        "import matplotlib.pyplot as plt\n",
        "import matplotlib as mpl\n",
        "mpl.rcParams['figure.figsize'] = [12.0, 8.0]\n",
        "mpl.rcParams['grid.color'] = 'k'\n",
        "mpl.rcParams['grid.linestyle'] = ':'\n",
        "mpl.rcParams.update({'font.size': 18})\n",
        "import warnings\n",
        "warnings.filterwarnings('ignore')"
      ],
      "execution_count": 5,
      "outputs": []
    },
    {
      "cell_type": "code",
      "metadata": {
        "id": "gyVJVJ60T65o",
        "colab_type": "code",
        "colab": {
          "base_uri": "https://localhost:8080/",
          "height": 217
        },
        "outputId": "28b2d7a6-ee3b-4051-eb70-3632fc14f2d4"
      },
      "source": [
        "!wget https://archive.ics.uci.edu/ml/machine-learning-databases/hepatitis/hepatitis.data"
      ],
      "execution_count": 1,
      "outputs": [
        {
          "output_type": "stream",
          "text": [
            "--2020-07-19 13:42:50--  https://archive.ics.uci.edu/ml/machine-learning-databases/hepatitis/hepatitis.data\n",
            "Resolving archive.ics.uci.edu (archive.ics.uci.edu)... 128.195.10.252\n",
            "Connecting to archive.ics.uci.edu (archive.ics.uci.edu)|128.195.10.252|:443... connected.\n",
            "HTTP request sent, awaiting response... 200 OK\n",
            "Length: 7545 (7.4K) [application/x-httpd-php]\n",
            "Saving to: ‘hepatitis.data’\n",
            "\n",
            "\rhepatitis.data        0%[                    ]       0  --.-KB/s               \rhepatitis.data      100%[===================>]   7.37K  --.-KB/s    in 0s      \n",
            "\n",
            "2020-07-19 13:42:50 (271 MB/s) - ‘hepatitis.data’ saved [7545/7545]\n",
            "\n"
          ],
          "name": "stdout"
        }
      ]
    },
    {
      "cell_type": "code",
      "metadata": {
        "id": "HzHybr25UMkm",
        "colab_type": "code",
        "colab": {
          "base_uri": "https://localhost:8080/",
          "height": 198
        },
        "outputId": "1cc85343-21df-4c53-a386-d3653f8affdf"
      },
      "source": [
        ""
      ],
      "execution_count": 7,
      "outputs": [
        {
          "output_type": "execute_result",
          "data": {
            "text/html": [
              "<div>\n",
              "<style scoped>\n",
              "    .dataframe tbody tr th:only-of-type {\n",
              "        vertical-align: middle;\n",
              "    }\n",
              "\n",
              "    .dataframe tbody tr th {\n",
              "        vertical-align: top;\n",
              "    }\n",
              "\n",
              "    .dataframe thead th {\n",
              "        text-align: right;\n",
              "    }\n",
              "</style>\n",
              "<table border=\"1\" class=\"dataframe\">\n",
              "  <thead>\n",
              "    <tr style=\"text-align: right;\">\n",
              "      <th></th>\n",
              "      <th>2</th>\n",
              "      <th>30</th>\n",
              "      <th>2.1</th>\n",
              "      <th>1</th>\n",
              "      <th>2.2</th>\n",
              "      <th>2.3</th>\n",
              "      <th>2.4</th>\n",
              "      <th>2.5</th>\n",
              "      <th>1.1</th>\n",
              "      <th>2.6</th>\n",
              "      <th>2.7</th>\n",
              "      <th>2.8</th>\n",
              "      <th>2.9</th>\n",
              "      <th>2.10</th>\n",
              "      <th>1.00</th>\n",
              "      <th>85</th>\n",
              "      <th>18</th>\n",
              "      <th>4.0</th>\n",
              "      <th>?</th>\n",
              "      <th>1.2</th>\n",
              "    </tr>\n",
              "  </thead>\n",
              "  <tbody>\n",
              "    <tr>\n",
              "      <th>0</th>\n",
              "      <td>2</td>\n",
              "      <td>50</td>\n",
              "      <td>1</td>\n",
              "      <td>1</td>\n",
              "      <td>2</td>\n",
              "      <td>1</td>\n",
              "      <td>2</td>\n",
              "      <td>2</td>\n",
              "      <td>1</td>\n",
              "      <td>2</td>\n",
              "      <td>2</td>\n",
              "      <td>2</td>\n",
              "      <td>2</td>\n",
              "      <td>2</td>\n",
              "      <td>0.90</td>\n",
              "      <td>135</td>\n",
              "      <td>42</td>\n",
              "      <td>3.5</td>\n",
              "      <td>?</td>\n",
              "      <td>1</td>\n",
              "    </tr>\n",
              "    <tr>\n",
              "      <th>1</th>\n",
              "      <td>2</td>\n",
              "      <td>78</td>\n",
              "      <td>1</td>\n",
              "      <td>2</td>\n",
              "      <td>2</td>\n",
              "      <td>1</td>\n",
              "      <td>2</td>\n",
              "      <td>2</td>\n",
              "      <td>2</td>\n",
              "      <td>2</td>\n",
              "      <td>2</td>\n",
              "      <td>2</td>\n",
              "      <td>2</td>\n",
              "      <td>2</td>\n",
              "      <td>0.70</td>\n",
              "      <td>96</td>\n",
              "      <td>32</td>\n",
              "      <td>4.0</td>\n",
              "      <td>?</td>\n",
              "      <td>1</td>\n",
              "    </tr>\n",
              "    <tr>\n",
              "      <th>2</th>\n",
              "      <td>2</td>\n",
              "      <td>31</td>\n",
              "      <td>1</td>\n",
              "      <td>?</td>\n",
              "      <td>1</td>\n",
              "      <td>2</td>\n",
              "      <td>2</td>\n",
              "      <td>2</td>\n",
              "      <td>2</td>\n",
              "      <td>2</td>\n",
              "      <td>2</td>\n",
              "      <td>2</td>\n",
              "      <td>2</td>\n",
              "      <td>2</td>\n",
              "      <td>0.70</td>\n",
              "      <td>46</td>\n",
              "      <td>52</td>\n",
              "      <td>4.0</td>\n",
              "      <td>80</td>\n",
              "      <td>1</td>\n",
              "    </tr>\n",
              "    <tr>\n",
              "      <th>3</th>\n",
              "      <td>2</td>\n",
              "      <td>34</td>\n",
              "      <td>1</td>\n",
              "      <td>2</td>\n",
              "      <td>2</td>\n",
              "      <td>2</td>\n",
              "      <td>2</td>\n",
              "      <td>2</td>\n",
              "      <td>2</td>\n",
              "      <td>2</td>\n",
              "      <td>2</td>\n",
              "      <td>2</td>\n",
              "      <td>2</td>\n",
              "      <td>2</td>\n",
              "      <td>1.00</td>\n",
              "      <td>?</td>\n",
              "      <td>200</td>\n",
              "      <td>4.0</td>\n",
              "      <td>?</td>\n",
              "      <td>1</td>\n",
              "    </tr>\n",
              "    <tr>\n",
              "      <th>4</th>\n",
              "      <td>2</td>\n",
              "      <td>34</td>\n",
              "      <td>1</td>\n",
              "      <td>2</td>\n",
              "      <td>2</td>\n",
              "      <td>2</td>\n",
              "      <td>2</td>\n",
              "      <td>2</td>\n",
              "      <td>2</td>\n",
              "      <td>2</td>\n",
              "      <td>2</td>\n",
              "      <td>2</td>\n",
              "      <td>2</td>\n",
              "      <td>2</td>\n",
              "      <td>0.90</td>\n",
              "      <td>95</td>\n",
              "      <td>28</td>\n",
              "      <td>4.0</td>\n",
              "      <td>75</td>\n",
              "      <td>1</td>\n",
              "    </tr>\n",
              "  </tbody>\n",
              "</table>\n",
              "</div>"
            ],
            "text/plain": [
              "   2  30  2.1  1  2.2 2.3 2.4 2.5  ... 2.9 2.10  1.00   85   18  4.0   ? 1.2\n",
              "0  2  50    1  1    2   1   2   2  ...   2    2  0.90  135   42  3.5   ?   1\n",
              "1  2  78    1  2    2   1   2   2  ...   2    2  0.70   96   32  4.0   ?   1\n",
              "2  2  31    1  ?    1   2   2   2  ...   2    2  0.70   46   52  4.0  80   1\n",
              "3  2  34    1  2    2   2   2   2  ...   2    2  1.00    ?  200  4.0   ?   1\n",
              "4  2  34    1  2    2   2   2   2  ...   2    2  0.90   95   28  4.0  75   1\n",
              "\n",
              "[5 rows x 20 columns]"
            ]
          },
          "metadata": {
            "tags": []
          },
          "execution_count": 7
        }
      ]
    },
    {
      "cell_type": "code",
      "metadata": {
        "id": "e1S0_kD8WTpg",
        "colab_type": "code",
        "colab": {}
      },
      "source": [
        "data.columns = "
      ],
      "execution_count": null,
      "outputs": []
    },
    {
      "cell_type": "code",
      "metadata": {
        "id": "2HZvoeNUQmxx",
        "colab_type": "code",
        "colab": {}
      },
      "source": [
        "#"
      ],
      "execution_count": null,
      "outputs": []
    },
    {
      "cell_type": "markdown",
      "metadata": {
        "id": "wIhrvS07Qx8x",
        "colab_type": "text"
      },
      "source": [
        "## Project objectives\n",
        "\n",
        "Predicting patient mortality due to hepatitis"
      ]
    },
    {
      "cell_type": "code",
      "metadata": {
        "id": "vq-XWk0bQ0KF",
        "colab_type": "code",
        "colab": {}
      },
      "source": [
        ""
      ],
      "execution_count": null,
      "outputs": []
    },
    {
      "cell_type": "markdown",
      "metadata": {
        "id": "vi63eKDeRL49",
        "colab_type": "text"
      },
      "source": [
        "#Exploratory data analysis"
      ]
    },
    {
      "cell_type": "code",
      "metadata": {
        "id": "QAaDt2MlR_j8",
        "colab_type": "code",
        "colab": {
          "base_uri": "https://localhost:8080/",
          "height": 235
        },
        "outputId": "c189a46c-5202-4f48-fe74-cb548fb9822f"
      },
      "source": [
        "data= pd.read_table('hepatitis.data', sep =',')\n",
        "data.columns = [\"Class\", \"AGE\", \"SEX\", \"STEROID\", \"ANTIVIRALS\", \"FATIGUE\", \"MALAISE\", \"ANOREXIA\", \"LIVER BIG\", \"LIVER FIRM\",\n",
        "                \"SPLEEN PALPABLE\", \"SPIDERS\", \"ASCITES\", \"VARICES\", \"BILIRUBIN\", \"ALK PHOSPHATE\", \"SGOT\", \"ALBUMIN\",\n",
        "                \"PROTIME\", \"HISTOLOGY\"]\n",
        "data.head()"
      ],
      "execution_count": 10,
      "outputs": [
        {
          "output_type": "execute_result",
          "data": {
            "text/html": [
              "<div>\n",
              "<style scoped>\n",
              "    .dataframe tbody tr th:only-of-type {\n",
              "        vertical-align: middle;\n",
              "    }\n",
              "\n",
              "    .dataframe tbody tr th {\n",
              "        vertical-align: top;\n",
              "    }\n",
              "\n",
              "    .dataframe thead th {\n",
              "        text-align: right;\n",
              "    }\n",
              "</style>\n",
              "<table border=\"1\" class=\"dataframe\">\n",
              "  <thead>\n",
              "    <tr style=\"text-align: right;\">\n",
              "      <th></th>\n",
              "      <th>Class</th>\n",
              "      <th>AGE</th>\n",
              "      <th>SEX</th>\n",
              "      <th>STEROID</th>\n",
              "      <th>ANTIVIRALS</th>\n",
              "      <th>FATIGUE</th>\n",
              "      <th>MALAISE</th>\n",
              "      <th>ANOREXIA</th>\n",
              "      <th>LIVER BIG</th>\n",
              "      <th>LIVER FIRM</th>\n",
              "      <th>SPLEEN PALPABLE</th>\n",
              "      <th>SPIDERS</th>\n",
              "      <th>ASCITES</th>\n",
              "      <th>VARICES</th>\n",
              "      <th>BILIRUBIN</th>\n",
              "      <th>ALK PHOSPHATE</th>\n",
              "      <th>SGOT</th>\n",
              "      <th>ALBUMIN</th>\n",
              "      <th>PROTIME</th>\n",
              "      <th>HISTOLOGY</th>\n",
              "    </tr>\n",
              "  </thead>\n",
              "  <tbody>\n",
              "    <tr>\n",
              "      <th>0</th>\n",
              "      <td>2</td>\n",
              "      <td>50</td>\n",
              "      <td>1</td>\n",
              "      <td>1</td>\n",
              "      <td>2</td>\n",
              "      <td>1</td>\n",
              "      <td>2</td>\n",
              "      <td>2</td>\n",
              "      <td>1</td>\n",
              "      <td>2</td>\n",
              "      <td>2</td>\n",
              "      <td>2</td>\n",
              "      <td>2</td>\n",
              "      <td>2</td>\n",
              "      <td>0.90</td>\n",
              "      <td>135</td>\n",
              "      <td>42</td>\n",
              "      <td>3.5</td>\n",
              "      <td>?</td>\n",
              "      <td>1</td>\n",
              "    </tr>\n",
              "    <tr>\n",
              "      <th>1</th>\n",
              "      <td>2</td>\n",
              "      <td>78</td>\n",
              "      <td>1</td>\n",
              "      <td>2</td>\n",
              "      <td>2</td>\n",
              "      <td>1</td>\n",
              "      <td>2</td>\n",
              "      <td>2</td>\n",
              "      <td>2</td>\n",
              "      <td>2</td>\n",
              "      <td>2</td>\n",
              "      <td>2</td>\n",
              "      <td>2</td>\n",
              "      <td>2</td>\n",
              "      <td>0.70</td>\n",
              "      <td>96</td>\n",
              "      <td>32</td>\n",
              "      <td>4.0</td>\n",
              "      <td>?</td>\n",
              "      <td>1</td>\n",
              "    </tr>\n",
              "    <tr>\n",
              "      <th>2</th>\n",
              "      <td>2</td>\n",
              "      <td>31</td>\n",
              "      <td>1</td>\n",
              "      <td>?</td>\n",
              "      <td>1</td>\n",
              "      <td>2</td>\n",
              "      <td>2</td>\n",
              "      <td>2</td>\n",
              "      <td>2</td>\n",
              "      <td>2</td>\n",
              "      <td>2</td>\n",
              "      <td>2</td>\n",
              "      <td>2</td>\n",
              "      <td>2</td>\n",
              "      <td>0.70</td>\n",
              "      <td>46</td>\n",
              "      <td>52</td>\n",
              "      <td>4.0</td>\n",
              "      <td>80</td>\n",
              "      <td>1</td>\n",
              "    </tr>\n",
              "    <tr>\n",
              "      <th>3</th>\n",
              "      <td>2</td>\n",
              "      <td>34</td>\n",
              "      <td>1</td>\n",
              "      <td>2</td>\n",
              "      <td>2</td>\n",
              "      <td>2</td>\n",
              "      <td>2</td>\n",
              "      <td>2</td>\n",
              "      <td>2</td>\n",
              "      <td>2</td>\n",
              "      <td>2</td>\n",
              "      <td>2</td>\n",
              "      <td>2</td>\n",
              "      <td>2</td>\n",
              "      <td>1.00</td>\n",
              "      <td>?</td>\n",
              "      <td>200</td>\n",
              "      <td>4.0</td>\n",
              "      <td>?</td>\n",
              "      <td>1</td>\n",
              "    </tr>\n",
              "    <tr>\n",
              "      <th>4</th>\n",
              "      <td>2</td>\n",
              "      <td>34</td>\n",
              "      <td>1</td>\n",
              "      <td>2</td>\n",
              "      <td>2</td>\n",
              "      <td>2</td>\n",
              "      <td>2</td>\n",
              "      <td>2</td>\n",
              "      <td>2</td>\n",
              "      <td>2</td>\n",
              "      <td>2</td>\n",
              "      <td>2</td>\n",
              "      <td>2</td>\n",
              "      <td>2</td>\n",
              "      <td>0.90</td>\n",
              "      <td>95</td>\n",
              "      <td>28</td>\n",
              "      <td>4.0</td>\n",
              "      <td>75</td>\n",
              "      <td>1</td>\n",
              "    </tr>\n",
              "  </tbody>\n",
              "</table>\n",
              "</div>"
            ],
            "text/plain": [
              "   Class  AGE  SEX STEROID  ...  SGOT ALBUMIN PROTIME HISTOLOGY\n",
              "0      2   50    1       1  ...    42     3.5       ?         1\n",
              "1      2   78    1       2  ...    32     4.0       ?         1\n",
              "2      2   31    1       ?  ...    52     4.0      80         1\n",
              "3      2   34    1       2  ...   200     4.0       ?         1\n",
              "4      2   34    1       2  ...    28     4.0      75         1\n",
              "\n",
              "[5 rows x 20 columns]"
            ]
          },
          "metadata": {
            "tags": []
          },
          "execution_count": 10
        }
      ]
    },
    {
      "cell_type": "code",
      "metadata": {
        "id": "Ev6XJb70Yemt",
        "colab_type": "code",
        "colab": {}
      },
      "source": [
        "# shuffle data\n",
        "data = data.sample(frac = 1).reset_index(drop =True)"
      ],
      "execution_count": 11,
      "outputs": []
    },
    {
      "cell_type": "code",
      "metadata": {
        "id": "2LPTkSvKZFCQ",
        "colab_type": "code",
        "colab": {
          "base_uri": "https://localhost:8080/",
          "height": 218
        },
        "outputId": "f79200e6-11f5-4607-db32-5c6dc150afdb"
      },
      "source": [
        "data.columns = data.columns.str.lower().str.replace(' ','_')\n",
        "data.head()"
      ],
      "execution_count": 13,
      "outputs": [
        {
          "output_type": "execute_result",
          "data": {
            "text/html": [
              "<div>\n",
              "<style scoped>\n",
              "    .dataframe tbody tr th:only-of-type {\n",
              "        vertical-align: middle;\n",
              "    }\n",
              "\n",
              "    .dataframe tbody tr th {\n",
              "        vertical-align: top;\n",
              "    }\n",
              "\n",
              "    .dataframe thead th {\n",
              "        text-align: right;\n",
              "    }\n",
              "</style>\n",
              "<table border=\"1\" class=\"dataframe\">\n",
              "  <thead>\n",
              "    <tr style=\"text-align: right;\">\n",
              "      <th></th>\n",
              "      <th>class</th>\n",
              "      <th>age</th>\n",
              "      <th>sex</th>\n",
              "      <th>steroid</th>\n",
              "      <th>antivirals</th>\n",
              "      <th>fatigue</th>\n",
              "      <th>malaise</th>\n",
              "      <th>anorexia</th>\n",
              "      <th>liver_big</th>\n",
              "      <th>liver_firm</th>\n",
              "      <th>spleen_palpable</th>\n",
              "      <th>spiders</th>\n",
              "      <th>ascites</th>\n",
              "      <th>varices</th>\n",
              "      <th>bilirubin</th>\n",
              "      <th>alk_phosphate</th>\n",
              "      <th>sgot</th>\n",
              "      <th>albumin</th>\n",
              "      <th>protime</th>\n",
              "      <th>histology</th>\n",
              "    </tr>\n",
              "  </thead>\n",
              "  <tbody>\n",
              "    <tr>\n",
              "      <th>0</th>\n",
              "      <td>2</td>\n",
              "      <td>44</td>\n",
              "      <td>1</td>\n",
              "      <td>1</td>\n",
              "      <td>2</td>\n",
              "      <td>1</td>\n",
              "      <td>1</td>\n",
              "      <td>2</td>\n",
              "      <td>1</td>\n",
              "      <td>1</td>\n",
              "      <td>2</td>\n",
              "      <td>1</td>\n",
              "      <td>2</td>\n",
              "      <td>2</td>\n",
              "      <td>3.00</td>\n",
              "      <td>114</td>\n",
              "      <td>65</td>\n",
              "      <td>3.5</td>\n",
              "      <td>?</td>\n",
              "      <td>2</td>\n",
              "    </tr>\n",
              "    <tr>\n",
              "      <th>1</th>\n",
              "      <td>2</td>\n",
              "      <td>39</td>\n",
              "      <td>1</td>\n",
              "      <td>2</td>\n",
              "      <td>2</td>\n",
              "      <td>1</td>\n",
              "      <td>2</td>\n",
              "      <td>2</td>\n",
              "      <td>2</td>\n",
              "      <td>2</td>\n",
              "      <td>2</td>\n",
              "      <td>2</td>\n",
              "      <td>2</td>\n",
              "      <td>2</td>\n",
              "      <td>1.00</td>\n",
              "      <td>34</td>\n",
              "      <td>15</td>\n",
              "      <td>4.0</td>\n",
              "      <td>54</td>\n",
              "      <td>1</td>\n",
              "    </tr>\n",
              "    <tr>\n",
              "      <th>2</th>\n",
              "      <td>2</td>\n",
              "      <td>49</td>\n",
              "      <td>1</td>\n",
              "      <td>1</td>\n",
              "      <td>1</td>\n",
              "      <td>1</td>\n",
              "      <td>1</td>\n",
              "      <td>1</td>\n",
              "      <td>2</td>\n",
              "      <td>1</td>\n",
              "      <td>2</td>\n",
              "      <td>1</td>\n",
              "      <td>2</td>\n",
              "      <td>2</td>\n",
              "      <td>0.60</td>\n",
              "      <td>85</td>\n",
              "      <td>48</td>\n",
              "      <td>3.7</td>\n",
              "      <td>?</td>\n",
              "      <td>1</td>\n",
              "    </tr>\n",
              "    <tr>\n",
              "      <th>3</th>\n",
              "      <td>1</td>\n",
              "      <td>33</td>\n",
              "      <td>1</td>\n",
              "      <td>1</td>\n",
              "      <td>2</td>\n",
              "      <td>1</td>\n",
              "      <td>1</td>\n",
              "      <td>2</td>\n",
              "      <td>2</td>\n",
              "      <td>2</td>\n",
              "      <td>2</td>\n",
              "      <td>2</td>\n",
              "      <td>1</td>\n",
              "      <td>2</td>\n",
              "      <td>0.70</td>\n",
              "      <td>63</td>\n",
              "      <td>80</td>\n",
              "      <td>3.0</td>\n",
              "      <td>31</td>\n",
              "      <td>2</td>\n",
              "    </tr>\n",
              "    <tr>\n",
              "      <th>4</th>\n",
              "      <td>2</td>\n",
              "      <td>23</td>\n",
              "      <td>1</td>\n",
              "      <td>2</td>\n",
              "      <td>2</td>\n",
              "      <td>1</td>\n",
              "      <td>1</td>\n",
              "      <td>1</td>\n",
              "      <td>2</td>\n",
              "      <td>2</td>\n",
              "      <td>2</td>\n",
              "      <td>2</td>\n",
              "      <td>2</td>\n",
              "      <td>2</td>\n",
              "      <td>0.80</td>\n",
              "      <td>?</td>\n",
              "      <td>14</td>\n",
              "      <td>4.8</td>\n",
              "      <td>?</td>\n",
              "      <td>1</td>\n",
              "    </tr>\n",
              "  </tbody>\n",
              "</table>\n",
              "</div>"
            ],
            "text/plain": [
              "   class  age  sex steroid  ...  sgot albumin protime histology\n",
              "0      2   44    1       1  ...    65     3.5       ?         2\n",
              "1      2   39    1       2  ...    15     4.0      54         1\n",
              "2      2   49    1       1  ...    48     3.7       ?         1\n",
              "3      1   33    1       1  ...    80     3.0      31         2\n",
              "4      2   23    1       2  ...    14     4.8       ?         1\n",
              "\n",
              "[5 rows x 20 columns]"
            ]
          },
          "metadata": {
            "tags": []
          },
          "execution_count": 13
        }
      ]
    },
    {
      "cell_type": "code",
      "metadata": {
        "id": "_6hbReceYtrj",
        "colab_type": "code",
        "colab": {
          "base_uri": "https://localhost:8080/",
          "height": 508
        },
        "outputId": "261434fb-de5b-4452-aab6-1cc08f93f572"
      },
      "source": [
        "data.info()"
      ],
      "execution_count": 15,
      "outputs": [
        {
          "output_type": "stream",
          "text": [
            "<class 'pandas.core.frame.DataFrame'>\n",
            "RangeIndex: 154 entries, 0 to 153\n",
            "Data columns (total 20 columns):\n",
            " #   Column           Non-Null Count  Dtype \n",
            "---  ------           --------------  ----- \n",
            " 0   class            154 non-null    int64 \n",
            " 1   age              154 non-null    int64 \n",
            " 2   sex              154 non-null    int64 \n",
            " 3   steroid          154 non-null    object\n",
            " 4   antivirals       154 non-null    int64 \n",
            " 5   fatigue          154 non-null    object\n",
            " 6   malaise          154 non-null    object\n",
            " 7   anorexia         154 non-null    object\n",
            " 8   liver_big        154 non-null    object\n",
            " 9   liver_firm       154 non-null    object\n",
            " 10  spleen_palpable  154 non-null    object\n",
            " 11  spiders          154 non-null    object\n",
            " 12  ascites          154 non-null    object\n",
            " 13  varices          154 non-null    object\n",
            " 14  bilirubin        154 non-null    object\n",
            " 15  alk_phosphate    154 non-null    object\n",
            " 16  sgot             154 non-null    object\n",
            " 17  albumin          154 non-null    object\n",
            " 18  protime          154 non-null    object\n",
            " 19  histology        154 non-null    int64 \n",
            "dtypes: int64(5), object(15)\n",
            "memory usage: 24.2+ KB\n"
          ],
          "name": "stdout"
        }
      ]
    },
    {
      "cell_type": "code",
      "metadata": {
        "id": "YLHh-d1tZ1mr",
        "colab_type": "code",
        "colab": {
          "base_uri": "https://localhost:8080/",
          "height": 399
        },
        "outputId": "dc1fc783-fdca-48b1-d6f1-091d85111b4d"
      },
      "source": [
        "data.isnull().sum().sort_values()"
      ],
      "execution_count": 14,
      "outputs": [
        {
          "output_type": "execute_result",
          "data": {
            "text/plain": [
              "class              0\n",
              "albumin            0\n",
              "sgot               0\n",
              "alk_phosphate      0\n",
              "bilirubin          0\n",
              "varices            0\n",
              "ascites            0\n",
              "spiders            0\n",
              "spleen_palpable    0\n",
              "liver_firm         0\n",
              "liver_big          0\n",
              "anorexia           0\n",
              "malaise            0\n",
              "fatigue            0\n",
              "antivirals         0\n",
              "steroid            0\n",
              "sex                0\n",
              "age                0\n",
              "protime            0\n",
              "histology          0\n",
              "dtype: int64"
            ]
          },
          "metadata": {
            "tags": []
          },
          "execution_count": 14
        }
      ]
    },
    {
      "cell_type": "markdown",
      "metadata": {
        "id": "rLwxvjDFaDi7",
        "colab_type": "text"
      },
      "source": [
        "## Both info and isnull methods did notr reveal the missing values within each attributes.  However, <a href =\"https://archive.ics.uci.edu/ml/datasets/Hepatitis\">the data source indicates presence of missing values within the dataset</a>."
      ]
    },
    {
      "cell_type": "code",
      "metadata": {
        "id": "7jAIOpVAaC0-",
        "colab_type": "code",
        "colab": {
          "base_uri": "https://localhost:8080/",
          "height": 218
        },
        "outputId": "33a9994b-fcdf-4ea4-cb9b-560c2ff58997"
      },
      "source": [
        "# Replace question mark with np.Nan\n",
        "data = data.replace('?',np.nan)\n",
        "data.head()"
      ],
      "execution_count": 17,
      "outputs": [
        {
          "output_type": "execute_result",
          "data": {
            "text/html": [
              "<div>\n",
              "<style scoped>\n",
              "    .dataframe tbody tr th:only-of-type {\n",
              "        vertical-align: middle;\n",
              "    }\n",
              "\n",
              "    .dataframe tbody tr th {\n",
              "        vertical-align: top;\n",
              "    }\n",
              "\n",
              "    .dataframe thead th {\n",
              "        text-align: right;\n",
              "    }\n",
              "</style>\n",
              "<table border=\"1\" class=\"dataframe\">\n",
              "  <thead>\n",
              "    <tr style=\"text-align: right;\">\n",
              "      <th></th>\n",
              "      <th>class</th>\n",
              "      <th>age</th>\n",
              "      <th>sex</th>\n",
              "      <th>steroid</th>\n",
              "      <th>antivirals</th>\n",
              "      <th>fatigue</th>\n",
              "      <th>malaise</th>\n",
              "      <th>anorexia</th>\n",
              "      <th>liver_big</th>\n",
              "      <th>liver_firm</th>\n",
              "      <th>spleen_palpable</th>\n",
              "      <th>spiders</th>\n",
              "      <th>ascites</th>\n",
              "      <th>varices</th>\n",
              "      <th>bilirubin</th>\n",
              "      <th>alk_phosphate</th>\n",
              "      <th>sgot</th>\n",
              "      <th>albumin</th>\n",
              "      <th>protime</th>\n",
              "      <th>histology</th>\n",
              "    </tr>\n",
              "  </thead>\n",
              "  <tbody>\n",
              "    <tr>\n",
              "      <th>0</th>\n",
              "      <td>2</td>\n",
              "      <td>44</td>\n",
              "      <td>1</td>\n",
              "      <td>1</td>\n",
              "      <td>2</td>\n",
              "      <td>1</td>\n",
              "      <td>1</td>\n",
              "      <td>2</td>\n",
              "      <td>1</td>\n",
              "      <td>1</td>\n",
              "      <td>2</td>\n",
              "      <td>1</td>\n",
              "      <td>2</td>\n",
              "      <td>2</td>\n",
              "      <td>3.00</td>\n",
              "      <td>114</td>\n",
              "      <td>65</td>\n",
              "      <td>3.5</td>\n",
              "      <td>NaN</td>\n",
              "      <td>2</td>\n",
              "    </tr>\n",
              "    <tr>\n",
              "      <th>1</th>\n",
              "      <td>2</td>\n",
              "      <td>39</td>\n",
              "      <td>1</td>\n",
              "      <td>2</td>\n",
              "      <td>2</td>\n",
              "      <td>1</td>\n",
              "      <td>2</td>\n",
              "      <td>2</td>\n",
              "      <td>2</td>\n",
              "      <td>2</td>\n",
              "      <td>2</td>\n",
              "      <td>2</td>\n",
              "      <td>2</td>\n",
              "      <td>2</td>\n",
              "      <td>1.00</td>\n",
              "      <td>34</td>\n",
              "      <td>15</td>\n",
              "      <td>4.0</td>\n",
              "      <td>54</td>\n",
              "      <td>1</td>\n",
              "    </tr>\n",
              "    <tr>\n",
              "      <th>2</th>\n",
              "      <td>2</td>\n",
              "      <td>49</td>\n",
              "      <td>1</td>\n",
              "      <td>1</td>\n",
              "      <td>1</td>\n",
              "      <td>1</td>\n",
              "      <td>1</td>\n",
              "      <td>1</td>\n",
              "      <td>2</td>\n",
              "      <td>1</td>\n",
              "      <td>2</td>\n",
              "      <td>1</td>\n",
              "      <td>2</td>\n",
              "      <td>2</td>\n",
              "      <td>0.60</td>\n",
              "      <td>85</td>\n",
              "      <td>48</td>\n",
              "      <td>3.7</td>\n",
              "      <td>NaN</td>\n",
              "      <td>1</td>\n",
              "    </tr>\n",
              "    <tr>\n",
              "      <th>3</th>\n",
              "      <td>1</td>\n",
              "      <td>33</td>\n",
              "      <td>1</td>\n",
              "      <td>1</td>\n",
              "      <td>2</td>\n",
              "      <td>1</td>\n",
              "      <td>1</td>\n",
              "      <td>2</td>\n",
              "      <td>2</td>\n",
              "      <td>2</td>\n",
              "      <td>2</td>\n",
              "      <td>2</td>\n",
              "      <td>1</td>\n",
              "      <td>2</td>\n",
              "      <td>0.70</td>\n",
              "      <td>63</td>\n",
              "      <td>80</td>\n",
              "      <td>3.0</td>\n",
              "      <td>31</td>\n",
              "      <td>2</td>\n",
              "    </tr>\n",
              "    <tr>\n",
              "      <th>4</th>\n",
              "      <td>2</td>\n",
              "      <td>23</td>\n",
              "      <td>1</td>\n",
              "      <td>2</td>\n",
              "      <td>2</td>\n",
              "      <td>1</td>\n",
              "      <td>1</td>\n",
              "      <td>1</td>\n",
              "      <td>2</td>\n",
              "      <td>2</td>\n",
              "      <td>2</td>\n",
              "      <td>2</td>\n",
              "      <td>2</td>\n",
              "      <td>2</td>\n",
              "      <td>0.80</td>\n",
              "      <td>NaN</td>\n",
              "      <td>14</td>\n",
              "      <td>4.8</td>\n",
              "      <td>NaN</td>\n",
              "      <td>1</td>\n",
              "    </tr>\n",
              "  </tbody>\n",
              "</table>\n",
              "</div>"
            ],
            "text/plain": [
              "   class  age  sex steroid  ...  sgot albumin protime histology\n",
              "0      2   44    1       1  ...    65     3.5     NaN         2\n",
              "1      2   39    1       2  ...    15     4.0      54         1\n",
              "2      2   49    1       1  ...    48     3.7     NaN         1\n",
              "3      1   33    1       1  ...    80     3.0      31         2\n",
              "4      2   23    1       2  ...    14     4.8     NaN         1\n",
              "\n",
              "[5 rows x 20 columns]"
            ]
          },
          "metadata": {
            "tags": []
          },
          "execution_count": 17
        }
      ]
    },
    {
      "cell_type": "code",
      "metadata": {
        "id": "-_1oFNygeDWr",
        "colab_type": "code",
        "colab": {
          "base_uri": "https://localhost:8080/",
          "height": 513
        },
        "outputId": "4b91d2a2-d062-44d2-bf5a-876db12358ab"
      },
      "source": [
        "(data.isnull().sum().sort_values()/len(data)).plot(kind = 'barh');\n",
        "plt.xlabel(\"Percentage of missing values\");"
      ],
      "execution_count": 24,
      "outputs": [
        {
          "output_type": "display_data",
          "data": {
            "image/png": "[encoded data removed]",
            "text/plain": [
              "<Figure size 864x576 with 1 Axes>"
            ]
          },
          "metadata": {
            "tags": [],
            "needs_background": "light"
          }
        }
      ]
    },
    {
      "cell_type": "markdown",
      "metadata": {
        "id": "-UXHnAQff8Oc",
        "colab_type": "text"
      },
      "source": [
        "#### From the bar chart above, sex, age, histology, antivirals nad class attributes have no missing value. Missing values for other attributes varies from very few percentage to more than 40%"
      ]
    },
    {
      "cell_type": "code",
      "metadata": {
        "id": "0l-zOfU3fPUv",
        "colab_type": "code",
        "colab": {
          "base_uri": "https://localhost:8080/",
          "height": 413
        },
        "outputId": "5d961d7b-4525-4184-eeed-b4d4835f1c20"
      },
      "source": [
        "# Check for class imbalance\n",
        "(data['class'].value_counts()/len(data)).plot(kind='bar', color = 'brown',figsize=(10, 6), stacked=False)\n",
        "plt.xlabel(\"Class (Die/Live)\", fontsize=15)\n",
        "plt.ylabel('Percentage', fontsize=15)\n",
        "plt.title(\"Class distribution\", fontsize=15);"
      ],
      "execution_count": 23,
      "outputs": [
        {
          "output_type": "display_data",
          "data": {
            "image/png": "[encoded data removed]",
            "text/plain": [
              "<Figure size 720x432 with 1 Axes>"
            ]
          },
          "metadata": {
            "tags": [],
            "needs_background": "light"
          }
        }
      ]
    },
    {
      "cell_type": "markdown",
      "metadata": {
        "id": "bJf8jMUhgfCZ",
        "colab_type": "text"
      },
      "source": [
        "## The sample is skewed as indicated by the class distribution plot above"
      ]
    },
    {
      "cell_type": "markdown",
      "metadata": {
        "id": "9vLRprtPSAcD",
        "colab_type": "text"
      },
      "source": [
        "## Data wrangling\n"
      ]
    },
    {
      "cell_type": "code",
      "metadata": {
        "id": "95CXT5l0SF3p",
        "colab_type": "code",
        "colab": {}
      },
      "source": [
        ""
      ],
      "execution_count": null,
      "outputs": []
    },
    {
      "cell_type": "markdown",
      "metadata": {
        "id": "cNkXqDNNSGrg",
        "colab_type": "text"
      },
      "source": [
        "## Data modelling"
      ]
    },
    {
      "cell_type": "code",
      "metadata": {
        "id": "zO3LdulhSQq0",
        "colab_type": "code",
        "colab": {}
      },
      "source": [
        ""
      ],
      "execution_count": null,
      "outputs": []
    },
    {
      "cell_type": "markdown",
      "metadata": {
        "id": "xlYPtREpSRWp",
        "colab_type": "text"
      },
      "source": [
        "## Model evaluation"
      ]
    },
    {
      "cell_type": "code",
      "metadata": {
        "id": "bh93ODwMSVs3",
        "colab_type": "code",
        "colab": {}
      },
      "source": [
        ""
      ],
      "execution_count": null,
      "outputs": []
    }
  ]
}
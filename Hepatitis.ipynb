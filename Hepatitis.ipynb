{
  "nbformat": 4,
  "nbformat_minor": 0,
  "metadata": {
    "colab": {
      "name": "Hepatitis.ipynb",
      "provenance": [],
      "authorship_tag": "ABX9TyMZ/Ijh6NMUA+E2K22hqCK4"
    },
    "kernelspec": {
      "name": "python3",
      "display_name": "Python 3"
    }
  },
  "cells": [
    {
      "cell_type": "code",
      "metadata": {
        "id": "BluWAobcQJq5",
        "colab_type": "code",
        "colab": {}
      },
      "source": [
        ""
      ],
      "execution_count": null,
      "outputs": []
    },
    {
      "cell_type": "markdown",
      "metadata": {
        "id": "6syH2Rx1bmBr",
        "colab_type": "text"
      },
      "source": [
        "**For data source click** <a href=\"https://archive.ics.uci.edu/ml/datasets/Hepatitis\">Here<a/>\n",
        "\n",
        "<br/> Author **Shereef Bankole**\n",
        "<br/> **LinkedIn click** <a href=\"https://www.linkedin.com/in/shereef-b-b9aab823/\\\">Here<a/>\n",
        "<br/> **Github click**  <a href=\"https://github.com/SAB-6\\\">Here<a/>"
      ]
    },
    {
      "cell_type": "markdown",
      "metadata": {
        "id": "pVwi6vjGQXxf",
        "colab_type": "text"
      },
      "source": [
        "## Table of contents\n",
        "- [Project objectives](#Project-objectives)\n",
        "- [Data exploration](#Exploratory-data-analysis)\n",
        "- [Data Wrangling](#Data-wrangling)\n",
        "- [Data modelling](#Modelling)\n",
        "- [Model Evaluation](#Model-evaluation)"
      ]
    },
    {
      "cell_type": "markdown",
      "metadata": {
        "id": "BiLvYNJOSa7_",
        "colab_type": "text"
      },
      "source": [
        "## Import Required libraries"
      ]
    },
    {
      "cell_type": "code",
      "metadata": {
        "id": "a-O-g07gUZDf",
        "colab_type": "code",
        "colab": {
          "base_uri": "https://localhost:8080/",
          "height": 54
        },
        "outputId": "ceb69fd1-f722-4d0d-e392-6308771d98dd"
      },
      "source": [
        "import pandas as pd\n",
        "import numpy as np\n",
        "import seaborn as sns\n",
        "import matplotlib.pyplot as plt\n",
        "import matplotlib as mpl\n",
        "from sklearn.impute import SimpleImputer\n",
        "from sklearn.preprocessing import StandardScaler\n",
        "mpl.rcParams['figure.figsize'] = [12.0, 8.0]\n",
        "mpl.rcParams['grid.color'] = 'k'\n",
        "mpl.rcParams['grid.linestyle'] = ':'\n",
        "mpl.rcParams.update({'font.size': 18})\n",
        "!pip install lazypredict\n",
        "from sklearn.pipeline import make_pipeline\n",
        "from lazypredict.Supervised import LazyClassifier\n",
        "from sklearn.model_selection import train_test_split\n",
        "import warnings\n",
        "warnings.filterwarnings('ignore')"
      ],
      "execution_count": 58,
      "outputs": [
        {
          "output_type": "stream",
          "text": [
            "Requirement already satisfied: lazypredict in /usr/local/lib/python3.6/dist-packages (0.2.7)\n",
            "Requirement already satisfied: Click>=7.0 in /usr/local/lib/python3.6/dist-packages (from lazypredict) (7.1.2)\n"
          ],
          "name": "stdout"
        }
      ]
    },
    {
      "cell_type": "code",
      "metadata": {
        "id": "gyVJVJ60T65o",
        "colab_type": "code",
        "colab": {
          "base_uri": "https://localhost:8080/",
          "height": 217
        },
        "outputId": "4b624861-93bd-4e75-b130-e3c43bf67281"
      },
      "source": [
        "!wget https://archive.ics.uci.edu/ml/machine-learning-databases/hepatitis/hepatitis.data"
      ],
      "execution_count": 2,
      "outputs": [
        {
          "output_type": "stream",
          "text": [
            "--2020-07-25 19:36:33--  https://archive.ics.uci.edu/ml/machine-learning-databases/hepatitis/hepatitis.data\n",
            "Resolving archive.ics.uci.edu (archive.ics.uci.edu)... 128.195.10.252\n",
            "Connecting to archive.ics.uci.edu (archive.ics.uci.edu)|128.195.10.252|:443... connected.\n",
            "HTTP request sent, awaiting response... 200 OK\n",
            "Length: 7545 (7.4K) [application/x-httpd-php]\n",
            "Saving to: ‘hepatitis.data’\n",
            "\n",
            "\rhepatitis.data        0%[                    ]       0  --.-KB/s               \rhepatitis.data      100%[===================>]   7.37K  --.-KB/s    in 0s      \n",
            "\n",
            "2020-07-25 19:36:33 (140 MB/s) - ‘hepatitis.data’ saved [7545/7545]\n",
            "\n"
          ],
          "name": "stdout"
        }
      ]
    },
    {
      "cell_type": "code",
      "metadata": {
        "id": "2HZvoeNUQmxx",
        "colab_type": "code",
        "colab": {}
      },
      "source": [
        "pd.set_option(\"display.max_columns\",None)\n",
        "pd.set_option(\"display.max_rows\",None)"
      ],
      "execution_count": 3,
      "outputs": []
    },
    {
      "cell_type": "markdown",
      "metadata": {
        "id": "wIhrvS07Qx8x",
        "colab_type": "text"
      },
      "source": [
        "## Project objectives\n",
        "\n",
        "Predicting patient mortality due to hepatitis"
      ]
    },
    {
      "cell_type": "code",
      "metadata": {
        "id": "vq-XWk0bQ0KF",
        "colab_type": "code",
        "colab": {}
      },
      "source": [
        ""
      ],
      "execution_count": null,
      "outputs": []
    },
    {
      "cell_type": "markdown",
      "metadata": {
        "id": "vi63eKDeRL49",
        "colab_type": "text"
      },
      "source": [
        "## Exploratory data analysis/Data wrangling"
      ]
    },
    {
      "cell_type": "code",
      "metadata": {
        "id": "QAaDt2MlR_j8",
        "colab_type": "code",
        "colab": {
          "base_uri": "https://localhost:8080/",
          "height": 235
        },
        "outputId": "5cd88f01-ab0e-41e6-aa1e-608d600de706"
      },
      "source": [
        "data= pd.read_table('hepatitis.data', sep =',')\n",
        "data.columns = [\"Class\", \"AGE\", \"SEX\", \"STEROID\", \"ANTIVIRALS\", \"FATIGUE\", \"MALAISE\", \"ANOREXIA\", \"LIVER BIG\", \"LIVER FIRM\",\n",
        "                \"SPLEEN PALPABLE\", \"SPIDERS\", \"ASCITES\", \"VARICES\", \"BILIRUBIN\", \"ALK PHOSPHATE\", \"SGOT\", \"ALBUMIN\",\n",
        "                \"PROTIME\", \"HISTOLOGY\"]\n",
        "data.head()"
      ],
      "execution_count": 4,
      "outputs": [
        {
          "output_type": "execute_result",
          "data": {
            "text/html": [
              "<div>\n",
              "<style scoped>\n",
              "    .dataframe tbody tr th:only-of-type {\n",
              "        vertical-align: middle;\n",
              "    }\n",
              "\n",
              "    .dataframe tbody tr th {\n",
              "        vertical-align: top;\n",
              "    }\n",
              "\n",
              "    .dataframe thead th {\n",
              "        text-align: right;\n",
              "    }\n",
              "</style>\n",
              "<table border=\"1\" class=\"dataframe\">\n",
              "  <thead>\n",
              "    <tr style=\"text-align: right;\">\n",
              "      <th></th>\n",
              "      <th>Class</th>\n",
              "      <th>AGE</th>\n",
              "      <th>SEX</th>\n",
              "      <th>STEROID</th>\n",
              "      <th>ANTIVIRALS</th>\n",
              "      <th>FATIGUE</th>\n",
              "      <th>MALAISE</th>\n",
              "      <th>ANOREXIA</th>\n",
              "      <th>LIVER BIG</th>\n",
              "      <th>LIVER FIRM</th>\n",
              "      <th>SPLEEN PALPABLE</th>\n",
              "      <th>SPIDERS</th>\n",
              "      <th>ASCITES</th>\n",
              "      <th>VARICES</th>\n",
              "      <th>BILIRUBIN</th>\n",
              "      <th>ALK PHOSPHATE</th>\n",
              "      <th>SGOT</th>\n",
              "      <th>ALBUMIN</th>\n",
              "      <th>PROTIME</th>\n",
              "      <th>HISTOLOGY</th>\n",
              "    </tr>\n",
              "  </thead>\n",
              "  <tbody>\n",
              "    <tr>\n",
              "      <th>0</th>\n",
              "      <td>2</td>\n",
              "      <td>50</td>\n",
              "      <td>1</td>\n",
              "      <td>1</td>\n",
              "      <td>2</td>\n",
              "      <td>1</td>\n",
              "      <td>2</td>\n",
              "      <td>2</td>\n",
              "      <td>1</td>\n",
              "      <td>2</td>\n",
              "      <td>2</td>\n",
              "      <td>2</td>\n",
              "      <td>2</td>\n",
              "      <td>2</td>\n",
              "      <td>0.90</td>\n",
              "      <td>135</td>\n",
              "      <td>42</td>\n",
              "      <td>3.5</td>\n",
              "      <td>?</td>\n",
              "      <td>1</td>\n",
              "    </tr>\n",
              "    <tr>\n",
              "      <th>1</th>\n",
              "      <td>2</td>\n",
              "      <td>78</td>\n",
              "      <td>1</td>\n",
              "      <td>2</td>\n",
              "      <td>2</td>\n",
              "      <td>1</td>\n",
              "      <td>2</td>\n",
              "      <td>2</td>\n",
              "      <td>2</td>\n",
              "      <td>2</td>\n",
              "      <td>2</td>\n",
              "      <td>2</td>\n",
              "      <td>2</td>\n",
              "      <td>2</td>\n",
              "      <td>0.70</td>\n",
              "      <td>96</td>\n",
              "      <td>32</td>\n",
              "      <td>4.0</td>\n",
              "      <td>?</td>\n",
              "      <td>1</td>\n",
              "    </tr>\n",
              "    <tr>\n",
              "      <th>2</th>\n",
              "      <td>2</td>\n",
              "      <td>31</td>\n",
              "      <td>1</td>\n",
              "      <td>?</td>\n",
              "      <td>1</td>\n",
              "      <td>2</td>\n",
              "      <td>2</td>\n",
              "      <td>2</td>\n",
              "      <td>2</td>\n",
              "      <td>2</td>\n",
              "      <td>2</td>\n",
              "      <td>2</td>\n",
              "      <td>2</td>\n",
              "      <td>2</td>\n",
              "      <td>0.70</td>\n",
              "      <td>46</td>\n",
              "      <td>52</td>\n",
              "      <td>4.0</td>\n",
              "      <td>80</td>\n",
              "      <td>1</td>\n",
              "    </tr>\n",
              "    <tr>\n",
              "      <th>3</th>\n",
              "      <td>2</td>\n",
              "      <td>34</td>\n",
              "      <td>1</td>\n",
              "      <td>2</td>\n",
              "      <td>2</td>\n",
              "      <td>2</td>\n",
              "      <td>2</td>\n",
              "      <td>2</td>\n",
              "      <td>2</td>\n",
              "      <td>2</td>\n",
              "      <td>2</td>\n",
              "      <td>2</td>\n",
              "      <td>2</td>\n",
              "      <td>2</td>\n",
              "      <td>1.00</td>\n",
              "      <td>?</td>\n",
              "      <td>200</td>\n",
              "      <td>4.0</td>\n",
              "      <td>?</td>\n",
              "      <td>1</td>\n",
              "    </tr>\n",
              "    <tr>\n",
              "      <th>4</th>\n",
              "      <td>2</td>\n",
              "      <td>34</td>\n",
              "      <td>1</td>\n",
              "      <td>2</td>\n",
              "      <td>2</td>\n",
              "      <td>2</td>\n",
              "      <td>2</td>\n",
              "      <td>2</td>\n",
              "      <td>2</td>\n",
              "      <td>2</td>\n",
              "      <td>2</td>\n",
              "      <td>2</td>\n",
              "      <td>2</td>\n",
              "      <td>2</td>\n",
              "      <td>0.90</td>\n",
              "      <td>95</td>\n",
              "      <td>28</td>\n",
              "      <td>4.0</td>\n",
              "      <td>75</td>\n",
              "      <td>1</td>\n",
              "    </tr>\n",
              "  </tbody>\n",
              "</table>\n",
              "</div>"
            ],
            "text/plain": [
              "   Class  AGE  SEX STEROID  ANTIVIRALS FATIGUE MALAISE ANOREXIA LIVER BIG  \\\n",
              "0      2   50    1       1           2       1       2        2         1   \n",
              "1      2   78    1       2           2       1       2        2         2   \n",
              "2      2   31    1       ?           1       2       2        2         2   \n",
              "3      2   34    1       2           2       2       2        2         2   \n",
              "4      2   34    1       2           2       2       2        2         2   \n",
              "\n",
              "  LIVER FIRM SPLEEN PALPABLE SPIDERS ASCITES VARICES BILIRUBIN ALK PHOSPHATE  \\\n",
              "0          2               2       2       2       2      0.90           135   \n",
              "1          2               2       2       2       2      0.70            96   \n",
              "2          2               2       2       2       2      0.70            46   \n",
              "3          2               2       2       2       2      1.00             ?   \n",
              "4          2               2       2       2       2      0.90            95   \n",
              "\n",
              "  SGOT ALBUMIN PROTIME  HISTOLOGY  \n",
              "0   42     3.5       ?          1  \n",
              "1   32     4.0       ?          1  \n",
              "2   52     4.0      80          1  \n",
              "3  200     4.0       ?          1  \n",
              "4   28     4.0      75          1  "
            ]
          },
          "metadata": {
            "tags": []
          },
          "execution_count": 4
        }
      ]
    },
    {
      "cell_type": "code",
      "metadata": {
        "id": "Ev6XJb70Yemt",
        "colab_type": "code",
        "colab": {}
      },
      "source": [
        "# shuffle data\n",
        "data = data.sample(frac = 1).reset_index(drop =True)"
      ],
      "execution_count": null,
      "outputs": []
    },
    {
      "cell_type": "code",
      "metadata": {
        "id": "2LPTkSvKZFCQ",
        "colab_type": "code",
        "colab": {
          "base_uri": "https://localhost:8080/",
          "height": 218
        },
        "outputId": "6b9fdd6f-dbdc-43dc-e46b-78073d4d0d7a"
      },
      "source": [
        "data.columns = data.columns.str.lower().str.replace(' ','_')\n",
        "data.head()"
      ],
      "execution_count": 5,
      "outputs": [
        {
          "output_type": "execute_result",
          "data": {
            "text/html": [
              "<div>\n",
              "<style scoped>\n",
              "    .dataframe tbody tr th:only-of-type {\n",
              "        vertical-align: middle;\n",
              "    }\n",
              "\n",
              "    .dataframe tbody tr th {\n",
              "        vertical-align: top;\n",
              "    }\n",
              "\n",
              "    .dataframe thead th {\n",
              "        text-align: right;\n",
              "    }\n",
              "</style>\n",
              "<table border=\"1\" class=\"dataframe\">\n",
              "  <thead>\n",
              "    <tr style=\"text-align: right;\">\n",
              "      <th></th>\n",
              "      <th>class</th>\n",
              "      <th>age</th>\n",
              "      <th>sex</th>\n",
              "      <th>steroid</th>\n",
              "      <th>antivirals</th>\n",
              "      <th>fatigue</th>\n",
              "      <th>malaise</th>\n",
              "      <th>anorexia</th>\n",
              "      <th>liver_big</th>\n",
              "      <th>liver_firm</th>\n",
              "      <th>spleen_palpable</th>\n",
              "      <th>spiders</th>\n",
              "      <th>ascites</th>\n",
              "      <th>varices</th>\n",
              "      <th>bilirubin</th>\n",
              "      <th>alk_phosphate</th>\n",
              "      <th>sgot</th>\n",
              "      <th>albumin</th>\n",
              "      <th>protime</th>\n",
              "      <th>histology</th>\n",
              "    </tr>\n",
              "  </thead>\n",
              "  <tbody>\n",
              "    <tr>\n",
              "      <th>0</th>\n",
              "      <td>2</td>\n",
              "      <td>50</td>\n",
              "      <td>1</td>\n",
              "      <td>1</td>\n",
              "      <td>2</td>\n",
              "      <td>1</td>\n",
              "      <td>2</td>\n",
              "      <td>2</td>\n",
              "      <td>1</td>\n",
              "      <td>2</td>\n",
              "      <td>2</td>\n",
              "      <td>2</td>\n",
              "      <td>2</td>\n",
              "      <td>2</td>\n",
              "      <td>0.90</td>\n",
              "      <td>135</td>\n",
              "      <td>42</td>\n",
              "      <td>3.5</td>\n",
              "      <td>?</td>\n",
              "      <td>1</td>\n",
              "    </tr>\n",
              "    <tr>\n",
              "      <th>1</th>\n",
              "      <td>2</td>\n",
              "      <td>78</td>\n",
              "      <td>1</td>\n",
              "      <td>2</td>\n",
              "      <td>2</td>\n",
              "      <td>1</td>\n",
              "      <td>2</td>\n",
              "      <td>2</td>\n",
              "      <td>2</td>\n",
              "      <td>2</td>\n",
              "      <td>2</td>\n",
              "      <td>2</td>\n",
              "      <td>2</td>\n",
              "      <td>2</td>\n",
              "      <td>0.70</td>\n",
              "      <td>96</td>\n",
              "      <td>32</td>\n",
              "      <td>4.0</td>\n",
              "      <td>?</td>\n",
              "      <td>1</td>\n",
              "    </tr>\n",
              "    <tr>\n",
              "      <th>2</th>\n",
              "      <td>2</td>\n",
              "      <td>31</td>\n",
              "      <td>1</td>\n",
              "      <td>?</td>\n",
              "      <td>1</td>\n",
              "      <td>2</td>\n",
              "      <td>2</td>\n",
              "      <td>2</td>\n",
              "      <td>2</td>\n",
              "      <td>2</td>\n",
              "      <td>2</td>\n",
              "      <td>2</td>\n",
              "      <td>2</td>\n",
              "      <td>2</td>\n",
              "      <td>0.70</td>\n",
              "      <td>46</td>\n",
              "      <td>52</td>\n",
              "      <td>4.0</td>\n",
              "      <td>80</td>\n",
              "      <td>1</td>\n",
              "    </tr>\n",
              "    <tr>\n",
              "      <th>3</th>\n",
              "      <td>2</td>\n",
              "      <td>34</td>\n",
              "      <td>1</td>\n",
              "      <td>2</td>\n",
              "      <td>2</td>\n",
              "      <td>2</td>\n",
              "      <td>2</td>\n",
              "      <td>2</td>\n",
              "      <td>2</td>\n",
              "      <td>2</td>\n",
              "      <td>2</td>\n",
              "      <td>2</td>\n",
              "      <td>2</td>\n",
              "      <td>2</td>\n",
              "      <td>1.00</td>\n",
              "      <td>?</td>\n",
              "      <td>200</td>\n",
              "      <td>4.0</td>\n",
              "      <td>?</td>\n",
              "      <td>1</td>\n",
              "    </tr>\n",
              "    <tr>\n",
              "      <th>4</th>\n",
              "      <td>2</td>\n",
              "      <td>34</td>\n",
              "      <td>1</td>\n",
              "      <td>2</td>\n",
              "      <td>2</td>\n",
              "      <td>2</td>\n",
              "      <td>2</td>\n",
              "      <td>2</td>\n",
              "      <td>2</td>\n",
              "      <td>2</td>\n",
              "      <td>2</td>\n",
              "      <td>2</td>\n",
              "      <td>2</td>\n",
              "      <td>2</td>\n",
              "      <td>0.90</td>\n",
              "      <td>95</td>\n",
              "      <td>28</td>\n",
              "      <td>4.0</td>\n",
              "      <td>75</td>\n",
              "      <td>1</td>\n",
              "    </tr>\n",
              "  </tbody>\n",
              "</table>\n",
              "</div>"
            ],
            "text/plain": [
              "   class  age  sex steroid  antivirals fatigue malaise anorexia liver_big  \\\n",
              "0      2   50    1       1           2       1       2        2         1   \n",
              "1      2   78    1       2           2       1       2        2         2   \n",
              "2      2   31    1       ?           1       2       2        2         2   \n",
              "3      2   34    1       2           2       2       2        2         2   \n",
              "4      2   34    1       2           2       2       2        2         2   \n",
              "\n",
              "  liver_firm spleen_palpable spiders ascites varices bilirubin alk_phosphate  \\\n",
              "0          2               2       2       2       2      0.90           135   \n",
              "1          2               2       2       2       2      0.70            96   \n",
              "2          2               2       2       2       2      0.70            46   \n",
              "3          2               2       2       2       2      1.00             ?   \n",
              "4          2               2       2       2       2      0.90            95   \n",
              "\n",
              "  sgot albumin protime  histology  \n",
              "0   42     3.5       ?          1  \n",
              "1   32     4.0       ?          1  \n",
              "2   52     4.0      80          1  \n",
              "3  200     4.0       ?          1  \n",
              "4   28     4.0      75          1  "
            ]
          },
          "metadata": {
            "tags": []
          },
          "execution_count": 5
        }
      ]
    },
    {
      "cell_type": "code",
      "metadata": {
        "id": "_6hbReceYtrj",
        "colab_type": "code",
        "colab": {
          "base_uri": "https://localhost:8080/",
          "height": 508
        },
        "outputId": "f60db18d-6793-40ae-b6a9-b7439ddeedd7"
      },
      "source": [
        "# Inspecting the data\n",
        "data.info()"
      ],
      "execution_count": 6,
      "outputs": [
        {
          "output_type": "stream",
          "text": [
            "<class 'pandas.core.frame.DataFrame'>\n",
            "RangeIndex: 154 entries, 0 to 153\n",
            "Data columns (total 20 columns):\n",
            " #   Column           Non-Null Count  Dtype \n",
            "---  ------           --------------  ----- \n",
            " 0   class            154 non-null    int64 \n",
            " 1   age              154 non-null    int64 \n",
            " 2   sex              154 non-null    int64 \n",
            " 3   steroid          154 non-null    object\n",
            " 4   antivirals       154 non-null    int64 \n",
            " 5   fatigue          154 non-null    object\n",
            " 6   malaise          154 non-null    object\n",
            " 7   anorexia         154 non-null    object\n",
            " 8   liver_big        154 non-null    object\n",
            " 9   liver_firm       154 non-null    object\n",
            " 10  spleen_palpable  154 non-null    object\n",
            " 11  spiders          154 non-null    object\n",
            " 12  ascites          154 non-null    object\n",
            " 13  varices          154 non-null    object\n",
            " 14  bilirubin        154 non-null    object\n",
            " 15  alk_phosphate    154 non-null    object\n",
            " 16  sgot             154 non-null    object\n",
            " 17  albumin          154 non-null    object\n",
            " 18  protime          154 non-null    object\n",
            " 19  histology        154 non-null    int64 \n",
            "dtypes: int64(5), object(15)\n",
            "memory usage: 24.2+ KB\n"
          ],
          "name": "stdout"
        }
      ]
    },
    {
      "cell_type": "code",
      "metadata": {
        "id": "dQl--ZaWfCoP",
        "colab_type": "code",
        "colab": {}
      },
      "source": [
        "# replace missing values (np.nan) with zeros\n",
        "data = data.replace(\"?\",np.nan)"
      ],
      "execution_count": 10,
      "outputs": []
    },
    {
      "cell_type": "markdown",
      "metadata": {
        "id": "rLwxvjDFaDi7",
        "colab_type": "text"
      },
      "source": [
        "### Both info and isnull methods did notr reveal the missing values within each attributes.  However, <a href =\"https://archive.ics.uci.edu/ml/datasets/Hepatitis\">the data source indicates presence of missing values within the dataset</a>."
      ]
    },
    {
      "cell_type": "code",
      "metadata": {
        "id": "XC8edrtOOgO1",
        "colab_type": "code",
        "colab": {
          "base_uri": "https://localhost:8080/",
          "height": 513
        },
        "outputId": "3eca86da-35af-4308-dd3d-8cf0946c05af"
      },
      "source": [
        "(data.isnull().sum().sort_values()/len(data)).plot(kind = 'barh');\n",
        "plt.xlabel(\"Percentage of missing values\");"
      ],
      "execution_count": 11,
      "outputs": [
        {
          "output_type": "display_data",
          "data": {
            "image/png": "[encoded data removed]",
            "text/plain": [
              "<Figure size 864x576 with 1 Axes>"
            ]
          },
          "metadata": {
            "tags": [],
            "needs_background": "light"
          }
        }
      ]
    },
    {
      "cell_type": "markdown",
      "metadata": {
        "id": "i-6COjGEPpBp",
        "colab_type": "text"
      },
      "source": [
        "#### From the bar chart above, sex, age, histology, antivirals nad class attributes have no missing value. Missing values for other attributes varies from very few percentage to more than 40%"
      ]
    },
    {
      "cell_type": "code",
      "metadata": {
        "id": "xUgJy0wGi1NJ",
        "colab_type": "code",
        "colab": {}
      },
      "source": [
        "df = data.copy()"
      ],
      "execution_count": 17,
      "outputs": []
    },
    {
      "cell_type": "code",
      "metadata": {
        "id": "ZVIOUt43i5a1",
        "colab_type": "code",
        "colab": {}
      },
      "source": [
        "data = data.replace(np.nan, 0)"
      ],
      "execution_count": 18,
      "outputs": []
    },
    {
      "cell_type": "code",
      "metadata": {
        "id": "i5xPkXqlf_Rm",
        "colab_type": "code",
        "colab": {
          "base_uri": "https://localhost:8080/",
          "height": 399
        },
        "outputId": "9fcb71d6-2112-4230-f435-8bad9fcf91a6"
      },
      "source": [
        "# replace missing values (np.nan) with zeros\n",
        "data = data.replace(\"?\",0)\n",
        "\n",
        "# change some of the column to int type\n",
        "int_columns = [col for col in list(data.columns) if data[col].dtypes != int if col not in (\"bilirubin\",\"albumin\")]\n",
        "data[int_columns] = data[int_columns].astype(int)\n",
        "\n",
        "# change both bilirubin and albumin columns to float\n",
        "data[['bilirubin','albumin']] = data[['bilirubin','albumin']].astype(float)\n",
        "# check the data types\n",
        "data.dtypes"
      ],
      "execution_count": 19,
      "outputs": [
        {
          "output_type": "execute_result",
          "data": {
            "text/plain": [
              "class                int64\n",
              "age                  int64\n",
              "sex                  int64\n",
              "steroid              int64\n",
              "antivirals           int64\n",
              "fatigue              int64\n",
              "malaise              int64\n",
              "anorexia             int64\n",
              "liver_big            int64\n",
              "liver_firm           int64\n",
              "spleen_palpable      int64\n",
              "spiders              int64\n",
              "ascites              int64\n",
              "varices              int64\n",
              "bilirubin          float64\n",
              "alk_phosphate        int64\n",
              "sgot                 int64\n",
              "albumin            float64\n",
              "protime              int64\n",
              "histology            int64\n",
              "dtype: object"
            ]
          },
          "metadata": {
            "tags": []
          },
          "execution_count": 19
        }
      ]
    },
    {
      "cell_type": "code",
      "metadata": {
        "id": "NzawteTlgDl5",
        "colab_type": "code",
        "colab": {
          "base_uri": "https://localhost:8080/",
          "height": 399
        },
        "outputId": "44332a07-5bb0-4baf-9b3c-f42573ce506f"
      },
      "source": [
        "data.isnull().sum().sort_values()"
      ],
      "execution_count": 20,
      "outputs": [
        {
          "output_type": "execute_result",
          "data": {
            "text/plain": [
              "class              0\n",
              "albumin            0\n",
              "sgot               0\n",
              "alk_phosphate      0\n",
              "bilirubin          0\n",
              "varices            0\n",
              "ascites            0\n",
              "spiders            0\n",
              "spleen_palpable    0\n",
              "liver_firm         0\n",
              "liver_big          0\n",
              "anorexia           0\n",
              "malaise            0\n",
              "fatigue            0\n",
              "antivirals         0\n",
              "steroid            0\n",
              "sex                0\n",
              "age                0\n",
              "protime            0\n",
              "histology          0\n",
              "dtype: int64"
            ]
          },
          "metadata": {
            "tags": []
          },
          "execution_count": 20
        }
      ]
    },
    {
      "cell_type": "code",
      "metadata": {
        "id": "bB3ykWNDOsXf",
        "colab_type": "code",
        "colab": {
          "base_uri": "https://localhost:8080/",
          "height": 413
        },
        "outputId": "a6d99245-b0f9-48fc-fca5-e79a8a2ace4f"
      },
      "source": [
        "# Check for class imbalance in the target variable\n",
        "(data['class'].value_counts()/len(data)).plot(kind='bar', color = 'orange',figsize=(10, 6), stacked=False)\n",
        "plt.xlabel(\"Class (Die/Live)\", fontsize=15)\n",
        "plt.ylabel('Ratio', fontsize=15)\n",
        "plt.title(\"Class distribution\", fontsize=15);"
      ],
      "execution_count": 21,
      "outputs": [
        {
          "output_type": "display_data",
          "data": {
            "image/png": "[encoded data removed]",
            "text/plain": [
              "<Figure size 720x432 with 1 Axes>"
            ]
          },
          "metadata": {
            "tags": [],
            "needs_background": "light"
          }
        }
      ]
    },
    {
      "cell_type": "markdown",
      "metadata": {
        "id": "5R1dmw_vOmzu",
        "colab_type": "text"
      },
      "source": [
        "### The target is skewed as indicated by the class distribution plot above. 2 represents the people tha lives while 1 represents those tha dies from hepatitis."
      ]
    },
    {
      "cell_type": "code",
      "metadata": {
        "id": "_DDLg0tygrQh",
        "colab_type": "code",
        "colab": {
          "base_uri": "https://localhost:8080/",
          "height": 35
        },
        "outputId": "88c417cd-74dc-4125-fe2d-9a64bd245e87"
      },
      "source": [
        "data.age.max()"
      ],
      "execution_count": null,
      "outputs": [
        {
          "output_type": "execute_result",
          "data": {
            "text/plain": [
              "78"
            ]
          },
          "metadata": {
            "tags": []
          },
          "execution_count": 62
        }
      ]
    },
    {
      "cell_type": "code",
      "metadata": {
        "id": "7jAIOpVAaC0-",
        "colab_type": "code",
        "colab": {
          "base_uri": "https://localhost:8080/",
          "height": 513
        },
        "outputId": "6e954cc8-d70d-4871-ee15-f9ce6ac05247"
      },
      "source": [
        "#Age distribution\n",
        "data[\"age\"].hist()\n",
        "plt.xlabel('Age')\n",
        "plt.ylabel('Count');"
      ],
      "execution_count": 22,
      "outputs": [
        {
          "output_type": "display_data",
          "data": {
            "image/png": "[encoded data removed]",
            "text/plain": [
              "<Figure size 864x576 with 1 Axes>"
            ]
          },
          "metadata": {
            "tags": [],
            "needs_background": "light"
          }
        }
      ]
    },
    {
      "cell_type": "markdown",
      "metadata": {
        "id": "SD5kobO_hDGK",
        "colab_type": "text"
      },
      "source": [
        "### Age distribution shows normal distribution"
      ]
    },
    {
      "cell_type": "code",
      "metadata": {
        "id": "uBuH_22LR3vy",
        "colab_type": "code",
        "colab": {}
      },
      "source": [
        "# pd.set_option(\"display.max_columns\",None)\n",
        "# pd.set_option(\"display.max_rows\",None)"
      ],
      "execution_count": null,
      "outputs": []
    },
    {
      "cell_type": "code",
      "metadata": {
        "id": "95CXT5l0SF3p",
        "colab_type": "code",
        "colab": {}
      },
      "source": [
        "# data.columns[data.dtypes=='O'].nunique()"
      ],
      "execution_count": null,
      "outputs": []
    },
    {
      "cell_type": "code",
      "metadata": {
        "id": "ruwCt0lWiEwW",
        "colab_type": "code",
        "colab": {
          "base_uri": "https://localhost:8080/",
          "height": 458
        },
        "outputId": "5df78cac-5ff7-489f-f66b-9f904ecebdfa"
      },
      "source": [
        "(data.sex.value_counts()/len(data)).plot(kind = \"barh\", figsize =(10,7), color = \"green\")\n",
        "plt.xlabel(\"Ratio\")\n",
        "plt.ylabel(\"Male(1) or Female(2)\");"
      ],
      "execution_count": 23,
      "outputs": [
        {
          "output_type": "display_data",
          "data": {
            "image/png": "[encoded data removed]",
            "text/plain": [
              "<Figure size 720x504 with 1 Axes>"
            ]
          },
          "metadata": {
            "tags": [],
            "needs_background": "light"
          }
        }
      ]
    },
    {
      "cell_type": "markdown",
      "metadata": {
        "id": "MZcGVd-Mi66R",
        "colab_type": "text"
      },
      "source": [
        "#### There are about 80% more male than female"
      ]
    },
    {
      "cell_type": "code",
      "metadata": {
        "id": "x7IqBZucjcDe",
        "colab_type": "code",
        "colab": {
          "base_uri": "https://localhost:8080/",
          "height": 308
        },
        "outputId": "e9e81cf9-0064-43f4-f2a2-a3b2b886eb4e"
      },
      "source": [
        "# descriptive statistics\n",
        "data.describe()"
      ],
      "execution_count": null,
      "outputs": [
        {
          "output_type": "execute_result",
          "data": {
            "text/html": [
              "<div>\n",
              "<style scoped>\n",
              "    .dataframe tbody tr th:only-of-type {\n",
              "        vertical-align: middle;\n",
              "    }\n",
              "\n",
              "    .dataframe tbody tr th {\n",
              "        vertical-align: top;\n",
              "    }\n",
              "\n",
              "    .dataframe thead th {\n",
              "        text-align: right;\n",
              "    }\n",
              "</style>\n",
              "<table border=\"1\" class=\"dataframe\">\n",
              "  <thead>\n",
              "    <tr style=\"text-align: right;\">\n",
              "      <th></th>\n",
              "      <th>class</th>\n",
              "      <th>age</th>\n",
              "      <th>sex</th>\n",
              "      <th>steroid</th>\n",
              "      <th>antivirals</th>\n",
              "      <th>fatigue</th>\n",
              "      <th>malaise</th>\n",
              "      <th>anorexia</th>\n",
              "      <th>liver_big</th>\n",
              "      <th>liver_firm</th>\n",
              "      <th>spleen_palpable</th>\n",
              "      <th>spiders</th>\n",
              "      <th>ascites</th>\n",
              "      <th>varices</th>\n",
              "      <th>bilirubin</th>\n",
              "      <th>alk_phosphate</th>\n",
              "      <th>sgot</th>\n",
              "      <th>albumin</th>\n",
              "      <th>protime</th>\n",
              "      <th>histology</th>\n",
              "    </tr>\n",
              "  </thead>\n",
              "  <tbody>\n",
              "    <tr>\n",
              "      <th>count</th>\n",
              "      <td>154.000000</td>\n",
              "      <td>154.000000</td>\n",
              "      <td>154.000000</td>\n",
              "      <td>154.000000</td>\n",
              "      <td>154.000000</td>\n",
              "      <td>154.000000</td>\n",
              "      <td>154.000000</td>\n",
              "      <td>154.000000</td>\n",
              "      <td>154.000000</td>\n",
              "      <td>154.000000</td>\n",
              "      <td>154.000000</td>\n",
              "      <td>154.000000</td>\n",
              "      <td>154.000000</td>\n",
              "      <td>154.000000</td>\n",
              "      <td>154.000000</td>\n",
              "      <td>154.000000</td>\n",
              "      <td>154.000000</td>\n",
              "      <td>154.000000</td>\n",
              "      <td>154.000000</td>\n",
              "      <td>154.000000</td>\n",
              "    </tr>\n",
              "    <tr>\n",
              "      <th>mean</th>\n",
              "      <td>1.792208</td>\n",
              "      <td>41.272727</td>\n",
              "      <td>1.097403</td>\n",
              "      <td>1.500000</td>\n",
              "      <td>1.844156</td>\n",
              "      <td>1.337662</td>\n",
              "      <td>1.590909</td>\n",
              "      <td>1.779221</td>\n",
              "      <td>1.714286</td>\n",
              "      <td>1.467532</td>\n",
              "      <td>1.740260</td>\n",
              "      <td>1.603896</td>\n",
              "      <td>1.805195</td>\n",
              "      <td>1.818182</td>\n",
              "      <td>1.374675</td>\n",
              "      <td>85.623377</td>\n",
              "      <td>84.103896</td>\n",
              "      <td>3.419481</td>\n",
              "      <td>35.344156</td>\n",
              "      <td>1.454545</td>\n",
              "    </tr>\n",
              "    <tr>\n",
              "      <th>std</th>\n",
              "      <td>0.407051</td>\n",
              "      <td>12.574106</td>\n",
              "      <td>0.297473</td>\n",
              "      <td>0.514496</td>\n",
              "      <td>0.363891</td>\n",
              "      <td>0.488037</td>\n",
              "      <td>0.506347</td>\n",
              "      <td>0.431546</td>\n",
              "      <td>0.579771</td>\n",
              "      <td>0.627984</td>\n",
              "      <td>0.508814</td>\n",
              "      <td>0.553289</td>\n",
              "      <td>0.472484</td>\n",
              "      <td>0.463780</td>\n",
              "      <td>1.223600</td>\n",
              "      <td>62.264151</td>\n",
              "      <td>89.661686</td>\n",
              "      <td>1.321817</td>\n",
              "      <td>35.221870</td>\n",
              "      <td>0.499554</td>\n",
              "    </tr>\n",
              "    <tr>\n",
              "      <th>min</th>\n",
              "      <td>1.000000</td>\n",
              "      <td>7.000000</td>\n",
              "      <td>1.000000</td>\n",
              "      <td>0.000000</td>\n",
              "      <td>1.000000</td>\n",
              "      <td>0.000000</td>\n",
              "      <td>0.000000</td>\n",
              "      <td>0.000000</td>\n",
              "      <td>0.000000</td>\n",
              "      <td>0.000000</td>\n",
              "      <td>0.000000</td>\n",
              "      <td>0.000000</td>\n",
              "      <td>0.000000</td>\n",
              "      <td>0.000000</td>\n",
              "      <td>0.000000</td>\n",
              "      <td>0.000000</td>\n",
              "      <td>0.000000</td>\n",
              "      <td>0.000000</td>\n",
              "      <td>0.000000</td>\n",
              "      <td>1.000000</td>\n",
              "    </tr>\n",
              "    <tr>\n",
              "      <th>25%</th>\n",
              "      <td>2.000000</td>\n",
              "      <td>32.000000</td>\n",
              "      <td>1.000000</td>\n",
              "      <td>1.000000</td>\n",
              "      <td>2.000000</td>\n",
              "      <td>1.000000</td>\n",
              "      <td>1.000000</td>\n",
              "      <td>2.000000</td>\n",
              "      <td>2.000000</td>\n",
              "      <td>1.000000</td>\n",
              "      <td>2.000000</td>\n",
              "      <td>1.000000</td>\n",
              "      <td>2.000000</td>\n",
              "      <td>2.000000</td>\n",
              "      <td>0.700000</td>\n",
              "      <td>50.500000</td>\n",
              "      <td>31.000000</td>\n",
              "      <td>3.025000</td>\n",
              "      <td>0.000000</td>\n",
              "      <td>1.000000</td>\n",
              "    </tr>\n",
              "    <tr>\n",
              "      <th>50%</th>\n",
              "      <td>2.000000</td>\n",
              "      <td>39.000000</td>\n",
              "      <td>1.000000</td>\n",
              "      <td>2.000000</td>\n",
              "      <td>2.000000</td>\n",
              "      <td>1.000000</td>\n",
              "      <td>2.000000</td>\n",
              "      <td>2.000000</td>\n",
              "      <td>2.000000</td>\n",
              "      <td>2.000000</td>\n",
              "      <td>2.000000</td>\n",
              "      <td>2.000000</td>\n",
              "      <td>2.000000</td>\n",
              "      <td>2.000000</td>\n",
              "      <td>1.000000</td>\n",
              "      <td>83.000000</td>\n",
              "      <td>56.500000</td>\n",
              "      <td>3.900000</td>\n",
              "      <td>35.000000</td>\n",
              "      <td>1.000000</td>\n",
              "    </tr>\n",
              "    <tr>\n",
              "      <th>75%</th>\n",
              "      <td>2.000000</td>\n",
              "      <td>50.000000</td>\n",
              "      <td>1.000000</td>\n",
              "      <td>2.000000</td>\n",
              "      <td>2.000000</td>\n",
              "      <td>2.000000</td>\n",
              "      <td>2.000000</td>\n",
              "      <td>2.000000</td>\n",
              "      <td>2.000000</td>\n",
              "      <td>2.000000</td>\n",
              "      <td>2.000000</td>\n",
              "      <td>2.000000</td>\n",
              "      <td>2.000000</td>\n",
              "      <td>2.000000</td>\n",
              "      <td>1.500000</td>\n",
              "      <td>119.750000</td>\n",
              "      <td>99.500000</td>\n",
              "      <td>4.200000</td>\n",
              "      <td>65.500000</td>\n",
              "      <td>2.000000</td>\n",
              "    </tr>\n",
              "    <tr>\n",
              "      <th>max</th>\n",
              "      <td>2.000000</td>\n",
              "      <td>78.000000</td>\n",
              "      <td>2.000000</td>\n",
              "      <td>2.000000</td>\n",
              "      <td>2.000000</td>\n",
              "      <td>2.000000</td>\n",
              "      <td>2.000000</td>\n",
              "      <td>2.000000</td>\n",
              "      <td>2.000000</td>\n",
              "      <td>2.000000</td>\n",
              "      <td>2.000000</td>\n",
              "      <td>2.000000</td>\n",
              "      <td>2.000000</td>\n",
              "      <td>2.000000</td>\n",
              "      <td>8.000000</td>\n",
              "      <td>295.000000</td>\n",
              "      <td>648.000000</td>\n",
              "      <td>6.400000</td>\n",
              "      <td>100.000000</td>\n",
              "      <td>2.000000</td>\n",
              "    </tr>\n",
              "  </tbody>\n",
              "</table>\n",
              "</div>"
            ],
            "text/plain": [
              "            class         age         sex     steroid  antivirals     fatigue  \\\n",
              "count  154.000000  154.000000  154.000000  154.000000  154.000000  154.000000   \n",
              "mean     1.792208   41.272727    1.097403    1.500000    1.844156    1.337662   \n",
              "std      0.407051   12.574106    0.297473    0.514496    0.363891    0.488037   \n",
              "min      1.000000    7.000000    1.000000    0.000000    1.000000    0.000000   \n",
              "25%      2.000000   32.000000    1.000000    1.000000    2.000000    1.000000   \n",
              "50%      2.000000   39.000000    1.000000    2.000000    2.000000    1.000000   \n",
              "75%      2.000000   50.000000    1.000000    2.000000    2.000000    2.000000   \n",
              "max      2.000000   78.000000    2.000000    2.000000    2.000000    2.000000   \n",
              "\n",
              "          malaise    anorexia   liver_big  liver_firm  spleen_palpable  \\\n",
              "count  154.000000  154.000000  154.000000  154.000000       154.000000   \n",
              "mean     1.590909    1.779221    1.714286    1.467532         1.740260   \n",
              "std      0.506347    0.431546    0.579771    0.627984         0.508814   \n",
              "min      0.000000    0.000000    0.000000    0.000000         0.000000   \n",
              "25%      1.000000    2.000000    2.000000    1.000000         2.000000   \n",
              "50%      2.000000    2.000000    2.000000    2.000000         2.000000   \n",
              "75%      2.000000    2.000000    2.000000    2.000000         2.000000   \n",
              "max      2.000000    2.000000    2.000000    2.000000         2.000000   \n",
              "\n",
              "          spiders     ascites     varices   bilirubin  alk_phosphate  \\\n",
              "count  154.000000  154.000000  154.000000  154.000000     154.000000   \n",
              "mean     1.603896    1.805195    1.818182    1.374675      85.623377   \n",
              "std      0.553289    0.472484    0.463780    1.223600      62.264151   \n",
              "min      0.000000    0.000000    0.000000    0.000000       0.000000   \n",
              "25%      1.000000    2.000000    2.000000    0.700000      50.500000   \n",
              "50%      2.000000    2.000000    2.000000    1.000000      83.000000   \n",
              "75%      2.000000    2.000000    2.000000    1.500000     119.750000   \n",
              "max      2.000000    2.000000    2.000000    8.000000     295.000000   \n",
              "\n",
              "             sgot     albumin     protime   histology  \n",
              "count  154.000000  154.000000  154.000000  154.000000  \n",
              "mean    84.103896    3.419481   35.344156    1.454545  \n",
              "std     89.661686    1.321817   35.221870    0.499554  \n",
              "min      0.000000    0.000000    0.000000    1.000000  \n",
              "25%     31.000000    3.025000    0.000000    1.000000  \n",
              "50%     56.500000    3.900000   35.000000    1.000000  \n",
              "75%     99.500000    4.200000   65.500000    2.000000  \n",
              "max    648.000000    6.400000  100.000000    2.000000  "
            ]
          },
          "metadata": {
            "tags": []
          },
          "execution_count": 70
        }
      ]
    },
    {
      "cell_type": "code",
      "metadata": {
        "id": "M_OYrpI0kxK_",
        "colab_type": "code",
        "colab": {
          "base_uri": "https://localhost:8080/",
          "height": 399
        },
        "outputId": "1731ec8d-5ce4-4d39-c47c-65367d2e14c1"
      },
      "source": [
        "# Check features correlation with the target \n",
        "correlation = data.corr()\n",
        "correlation.iloc[:,0].sort_values(ascending = False)"
      ],
      "execution_count": null,
      "outputs": [
        {
          "output_type": "execute_result",
          "data": {
            "text/plain": [
              "class              1.000000\n",
              "ascites            0.331895\n",
              "spiders            0.328650\n",
              "malaise            0.314228\n",
              "albumin            0.295469\n",
              "fatigue            0.289698\n",
              "varices            0.248646\n",
              "spleen_palpable    0.179508\n",
              "sex                0.168242\n",
              "protime            0.158651\n",
              "liver_firm         0.152417\n",
              "steroid            0.124835\n",
              "anorexia           0.109207\n",
              "liver_big          0.106824\n",
              "alk_phosphate     -0.050816\n",
              "sgot              -0.054383\n",
              "antivirals        -0.131803\n",
              "age               -0.217434\n",
              "histology         -0.336033\n",
              "bilirubin         -0.423997\n",
              "Name: class, dtype: float64"
            ]
          },
          "metadata": {
            "tags": []
          },
          "execution_count": 76
        }
      ]
    },
    {
      "cell_type": "code",
      "metadata": {
        "id": "hdMq32hblncf",
        "colab_type": "code",
        "colab": {
          "base_uri": "https://localhost:8080/",
          "height": 627
        },
        "outputId": "c478d411-c102-4ad6-e17b-f0db578fd9cd"
      },
      "source": [
        "# heatmap to highlight correction between features and the target\n",
        "_= sns.heatmap(data[list(data.columns)].corr(), cmap='RdBu', annot= False)"
      ],
      "execution_count": null,
      "outputs": [
        {
          "output_type": "display_data",
          "data": {
            "image/png": "[encoded data removed]",
            "text/plain": [
              "<Figure size 864x576 with 2 Axes>"
            ]
          },
          "metadata": {
            "tags": [],
            "needs_background": "light"
          }
        }
      ]
    },
    {
      "cell_type": "code",
      "metadata": {
        "id": "Vgi0jY5m0pbu",
        "colab_type": "code",
        "colab": {}
      },
      "source": [
        "labels = [\"Less than 10\",\"10-20\",\"20-30\",\"30-40\",\"40-50\",\"50-60\",\"60-70\",\"70 and more\"]\n",
        "databy_age = pd.cut(\n",
        "        data[\"age\"], bins = 8, labels = labels\n",
        "    )"
      ],
      "execution_count": null,
      "outputs": []
    },
    {
      "cell_type": "code",
      "metadata": {
        "id": "DyCioO_c1Phd",
        "colab_type": "code",
        "colab": {
          "base_uri": "https://localhost:8080/",
          "height": 181
        },
        "outputId": "a03bd66a-2e84-416f-e4e7-f6609c0fce50"
      },
      "source": [
        "databy_age.value_counts()/len(data)"
      ],
      "execution_count": null,
      "outputs": [
        {
          "output_type": "execute_result",
          "data": {
            "text/plain": [
              "30-40           0.305195\n",
              "40-50           0.214286\n",
              "20-30           0.201299\n",
              "50-60           0.116883\n",
              "10-20           0.071429\n",
              "60-70           0.064935\n",
              "70 and more     0.019481\n",
              "Less than 10    0.006494\n",
              "Name: age, dtype: float64"
            ]
          },
          "metadata": {
            "tags": []
          },
          "execution_count": 14
        }
      ]
    },
    {
      "cell_type": "code",
      "metadata": {
        "id": "ryDMIttk3I4r",
        "colab_type": "code",
        "colab": {
          "base_uri": "https://localhost:8080/",
          "height": 610
        },
        "outputId": "ab1d9d9c-63a2-42ca-9136-0aeb1e9c8bd3"
      },
      "source": [
        "(databy_age.value_counts()/len(data)).plot(kind=\"bar\")\n",
        "plt.xlabel(\"Age\")\n",
        "plt.ylabel(\"percentage\");"
      ],
      "execution_count": null,
      "outputs": [
        {
          "output_type": "display_data",
          "data": {
            "image/png": "[encoded data removed]",
            "text/plain": [
              "<Figure size 864x576 with 1 Axes>"
            ]
          },
          "metadata": {
            "tags": [],
            "needs_background": "light"
          }
        }
      ]
    },
    {
      "cell_type": "code",
      "metadata": {
        "id": "dYJJ7Zhx_r1G",
        "colab_type": "code",
        "colab": {
          "base_uri": "https://localhost:8080/",
          "height": 381
        },
        "outputId": "3965df6d-840b-4dc7-ef24-e809ac7b475d"
      },
      "source": [
        "list(data.columns)"
      ],
      "execution_count": null,
      "outputs": [
        {
          "output_type": "execute_result",
          "data": {
            "text/plain": [
              "['class',\n",
              " 'age',\n",
              " 'sex',\n",
              " 'steroid',\n",
              " 'antivirals',\n",
              " 'fatigue',\n",
              " 'malaise',\n",
              " 'anorexia',\n",
              " 'liver_big',\n",
              " 'liver_firm',\n",
              " 'spleen_palpable',\n",
              " 'spiders',\n",
              " 'ascites',\n",
              " 'varices',\n",
              " 'bilirubin',\n",
              " 'alk_phosphate',\n",
              " 'sgot',\n",
              " 'albumin',\n",
              " 'protime',\n",
              " 'histology']"
            ]
          },
          "metadata": {
            "tags": []
          },
          "execution_count": 120
        }
      ]
    },
    {
      "cell_type": "code",
      "metadata": {
        "id": "-iQzrAME_L-Y",
        "colab_type": "code",
        "colab": {
          "base_uri": "https://localhost:8080/",
          "height": 712
        },
        "outputId": "22e7d9ea-2d6c-4369-cd40-4897ca7a002b"
      },
      "source": [
        "grid = sns.FacetGrid(data[[\"age\", \"bilirubin\", \"sex\"]], hue=\"sex\", size = 10)\n",
        "grid.map(plt.scatter,\"age\",\"bilirubin\").add_legend();"
      ],
      "execution_count": null,
      "outputs": [
        {
          "output_type": "display_data",
          "data": {
            "image/png": "[encoded data removed]",
            "text/plain": [
              "<Figure size 796.3x720 with 1 Axes>"
            ]
          },
          "metadata": {
            "tags": [],
            "needs_background": "light"
          }
        }
      ]
    },
    {
      "cell_type": "code",
      "metadata": {
        "id": "VyXwKcb593DQ",
        "colab_type": "code",
        "colab": {
          "base_uri": "https://localhost:8080/",
          "height": 513
        },
        "outputId": "acb73a18-b35c-4d83-f73c-788da6be65fb"
      },
      "source": [
        "## Checking for outlier\n",
        "sns.boxplot(data.age);"
      ],
      "execution_count": null,
      "outputs": [
        {
          "output_type": "display_data",
          "data": {
            "image/png": "[encoded data removed]",
            "text/plain": [
              "<Figure size 864x576 with 1 Axes>"
            ]
          },
          "metadata": {
            "tags": [],
            "needs_background": "light"
          }
        }
      ]
    },
    {
      "cell_type": "code",
      "metadata": {
        "id": "-zxmk3NHFwl0",
        "colab_type": "code",
        "colab": {
          "base_uri": "https://localhost:8080/",
          "height": 399
        },
        "outputId": "a2d9f063-5072-4229-a8a1-040d52019252"
      },
      "source": [
        "q1 = data.quantile(0.25)\n",
        "q3 = data.quantile(0.75)\n",
        "IQR = q3 - q1\n",
        "print(IQR)"
      ],
      "execution_count": null,
      "outputs": [
        {
          "output_type": "stream",
          "text": [
            "class               0.000\n",
            "age                18.000\n",
            "sex                 0.000\n",
            "steroid             1.000\n",
            "antivirals          0.000\n",
            "fatigue             1.000\n",
            "malaise             1.000\n",
            "anorexia            0.000\n",
            "liver_big           0.000\n",
            "liver_firm          1.000\n",
            "spleen_palpable     0.000\n",
            "spiders             1.000\n",
            "ascites             0.000\n",
            "varices             0.000\n",
            "bilirubin           0.800\n",
            "alk_phosphate      69.250\n",
            "sgot               68.500\n",
            "albumin             1.175\n",
            "protime            65.500\n",
            "histology           1.000\n",
            "dtype: float64\n"
          ],
          "name": "stdout"
        }
      ]
    },
    {
      "cell_type": "code",
      "metadata": {
        "id": "yve8BOgNGyyH",
        "colab_type": "code",
        "colab": {
          "base_uri": "https://localhost:8080/",
          "height": 399
        },
        "outputId": "1b00477f-17b5-4e47-c1d1-75948e8b4295"
      },
      "source": [
        "# No of outliers per column\n",
        "((data < (q1 -1.5 * IQR)) | (data >(q3 + 1.5 * IQR))).sum()"
      ],
      "execution_count": null,
      "outputs": [
        {
          "output_type": "execute_result",
          "data": {
            "text/plain": [
              "class              32\n",
              "age                 1\n",
              "sex                15\n",
              "steroid             0\n",
              "antivirals         24\n",
              "fatigue             0\n",
              "malaise             0\n",
              "anorexia           33\n",
              "liver_big          34\n",
              "liver_firm          0\n",
              "spleen_palpable    35\n",
              "spiders             0\n",
              "ascites            25\n",
              "varices            23\n",
              "bilirubin          17\n",
              "alk_phosphate       5\n",
              "sgot               13\n",
              "albumin            17\n",
              "protime             0\n",
              "histology           0\n",
              "dtype: int64"
            ]
          },
          "metadata": {
            "tags": []
          },
          "execution_count": 20
        }
      ]
    },
    {
      "cell_type": "code",
      "metadata": {
        "id": "dI3JeQg5jot7",
        "colab_type": "code",
        "colab": {
          "base_uri": "https://localhost:8080/",
          "height": 363
        },
        "outputId": "98d9b063-6568-4db2-e2e1-e35208ad6f75"
      },
      "source": [
        "features = [col for col in data.columns if col not in \"class\"]\n",
        "features"
      ],
      "execution_count": 26,
      "outputs": [
        {
          "output_type": "execute_result",
          "data": {
            "text/plain": [
              "['age',\n",
              " 'sex',\n",
              " 'steroid',\n",
              " 'antivirals',\n",
              " 'fatigue',\n",
              " 'malaise',\n",
              " 'anorexia',\n",
              " 'liver_big',\n",
              " 'liver_firm',\n",
              " 'spleen_palpable',\n",
              " 'spiders',\n",
              " 'ascites',\n",
              " 'varices',\n",
              " 'bilirubin',\n",
              " 'alk_phosphate',\n",
              " 'sgot',\n",
              " 'albumin',\n",
              " 'protime',\n",
              " 'histology']"
            ]
          },
          "metadata": {
            "tags": []
          },
          "execution_count": 26
        }
      ]
    },
    {
      "cell_type": "code",
      "metadata": {
        "id": "b75cMvH8I_Ux",
        "colab_type": "code",
        "colab": {
          "base_uri": "https://localhost:8080/",
          "height": 668
        },
        "outputId": "8cf3c876-f06d-441f-88c9-05cef8d1e27c"
      },
      "source": [
        "# Remove outliers\n",
        "data_no_outlier = (data[~((data[features] < (q1 -1.5 * IQR)) | (data[features] >(q3 + 1.5 * IQR))).any(axis=1)]).reset_index(drop = True)\n",
        "data_no_outlier.head(20)"
      ],
      "execution_count": null,
      "outputs": [
        {
          "output_type": "execute_result",
          "data": {
            "text/html": [
              "<div>\n",
              "<style scoped>\n",
              "    .dataframe tbody tr th:only-of-type {\n",
              "        vertical-align: middle;\n",
              "    }\n",
              "\n",
              "    .dataframe tbody tr th {\n",
              "        vertical-align: top;\n",
              "    }\n",
              "\n",
              "    .dataframe thead th {\n",
              "        text-align: right;\n",
              "    }\n",
              "</style>\n",
              "<table border=\"1\" class=\"dataframe\">\n",
              "  <thead>\n",
              "    <tr style=\"text-align: right;\">\n",
              "      <th></th>\n",
              "      <th>class</th>\n",
              "      <th>age</th>\n",
              "      <th>sex</th>\n",
              "      <th>steroid</th>\n",
              "      <th>antivirals</th>\n",
              "      <th>fatigue</th>\n",
              "      <th>malaise</th>\n",
              "      <th>anorexia</th>\n",
              "      <th>liver_big</th>\n",
              "      <th>liver_firm</th>\n",
              "      <th>spleen_palpable</th>\n",
              "      <th>spiders</th>\n",
              "      <th>ascites</th>\n",
              "      <th>varices</th>\n",
              "      <th>bilirubin</th>\n",
              "      <th>alk_phosphate</th>\n",
              "      <th>sgot</th>\n",
              "      <th>albumin</th>\n",
              "      <th>protime</th>\n",
              "      <th>histology</th>\n",
              "    </tr>\n",
              "  </thead>\n",
              "  <tbody>\n",
              "    <tr>\n",
              "      <th>0</th>\n",
              "      <td>2</td>\n",
              "      <td>30</td>\n",
              "      <td>1</td>\n",
              "      <td>1</td>\n",
              "      <td>2</td>\n",
              "      <td>2</td>\n",
              "      <td>2</td>\n",
              "      <td>2</td>\n",
              "      <td>2</td>\n",
              "      <td>2</td>\n",
              "      <td>2</td>\n",
              "      <td>2</td>\n",
              "      <td>2</td>\n",
              "      <td>2</td>\n",
              "      <td>0.7</td>\n",
              "      <td>100</td>\n",
              "      <td>31</td>\n",
              "      <td>4.0</td>\n",
              "      <td>100</td>\n",
              "      <td>1</td>\n",
              "    </tr>\n",
              "    <tr>\n",
              "      <th>1</th>\n",
              "      <td>2</td>\n",
              "      <td>42</td>\n",
              "      <td>1</td>\n",
              "      <td>2</td>\n",
              "      <td>2</td>\n",
              "      <td>2</td>\n",
              "      <td>2</td>\n",
              "      <td>2</td>\n",
              "      <td>2</td>\n",
              "      <td>2</td>\n",
              "      <td>2</td>\n",
              "      <td>2</td>\n",
              "      <td>2</td>\n",
              "      <td>2</td>\n",
              "      <td>0.9</td>\n",
              "      <td>60</td>\n",
              "      <td>63</td>\n",
              "      <td>4.7</td>\n",
              "      <td>47</td>\n",
              "      <td>1</td>\n",
              "    </tr>\n",
              "    <tr>\n",
              "      <th>2</th>\n",
              "      <td>2</td>\n",
              "      <td>33</td>\n",
              "      <td>1</td>\n",
              "      <td>2</td>\n",
              "      <td>2</td>\n",
              "      <td>2</td>\n",
              "      <td>2</td>\n",
              "      <td>2</td>\n",
              "      <td>2</td>\n",
              "      <td>2</td>\n",
              "      <td>2</td>\n",
              "      <td>2</td>\n",
              "      <td>2</td>\n",
              "      <td>2</td>\n",
              "      <td>1.0</td>\n",
              "      <td>46</td>\n",
              "      <td>90</td>\n",
              "      <td>4.4</td>\n",
              "      <td>60</td>\n",
              "      <td>1</td>\n",
              "    </tr>\n",
              "    <tr>\n",
              "      <th>3</th>\n",
              "      <td>2</td>\n",
              "      <td>40</td>\n",
              "      <td>1</td>\n",
              "      <td>1</td>\n",
              "      <td>2</td>\n",
              "      <td>1</td>\n",
              "      <td>2</td>\n",
              "      <td>2</td>\n",
              "      <td>2</td>\n",
              "      <td>1</td>\n",
              "      <td>2</td>\n",
              "      <td>2</td>\n",
              "      <td>2</td>\n",
              "      <td>2</td>\n",
              "      <td>0.6</td>\n",
              "      <td>62</td>\n",
              "      <td>166</td>\n",
              "      <td>4.0</td>\n",
              "      <td>63</td>\n",
              "      <td>1</td>\n",
              "    </tr>\n",
              "    <tr>\n",
              "      <th>4</th>\n",
              "      <td>2</td>\n",
              "      <td>30</td>\n",
              "      <td>1</td>\n",
              "      <td>1</td>\n",
              "      <td>2</td>\n",
              "      <td>1</td>\n",
              "      <td>1</td>\n",
              "      <td>2</td>\n",
              "      <td>2</td>\n",
              "      <td>1</td>\n",
              "      <td>2</td>\n",
              "      <td>1</td>\n",
              "      <td>2</td>\n",
              "      <td>2</td>\n",
              "      <td>0.8</td>\n",
              "      <td>147</td>\n",
              "      <td>128</td>\n",
              "      <td>3.9</td>\n",
              "      <td>100</td>\n",
              "      <td>2</td>\n",
              "    </tr>\n",
              "    <tr>\n",
              "      <th>5</th>\n",
              "      <td>2</td>\n",
              "      <td>30</td>\n",
              "      <td>1</td>\n",
              "      <td>2</td>\n",
              "      <td>2</td>\n",
              "      <td>2</td>\n",
              "      <td>2</td>\n",
              "      <td>2</td>\n",
              "      <td>2</td>\n",
              "      <td>2</td>\n",
              "      <td>2</td>\n",
              "      <td>2</td>\n",
              "      <td>2</td>\n",
              "      <td>2</td>\n",
              "      <td>1.0</td>\n",
              "      <td>0</td>\n",
              "      <td>120</td>\n",
              "      <td>3.9</td>\n",
              "      <td>0</td>\n",
              "      <td>1</td>\n",
              "    </tr>\n",
              "    <tr>\n",
              "      <th>6</th>\n",
              "      <td>2</td>\n",
              "      <td>32</td>\n",
              "      <td>1</td>\n",
              "      <td>2</td>\n",
              "      <td>2</td>\n",
              "      <td>2</td>\n",
              "      <td>2</td>\n",
              "      <td>2</td>\n",
              "      <td>2</td>\n",
              "      <td>2</td>\n",
              "      <td>2</td>\n",
              "      <td>2</td>\n",
              "      <td>2</td>\n",
              "      <td>2</td>\n",
              "      <td>0.7</td>\n",
              "      <td>102</td>\n",
              "      <td>64</td>\n",
              "      <td>4.0</td>\n",
              "      <td>90</td>\n",
              "      <td>1</td>\n",
              "    </tr>\n",
              "    <tr>\n",
              "      <th>7</th>\n",
              "      <td>2</td>\n",
              "      <td>49</td>\n",
              "      <td>1</td>\n",
              "      <td>2</td>\n",
              "      <td>2</td>\n",
              "      <td>1</td>\n",
              "      <td>1</td>\n",
              "      <td>2</td>\n",
              "      <td>2</td>\n",
              "      <td>2</td>\n",
              "      <td>2</td>\n",
              "      <td>2</td>\n",
              "      <td>2</td>\n",
              "      <td>2</td>\n",
              "      <td>0.8</td>\n",
              "      <td>103</td>\n",
              "      <td>43</td>\n",
              "      <td>3.5</td>\n",
              "      <td>66</td>\n",
              "      <td>1</td>\n",
              "    </tr>\n",
              "    <tr>\n",
              "      <th>8</th>\n",
              "      <td>2</td>\n",
              "      <td>24</td>\n",
              "      <td>1</td>\n",
              "      <td>1</td>\n",
              "      <td>2</td>\n",
              "      <td>1</td>\n",
              "      <td>2</td>\n",
              "      <td>2</td>\n",
              "      <td>2</td>\n",
              "      <td>2</td>\n",
              "      <td>2</td>\n",
              "      <td>2</td>\n",
              "      <td>2</td>\n",
              "      <td>2</td>\n",
              "      <td>1.0</td>\n",
              "      <td>0</td>\n",
              "      <td>34</td>\n",
              "      <td>4.1</td>\n",
              "      <td>0</td>\n",
              "      <td>2</td>\n",
              "    </tr>\n",
              "    <tr>\n",
              "      <th>9</th>\n",
              "      <td>2</td>\n",
              "      <td>52</td>\n",
              "      <td>1</td>\n",
              "      <td>1</td>\n",
              "      <td>2</td>\n",
              "      <td>1</td>\n",
              "      <td>2</td>\n",
              "      <td>2</td>\n",
              "      <td>2</td>\n",
              "      <td>2</td>\n",
              "      <td>2</td>\n",
              "      <td>2</td>\n",
              "      <td>2</td>\n",
              "      <td>2</td>\n",
              "      <td>1.0</td>\n",
              "      <td>85</td>\n",
              "      <td>30</td>\n",
              "      <td>4.0</td>\n",
              "      <td>0</td>\n",
              "      <td>2</td>\n",
              "    </tr>\n",
              "    <tr>\n",
              "      <th>10</th>\n",
              "      <td>2</td>\n",
              "      <td>31</td>\n",
              "      <td>1</td>\n",
              "      <td>1</td>\n",
              "      <td>2</td>\n",
              "      <td>1</td>\n",
              "      <td>2</td>\n",
              "      <td>2</td>\n",
              "      <td>2</td>\n",
              "      <td>2</td>\n",
              "      <td>2</td>\n",
              "      <td>2</td>\n",
              "      <td>2</td>\n",
              "      <td>2</td>\n",
              "      <td>1.2</td>\n",
              "      <td>75</td>\n",
              "      <td>173</td>\n",
              "      <td>4.2</td>\n",
              "      <td>54</td>\n",
              "      <td>2</td>\n",
              "    </tr>\n",
              "    <tr>\n",
              "      <th>11</th>\n",
              "      <td>2</td>\n",
              "      <td>42</td>\n",
              "      <td>1</td>\n",
              "      <td>1</td>\n",
              "      <td>2</td>\n",
              "      <td>2</td>\n",
              "      <td>2</td>\n",
              "      <td>2</td>\n",
              "      <td>2</td>\n",
              "      <td>2</td>\n",
              "      <td>2</td>\n",
              "      <td>2</td>\n",
              "      <td>2</td>\n",
              "      <td>2</td>\n",
              "      <td>1.0</td>\n",
              "      <td>85</td>\n",
              "      <td>14</td>\n",
              "      <td>4.0</td>\n",
              "      <td>100</td>\n",
              "      <td>1</td>\n",
              "    </tr>\n",
              "    <tr>\n",
              "      <th>12</th>\n",
              "      <td>2</td>\n",
              "      <td>36</td>\n",
              "      <td>1</td>\n",
              "      <td>2</td>\n",
              "      <td>2</td>\n",
              "      <td>2</td>\n",
              "      <td>2</td>\n",
              "      <td>2</td>\n",
              "      <td>2</td>\n",
              "      <td>2</td>\n",
              "      <td>2</td>\n",
              "      <td>2</td>\n",
              "      <td>2</td>\n",
              "      <td>2</td>\n",
              "      <td>0.6</td>\n",
              "      <td>120</td>\n",
              "      <td>30</td>\n",
              "      <td>4.0</td>\n",
              "      <td>0</td>\n",
              "      <td>2</td>\n",
              "    </tr>\n",
              "    <tr>\n",
              "      <th>13</th>\n",
              "      <td>2</td>\n",
              "      <td>54</td>\n",
              "      <td>1</td>\n",
              "      <td>2</td>\n",
              "      <td>2</td>\n",
              "      <td>2</td>\n",
              "      <td>2</td>\n",
              "      <td>2</td>\n",
              "      <td>2</td>\n",
              "      <td>2</td>\n",
              "      <td>2</td>\n",
              "      <td>2</td>\n",
              "      <td>2</td>\n",
              "      <td>2</td>\n",
              "      <td>1.0</td>\n",
              "      <td>85</td>\n",
              "      <td>30</td>\n",
              "      <td>4.5</td>\n",
              "      <td>0</td>\n",
              "      <td>2</td>\n",
              "    </tr>\n",
              "    <tr>\n",
              "      <th>14</th>\n",
              "      <td>2</td>\n",
              "      <td>35</td>\n",
              "      <td>1</td>\n",
              "      <td>2</td>\n",
              "      <td>2</td>\n",
              "      <td>1</td>\n",
              "      <td>2</td>\n",
              "      <td>2</td>\n",
              "      <td>2</td>\n",
              "      <td>2</td>\n",
              "      <td>2</td>\n",
              "      <td>2</td>\n",
              "      <td>2</td>\n",
              "      <td>2</td>\n",
              "      <td>0.9</td>\n",
              "      <td>58</td>\n",
              "      <td>92</td>\n",
              "      <td>4.3</td>\n",
              "      <td>73</td>\n",
              "      <td>1</td>\n",
              "    </tr>\n",
              "    <tr>\n",
              "      <th>15</th>\n",
              "      <td>2</td>\n",
              "      <td>44</td>\n",
              "      <td>1</td>\n",
              "      <td>2</td>\n",
              "      <td>2</td>\n",
              "      <td>1</td>\n",
              "      <td>2</td>\n",
              "      <td>2</td>\n",
              "      <td>2</td>\n",
              "      <td>1</td>\n",
              "      <td>2</td>\n",
              "      <td>2</td>\n",
              "      <td>2</td>\n",
              "      <td>2</td>\n",
              "      <td>0.9</td>\n",
              "      <td>126</td>\n",
              "      <td>142</td>\n",
              "      <td>4.3</td>\n",
              "      <td>0</td>\n",
              "      <td>2</td>\n",
              "    </tr>\n",
              "    <tr>\n",
              "      <th>16</th>\n",
              "      <td>2</td>\n",
              "      <td>37</td>\n",
              "      <td>1</td>\n",
              "      <td>1</td>\n",
              "      <td>2</td>\n",
              "      <td>2</td>\n",
              "      <td>2</td>\n",
              "      <td>2</td>\n",
              "      <td>2</td>\n",
              "      <td>1</td>\n",
              "      <td>2</td>\n",
              "      <td>1</td>\n",
              "      <td>2</td>\n",
              "      <td>2</td>\n",
              "      <td>0.6</td>\n",
              "      <td>80</td>\n",
              "      <td>80</td>\n",
              "      <td>3.8</td>\n",
              "      <td>0</td>\n",
              "      <td>1</td>\n",
              "    </tr>\n",
              "    <tr>\n",
              "      <th>17</th>\n",
              "      <td>2</td>\n",
              "      <td>28</td>\n",
              "      <td>1</td>\n",
              "      <td>2</td>\n",
              "      <td>2</td>\n",
              "      <td>1</td>\n",
              "      <td>1</td>\n",
              "      <td>2</td>\n",
              "      <td>2</td>\n",
              "      <td>2</td>\n",
              "      <td>2</td>\n",
              "      <td>2</td>\n",
              "      <td>2</td>\n",
              "      <td>2</td>\n",
              "      <td>0.7</td>\n",
              "      <td>74</td>\n",
              "      <td>110</td>\n",
              "      <td>4.4</td>\n",
              "      <td>0</td>\n",
              "      <td>1</td>\n",
              "    </tr>\n",
              "    <tr>\n",
              "      <th>18</th>\n",
              "      <td>2</td>\n",
              "      <td>37</td>\n",
              "      <td>1</td>\n",
              "      <td>2</td>\n",
              "      <td>2</td>\n",
              "      <td>2</td>\n",
              "      <td>2</td>\n",
              "      <td>2</td>\n",
              "      <td>2</td>\n",
              "      <td>2</td>\n",
              "      <td>2</td>\n",
              "      <td>2</td>\n",
              "      <td>2</td>\n",
              "      <td>2</td>\n",
              "      <td>0.7</td>\n",
              "      <td>26</td>\n",
              "      <td>58</td>\n",
              "      <td>4.5</td>\n",
              "      <td>100</td>\n",
              "      <td>1</td>\n",
              "    </tr>\n",
              "    <tr>\n",
              "      <th>19</th>\n",
              "      <td>2</td>\n",
              "      <td>34</td>\n",
              "      <td>1</td>\n",
              "      <td>2</td>\n",
              "      <td>2</td>\n",
              "      <td>2</td>\n",
              "      <td>2</td>\n",
              "      <td>2</td>\n",
              "      <td>2</td>\n",
              "      <td>2</td>\n",
              "      <td>2</td>\n",
              "      <td>2</td>\n",
              "      <td>2</td>\n",
              "      <td>2</td>\n",
              "      <td>0.9</td>\n",
              "      <td>95</td>\n",
              "      <td>28</td>\n",
              "      <td>4.0</td>\n",
              "      <td>75</td>\n",
              "      <td>1</td>\n",
              "    </tr>\n",
              "  </tbody>\n",
              "</table>\n",
              "</div>"
            ],
            "text/plain": [
              "    class  age  sex  steroid  ...  sgot  albumin  protime  histology\n",
              "0       2   30    1        1  ...    31      4.0      100          1\n",
              "1       2   42    1        2  ...    63      4.7       47          1\n",
              "2       2   33    1        2  ...    90      4.4       60          1\n",
              "3       2   40    1        1  ...   166      4.0       63          1\n",
              "4       2   30    1        1  ...   128      3.9      100          2\n",
              "5       2   30    1        2  ...   120      3.9        0          1\n",
              "6       2   32    1        2  ...    64      4.0       90          1\n",
              "7       2   49    1        2  ...    43      3.5       66          1\n",
              "8       2   24    1        1  ...    34      4.1        0          2\n",
              "9       2   52    1        1  ...    30      4.0        0          2\n",
              "10      2   31    1        1  ...   173      4.2       54          2\n",
              "11      2   42    1        1  ...    14      4.0      100          1\n",
              "12      2   36    1        2  ...    30      4.0        0          2\n",
              "13      2   54    1        2  ...    30      4.5        0          2\n",
              "14      2   35    1        2  ...    92      4.3       73          1\n",
              "15      2   44    1        2  ...   142      4.3        0          2\n",
              "16      2   37    1        1  ...    80      3.8        0          1\n",
              "17      2   28    1        2  ...   110      4.4        0          1\n",
              "18      2   37    1        2  ...    58      4.5      100          1\n",
              "19      2   34    1        2  ...    28      4.0       75          1\n",
              "\n",
              "[20 rows x 20 columns]"
            ]
          },
          "metadata": {
            "tags": []
          },
          "execution_count": 25
        }
      ]
    },
    {
      "cell_type": "code",
      "metadata": {
        "id": "cSSAtM2gjnW3",
        "colab_type": "code",
        "colab": {}
      },
      "source": [
        ""
      ],
      "execution_count": null,
      "outputs": []
    },
    {
      "cell_type": "code",
      "metadata": {
        "id": "phiuWv__IGio",
        "colab_type": "code",
        "colab": {}
      },
      "source": [
        "#data_no_outlier = data[~((data < (q1 -1.5 * IQR)) | (data >(q3 + 1.5 * IQR))).any(axis=1)]\n",
        "#data_no_outlier.head(20)"
      ],
      "execution_count": null,
      "outputs": []
    },
    {
      "cell_type": "code",
      "metadata": {
        "id": "IqaYhdA8K8kT",
        "colab_type": "code",
        "colab": {
          "base_uri": "https://localhost:8080/",
          "height": 713
        },
        "outputId": "8fb9023d-8592-4228-fe39-e951ad4cfe99"
      },
      "source": [
        "mpl.rcParams['figure.figsize'] = [15, 12]\n",
        "mpl.rcParams['grid.color'] = 'k'\n",
        "mpl.rcParams['grid.linestyle'] = ':'\n",
        "mpl.rcParams.update({'font.size': 9})\n",
        "data.hist();"
      ],
      "execution_count": 29,
      "outputs": [
        {
          "output_type": "display_data",
          "data": {
            "image/png": "[encoded data removed]",
            "text/plain": [
              "<Figure size 1080x864 with 20 Axes>"
            ]
          },
          "metadata": {
            "tags": [],
            "needs_background": "light"
          }
        }
      ]
    },
    {
      "cell_type": "markdown",
      "metadata": {
        "id": "P83eTez2OmCJ",
        "colab_type": "text"
      },
      "source": [
        "## Data modelling"
      ]
    },
    {
      "cell_type": "code",
      "metadata": {
        "id": "Kamu4uuEUYel",
        "colab_type": "code",
        "colab": {}
      },
      "source": [
        "# from sklearn.datasets import load_breast_cancer\n",
        "# df = load_breast_cancer()\n",
        "# X = df.data\n",
        "# y= df.target\n",
        "# X_train, X_test, y_train, y_test = train_test_split(X, y,test_size=.5,random_state =123)\n",
        "# #clf = LazyClassifier(verbose=0,ignore_warnings=True, custom_metric=None)\n",
        "# print(X_train)\n",
        "# print(y_train)"
      ],
      "execution_count": null,
      "outputs": []
    },
    {
      "cell_type": "code",
      "metadata": {
        "id": "n1likq_CVgrH",
        "colab_type": "code",
        "colab": {}
      },
      "source": [
        "features_col = list(data.columns)[1:]\n",
        "target_col = [\"class\"] \n",
        "features = data[features_col]\n",
        "target = data[target_col]"
      ],
      "execution_count": 30,
      "outputs": []
    },
    {
      "cell_type": "code",
      "metadata": {
        "id": "U-qqRl-NTVn7",
        "colab_type": "code",
        "colab": {
          "base_uri": "https://localhost:8080/",
          "height": 906
        },
        "outputId": "ab53fb69-5799-4e5a-f584-136c280b3198"
      },
      "source": [
        "X_train, X_test, y_train, y_test = train_test_split(\n",
        "    features,target,test_size= 0.3,\n",
        "    stratify=target,random_state=42\n",
        "    )\n",
        "clf = LazyClassifier(verbose=0,ignore_warnings=True, custom_metric=None)\n",
        "models,predictions = clf.fit(X_train, X_test, y_train, y_test)\n",
        "models"
      ],
      "execution_count": 31,
      "outputs": [
        {
          "output_type": "stream",
          "text": [
            "100%|██████████| 30/30 [00:01<00:00, 26.26it/s]\n"
          ],
          "name": "stderr"
        },
        {
          "output_type": "execute_result",
          "data": {
            "text/html": [
              "<div>\n",
              "<style scoped>\n",
              "    .dataframe tbody tr th:only-of-type {\n",
              "        vertical-align: middle;\n",
              "    }\n",
              "\n",
              "    .dataframe tbody tr th {\n",
              "        vertical-align: top;\n",
              "    }\n",
              "\n",
              "    .dataframe thead th {\n",
              "        text-align: right;\n",
              "    }\n",
              "</style>\n",
              "<table border=\"1\" class=\"dataframe\">\n",
              "  <thead>\n",
              "    <tr style=\"text-align: right;\">\n",
              "      <th></th>\n",
              "      <th>Accuracy</th>\n",
              "      <th>Balanced Accuracy</th>\n",
              "      <th>ROC AUC</th>\n",
              "      <th>F1 Score</th>\n",
              "      <th>Time Taken</th>\n",
              "    </tr>\n",
              "    <tr>\n",
              "      <th>Model</th>\n",
              "      <th></th>\n",
              "      <th></th>\n",
              "      <th></th>\n",
              "      <th></th>\n",
              "      <th></th>\n",
              "    </tr>\n",
              "  </thead>\n",
              "  <tbody>\n",
              "    <tr>\n",
              "      <th>BernoulliNB</th>\n",
              "      <td>0.85</td>\n",
              "      <td>0.91</td>\n",
              "      <td>0.91</td>\n",
              "      <td>0.86</td>\n",
              "      <td>0.01</td>\n",
              "    </tr>\n",
              "    <tr>\n",
              "      <th>NearestCentroid</th>\n",
              "      <td>0.85</td>\n",
              "      <td>0.91</td>\n",
              "      <td>0.91</td>\n",
              "      <td>0.86</td>\n",
              "      <td>0.01</td>\n",
              "    </tr>\n",
              "    <tr>\n",
              "      <th>KNeighborsClassifier</th>\n",
              "      <td>0.81</td>\n",
              "      <td>0.77</td>\n",
              "      <td>0.77</td>\n",
              "      <td>0.82</td>\n",
              "      <td>0.03</td>\n",
              "    </tr>\n",
              "    <tr>\n",
              "      <th>ExtraTreeClassifier</th>\n",
              "      <td>0.81</td>\n",
              "      <td>0.73</td>\n",
              "      <td>0.73</td>\n",
              "      <td>0.81</td>\n",
              "      <td>0.02</td>\n",
              "    </tr>\n",
              "    <tr>\n",
              "      <th>LabelPropagation</th>\n",
              "      <td>0.79</td>\n",
              "      <td>0.72</td>\n",
              "      <td>0.72</td>\n",
              "      <td>0.79</td>\n",
              "      <td>0.02</td>\n",
              "    </tr>\n",
              "    <tr>\n",
              "      <th>LabelSpreading</th>\n",
              "      <td>0.79</td>\n",
              "      <td>0.72</td>\n",
              "      <td>0.72</td>\n",
              "      <td>0.79</td>\n",
              "      <td>0.02</td>\n",
              "    </tr>\n",
              "    <tr>\n",
              "      <th>BaggingClassifier</th>\n",
              "      <td>0.77</td>\n",
              "      <td>0.67</td>\n",
              "      <td>0.67</td>\n",
              "      <td>0.77</td>\n",
              "      <td>0.04</td>\n",
              "    </tr>\n",
              "    <tr>\n",
              "      <th>GaussianNB</th>\n",
              "      <td>0.47</td>\n",
              "      <td>0.66</td>\n",
              "      <td>0.66</td>\n",
              "      <td>0.48</td>\n",
              "      <td>0.02</td>\n",
              "    </tr>\n",
              "    <tr>\n",
              "      <th>DecisionTreeClassifier</th>\n",
              "      <td>0.81</td>\n",
              "      <td>0.66</td>\n",
              "      <td>0.66</td>\n",
              "      <td>0.80</td>\n",
              "      <td>0.02</td>\n",
              "    </tr>\n",
              "    <tr>\n",
              "      <th>SGDClassifier</th>\n",
              "      <td>0.74</td>\n",
              "      <td>0.66</td>\n",
              "      <td>0.66</td>\n",
              "      <td>0.75</td>\n",
              "      <td>0.02</td>\n",
              "    </tr>\n",
              "    <tr>\n",
              "      <th>QuadraticDiscriminantAnalysis</th>\n",
              "      <td>0.68</td>\n",
              "      <td>0.65</td>\n",
              "      <td>0.65</td>\n",
              "      <td>0.71</td>\n",
              "      <td>0.02</td>\n",
              "    </tr>\n",
              "    <tr>\n",
              "      <th>RandomForestClassifier</th>\n",
              "      <td>0.79</td>\n",
              "      <td>0.65</td>\n",
              "      <td>0.65</td>\n",
              "      <td>0.78</td>\n",
              "      <td>0.17</td>\n",
              "    </tr>\n",
              "    <tr>\n",
              "      <th>AdaBoostClassifier</th>\n",
              "      <td>0.77</td>\n",
              "      <td>0.63</td>\n",
              "      <td>0.63</td>\n",
              "      <td>0.76</td>\n",
              "      <td>0.13</td>\n",
              "    </tr>\n",
              "    <tr>\n",
              "      <th>LGBMClassifier</th>\n",
              "      <td>0.77</td>\n",
              "      <td>0.63</td>\n",
              "      <td>0.63</td>\n",
              "      <td>0.76</td>\n",
              "      <td>0.05</td>\n",
              "    </tr>\n",
              "    <tr>\n",
              "      <th>SVC</th>\n",
              "      <td>0.81</td>\n",
              "      <td>0.62</td>\n",
              "      <td>0.62</td>\n",
              "      <td>0.78</td>\n",
              "      <td>0.01</td>\n",
              "    </tr>\n",
              "    <tr>\n",
              "      <th>XGBClassifier</th>\n",
              "      <td>0.81</td>\n",
              "      <td>0.62</td>\n",
              "      <td>0.62</td>\n",
              "      <td>0.78</td>\n",
              "      <td>0.16</td>\n",
              "    </tr>\n",
              "    <tr>\n",
              "      <th>LogisticRegression</th>\n",
              "      <td>0.74</td>\n",
              "      <td>0.62</td>\n",
              "      <td>0.62</td>\n",
              "      <td>0.74</td>\n",
              "      <td>0.02</td>\n",
              "    </tr>\n",
              "    <tr>\n",
              "      <th>ExtraTreesClassifier</th>\n",
              "      <td>0.77</td>\n",
              "      <td>0.60</td>\n",
              "      <td>0.60</td>\n",
              "      <td>0.75</td>\n",
              "      <td>0.12</td>\n",
              "    </tr>\n",
              "    <tr>\n",
              "      <th>RidgeClassifierCV</th>\n",
              "      <td>0.77</td>\n",
              "      <td>0.60</td>\n",
              "      <td>0.60</td>\n",
              "      <td>0.75</td>\n",
              "      <td>0.02</td>\n",
              "    </tr>\n",
              "    <tr>\n",
              "      <th>DummyClassifier</th>\n",
              "      <td>0.74</td>\n",
              "      <td>0.58</td>\n",
              "      <td>0.58</td>\n",
              "      <td>0.73</td>\n",
              "      <td>0.01</td>\n",
              "    </tr>\n",
              "    <tr>\n",
              "      <th>LinearSVC</th>\n",
              "      <td>0.72</td>\n",
              "      <td>0.57</td>\n",
              "      <td>0.57</td>\n",
              "      <td>0.72</td>\n",
              "      <td>0.03</td>\n",
              "    </tr>\n",
              "    <tr>\n",
              "      <th>LinearDiscriminantAnalysis</th>\n",
              "      <td>0.72</td>\n",
              "      <td>0.57</td>\n",
              "      <td>0.57</td>\n",
              "      <td>0.72</td>\n",
              "      <td>0.05</td>\n",
              "    </tr>\n",
              "    <tr>\n",
              "      <th>RidgeClassifier</th>\n",
              "      <td>0.74</td>\n",
              "      <td>0.55</td>\n",
              "      <td>0.55</td>\n",
              "      <td>0.72</td>\n",
              "      <td>0.03</td>\n",
              "    </tr>\n",
              "    <tr>\n",
              "      <th>Perceptron</th>\n",
              "      <td>0.68</td>\n",
              "      <td>0.54</td>\n",
              "      <td>0.54</td>\n",
              "      <td>0.69</td>\n",
              "      <td>0.01</td>\n",
              "    </tr>\n",
              "    <tr>\n",
              "      <th>CheckingClassifier</th>\n",
              "      <td>0.21</td>\n",
              "      <td>0.50</td>\n",
              "      <td>0.50</td>\n",
              "      <td>0.07</td>\n",
              "      <td>0.01</td>\n",
              "    </tr>\n",
              "    <tr>\n",
              "      <th>PassiveAggressiveClassifier</th>\n",
              "      <td>0.72</td>\n",
              "      <td>0.50</td>\n",
              "      <td>0.50</td>\n",
              "      <td>0.69</td>\n",
              "      <td>0.02</td>\n",
              "    </tr>\n",
              "    <tr>\n",
              "      <th>CalibratedClassifierCV</th>\n",
              "      <td>0.77</td>\n",
              "      <td>0.49</td>\n",
              "      <td>0.49</td>\n",
              "      <td>0.68</td>\n",
              "      <td>0.04</td>\n",
              "    </tr>\n",
              "  </tbody>\n",
              "</table>\n",
              "</div>"
            ],
            "text/plain": [
              "                               Accuracy  Balanced Accuracy  ROC AUC  F1 Score  \\\n",
              "Model                                                                           \n",
              "BernoulliNB                        0.85               0.91     0.91      0.86   \n",
              "NearestCentroid                    0.85               0.91     0.91      0.86   \n",
              "KNeighborsClassifier               0.81               0.77     0.77      0.82   \n",
              "ExtraTreeClassifier                0.81               0.73     0.73      0.81   \n",
              "LabelPropagation                   0.79               0.72     0.72      0.79   \n",
              "LabelSpreading                     0.79               0.72     0.72      0.79   \n",
              "BaggingClassifier                  0.77               0.67     0.67      0.77   \n",
              "GaussianNB                         0.47               0.66     0.66      0.48   \n",
              "DecisionTreeClassifier             0.81               0.66     0.66      0.80   \n",
              "SGDClassifier                      0.74               0.66     0.66      0.75   \n",
              "QuadraticDiscriminantAnalysis      0.68               0.65     0.65      0.71   \n",
              "RandomForestClassifier             0.79               0.65     0.65      0.78   \n",
              "AdaBoostClassifier                 0.77               0.63     0.63      0.76   \n",
              "LGBMClassifier                     0.77               0.63     0.63      0.76   \n",
              "SVC                                0.81               0.62     0.62      0.78   \n",
              "XGBClassifier                      0.81               0.62     0.62      0.78   \n",
              "LogisticRegression                 0.74               0.62     0.62      0.74   \n",
              "ExtraTreesClassifier               0.77               0.60     0.60      0.75   \n",
              "RidgeClassifierCV                  0.77               0.60     0.60      0.75   \n",
              "DummyClassifier                    0.74               0.58     0.58      0.73   \n",
              "LinearSVC                          0.72               0.57     0.57      0.72   \n",
              "LinearDiscriminantAnalysis         0.72               0.57     0.57      0.72   \n",
              "RidgeClassifier                    0.74               0.55     0.55      0.72   \n",
              "Perceptron                         0.68               0.54     0.54      0.69   \n",
              "CheckingClassifier                 0.21               0.50     0.50      0.07   \n",
              "PassiveAggressiveClassifier        0.72               0.50     0.50      0.69   \n",
              "CalibratedClassifierCV             0.77               0.49     0.49      0.68   \n",
              "\n",
              "                               Time Taken  \n",
              "Model                                      \n",
              "BernoulliNB                          0.01  \n",
              "NearestCentroid                      0.01  \n",
              "KNeighborsClassifier                 0.03  \n",
              "ExtraTreeClassifier                  0.02  \n",
              "LabelPropagation                     0.02  \n",
              "LabelSpreading                       0.02  \n",
              "BaggingClassifier                    0.04  \n",
              "GaussianNB                           0.02  \n",
              "DecisionTreeClassifier               0.02  \n",
              "SGDClassifier                        0.02  \n",
              "QuadraticDiscriminantAnalysis        0.02  \n",
              "RandomForestClassifier               0.17  \n",
              "AdaBoostClassifier                   0.13  \n",
              "LGBMClassifier                       0.05  \n",
              "SVC                                  0.01  \n",
              "XGBClassifier                        0.16  \n",
              "LogisticRegression                   0.02  \n",
              "ExtraTreesClassifier                 0.12  \n",
              "RidgeClassifierCV                    0.02  \n",
              "DummyClassifier                      0.01  \n",
              "LinearSVC                            0.03  \n",
              "LinearDiscriminantAnalysis           0.05  \n",
              "RidgeClassifier                      0.03  \n",
              "Perceptron                           0.01  \n",
              "CheckingClassifier                   0.01  \n",
              "PassiveAggressiveClassifier          0.02  \n",
              "CalibratedClassifierCV               0.04  "
            ]
          },
          "metadata": {
            "tags": []
          },
          "execution_count": 31
        }
      ]
    },
    {
      "cell_type": "markdown",
      "metadata": {
        "id": "n1kr0JXCOUg5",
        "colab_type": "text"
      },
      "source": [
        "## Use data without outliers. In the process of removing outliers, the second class was removed, which mean the the data now contain a single class."
      ]
    },
    {
      "cell_type": "code",
      "metadata": {
        "id": "TBr3o4faJt1D",
        "colab_type": "code",
        "colab": {}
      },
      "source": [
        "# features_col = list(data.columns)[1:]\n",
        "# target_col = [\"class\"] \n",
        "# features1 = data_no_outlier[features_col]\n",
        "# target1 = data_no_outlier[target_col]"
      ],
      "execution_count": null,
      "outputs": []
    },
    {
      "cell_type": "code",
      "metadata": {
        "id": "a6SDHarwPEz1",
        "colab_type": "code",
        "colab": {}
      },
      "source": [
        "# X_train, X_test, y_train, y_test = train_test_split(\n",
        "#     features1,target1,test_size= 0.3,\n",
        "#     stratify=target1,random_state=42\n",
        "#     )\n",
        "# clf = LazyClassifier(verbose=0,ignore_warnings=True, custom_metric=None)\n",
        "# models,predictions = clf.fit(X_train, X_test, y_train, y_test)\n",
        "# models"
      ],
      "execution_count": null,
      "outputs": []
    },
    {
      "cell_type": "code",
      "metadata": {
        "id": "LgjIj9aQP3aU",
        "colab_type": "code",
        "colab": {}
      },
      "source": [
        "from sklearn.ensemble import RandomForestClassifier\n",
        "from sklearn.linear_model import LogisticRegression"
      ],
      "execution_count": 32,
      "outputs": []
    },
    {
      "cell_type": "code",
      "metadata": {
        "id": "T4PrSK2WViMt",
        "colab_type": "code",
        "colab": {
          "base_uri": "https://localhost:8080/",
          "height": 1000
        },
        "outputId": "d80688cd-8f6a-47f0-8bc2-64595f3e434c"
      },
      "source": [
        "y_train"
      ],
      "execution_count": 33,
      "outputs": [
        {
          "output_type": "execute_result",
          "data": {
            "text/html": [
              "<div>\n",
              "<style scoped>\n",
              "    .dataframe tbody tr th:only-of-type {\n",
              "        vertical-align: middle;\n",
              "    }\n",
              "\n",
              "    .dataframe tbody tr th {\n",
              "        vertical-align: top;\n",
              "    }\n",
              "\n",
              "    .dataframe thead th {\n",
              "        text-align: right;\n",
              "    }\n",
              "</style>\n",
              "<table border=\"1\" class=\"dataframe\">\n",
              "  <thead>\n",
              "    <tr style=\"text-align: right;\">\n",
              "      <th></th>\n",
              "      <th>class</th>\n",
              "    </tr>\n",
              "  </thead>\n",
              "  <tbody>\n",
              "    <tr>\n",
              "      <th>11</th>\n",
              "      <td>2</td>\n",
              "    </tr>\n",
              "    <tr>\n",
              "      <th>22</th>\n",
              "      <td>2</td>\n",
              "    </tr>\n",
              "    <tr>\n",
              "      <th>5</th>\n",
              "      <td>1</td>\n",
              "    </tr>\n",
              "    <tr>\n",
              "      <th>125</th>\n",
              "      <td>2</td>\n",
              "    </tr>\n",
              "    <tr>\n",
              "      <th>78</th>\n",
              "      <td>2</td>\n",
              "    </tr>\n",
              "    <tr>\n",
              "      <th>39</th>\n",
              "      <td>2</td>\n",
              "    </tr>\n",
              "    <tr>\n",
              "      <th>128</th>\n",
              "      <td>1</td>\n",
              "    </tr>\n",
              "    <tr>\n",
              "      <th>30</th>\n",
              "      <td>1</td>\n",
              "    </tr>\n",
              "    <tr>\n",
              "      <th>99</th>\n",
              "      <td>1</td>\n",
              "    </tr>\n",
              "    <tr>\n",
              "      <th>6</th>\n",
              "      <td>2</td>\n",
              "    </tr>\n",
              "    <tr>\n",
              "      <th>26</th>\n",
              "      <td>2</td>\n",
              "    </tr>\n",
              "    <tr>\n",
              "      <th>13</th>\n",
              "      <td>2</td>\n",
              "    </tr>\n",
              "    <tr>\n",
              "      <th>140</th>\n",
              "      <td>1</td>\n",
              "    </tr>\n",
              "    <tr>\n",
              "      <th>101</th>\n",
              "      <td>2</td>\n",
              "    </tr>\n",
              "    <tr>\n",
              "      <th>61</th>\n",
              "      <td>2</td>\n",
              "    </tr>\n",
              "    <tr>\n",
              "      <th>37</th>\n",
              "      <td>2</td>\n",
              "    </tr>\n",
              "    <tr>\n",
              "      <th>149</th>\n",
              "      <td>1</td>\n",
              "    </tr>\n",
              "    <tr>\n",
              "      <th>74</th>\n",
              "      <td>2</td>\n",
              "    </tr>\n",
              "    <tr>\n",
              "      <th>111</th>\n",
              "      <td>2</td>\n",
              "    </tr>\n",
              "    <tr>\n",
              "      <th>12</th>\n",
              "      <td>2</td>\n",
              "    </tr>\n",
              "    <tr>\n",
              "      <th>148</th>\n",
              "      <td>2</td>\n",
              "    </tr>\n",
              "    <tr>\n",
              "      <th>91</th>\n",
              "      <td>2</td>\n",
              "    </tr>\n",
              "    <tr>\n",
              "      <th>114</th>\n",
              "      <td>2</td>\n",
              "    </tr>\n",
              "    <tr>\n",
              "      <th>53</th>\n",
              "      <td>2</td>\n",
              "    </tr>\n",
              "    <tr>\n",
              "      <th>76</th>\n",
              "      <td>2</td>\n",
              "    </tr>\n",
              "    <tr>\n",
              "      <th>133</th>\n",
              "      <td>1</td>\n",
              "    </tr>\n",
              "    <tr>\n",
              "      <th>40</th>\n",
              "      <td>2</td>\n",
              "    </tr>\n",
              "    <tr>\n",
              "      <th>143</th>\n",
              "      <td>1</td>\n",
              "    </tr>\n",
              "    <tr>\n",
              "      <th>60</th>\n",
              "      <td>2</td>\n",
              "    </tr>\n",
              "    <tr>\n",
              "      <th>59</th>\n",
              "      <td>2</td>\n",
              "    </tr>\n",
              "    <tr>\n",
              "      <th>34</th>\n",
              "      <td>1</td>\n",
              "    </tr>\n",
              "    <tr>\n",
              "      <th>86</th>\n",
              "      <td>1</td>\n",
              "    </tr>\n",
              "    <tr>\n",
              "      <th>92</th>\n",
              "      <td>2</td>\n",
              "    </tr>\n",
              "    <tr>\n",
              "      <th>28</th>\n",
              "      <td>2</td>\n",
              "    </tr>\n",
              "    <tr>\n",
              "      <th>66</th>\n",
              "      <td>1</td>\n",
              "    </tr>\n",
              "    <tr>\n",
              "      <th>110</th>\n",
              "      <td>1</td>\n",
              "    </tr>\n",
              "    <tr>\n",
              "      <th>4</th>\n",
              "      <td>2</td>\n",
              "    </tr>\n",
              "    <tr>\n",
              "      <th>147</th>\n",
              "      <td>2</td>\n",
              "    </tr>\n",
              "    <tr>\n",
              "      <th>138</th>\n",
              "      <td>2</td>\n",
              "    </tr>\n",
              "    <tr>\n",
              "      <th>88</th>\n",
              "      <td>2</td>\n",
              "    </tr>\n",
              "    <tr>\n",
              "      <th>0</th>\n",
              "      <td>2</td>\n",
              "    </tr>\n",
              "    <tr>\n",
              "      <th>142</th>\n",
              "      <td>1</td>\n",
              "    </tr>\n",
              "    <tr>\n",
              "      <th>48</th>\n",
              "      <td>2</td>\n",
              "    </tr>\n",
              "    <tr>\n",
              "      <th>134</th>\n",
              "      <td>2</td>\n",
              "    </tr>\n",
              "    <tr>\n",
              "      <th>118</th>\n",
              "      <td>2</td>\n",
              "    </tr>\n",
              "    <tr>\n",
              "      <th>16</th>\n",
              "      <td>2</td>\n",
              "    </tr>\n",
              "    <tr>\n",
              "      <th>84</th>\n",
              "      <td>2</td>\n",
              "    </tr>\n",
              "    <tr>\n",
              "      <th>43</th>\n",
              "      <td>2</td>\n",
              "    </tr>\n",
              "    <tr>\n",
              "      <th>122</th>\n",
              "      <td>2</td>\n",
              "    </tr>\n",
              "    <tr>\n",
              "      <th>51</th>\n",
              "      <td>2</td>\n",
              "    </tr>\n",
              "    <tr>\n",
              "      <th>23</th>\n",
              "      <td>2</td>\n",
              "    </tr>\n",
              "    <tr>\n",
              "      <th>29</th>\n",
              "      <td>1</td>\n",
              "    </tr>\n",
              "    <tr>\n",
              "      <th>71</th>\n",
              "      <td>2</td>\n",
              "    </tr>\n",
              "    <tr>\n",
              "      <th>109</th>\n",
              "      <td>2</td>\n",
              "    </tr>\n",
              "    <tr>\n",
              "      <th>152</th>\n",
              "      <td>2</td>\n",
              "    </tr>\n",
              "    <tr>\n",
              "      <th>73</th>\n",
              "      <td>2</td>\n",
              "    </tr>\n",
              "    <tr>\n",
              "      <th>105</th>\n",
              "      <td>1</td>\n",
              "    </tr>\n",
              "    <tr>\n",
              "      <th>124</th>\n",
              "      <td>2</td>\n",
              "    </tr>\n",
              "    <tr>\n",
              "      <th>108</th>\n",
              "      <td>1</td>\n",
              "    </tr>\n",
              "    <tr>\n",
              "      <th>100</th>\n",
              "      <td>2</td>\n",
              "    </tr>\n",
              "    <tr>\n",
              "      <th>127</th>\n",
              "      <td>2</td>\n",
              "    </tr>\n",
              "    <tr>\n",
              "      <th>98</th>\n",
              "      <td>2</td>\n",
              "    </tr>\n",
              "    <tr>\n",
              "      <th>106</th>\n",
              "      <td>2</td>\n",
              "    </tr>\n",
              "    <tr>\n",
              "      <th>131</th>\n",
              "      <td>2</td>\n",
              "    </tr>\n",
              "    <tr>\n",
              "      <th>33</th>\n",
              "      <td>2</td>\n",
              "    </tr>\n",
              "    <tr>\n",
              "      <th>57</th>\n",
              "      <td>2</td>\n",
              "    </tr>\n",
              "    <tr>\n",
              "      <th>96</th>\n",
              "      <td>2</td>\n",
              "    </tr>\n",
              "    <tr>\n",
              "      <th>19</th>\n",
              "      <td>2</td>\n",
              "    </tr>\n",
              "    <tr>\n",
              "      <th>112</th>\n",
              "      <td>2</td>\n",
              "    </tr>\n",
              "    <tr>\n",
              "      <th>49</th>\n",
              "      <td>2</td>\n",
              "    </tr>\n",
              "    <tr>\n",
              "      <th>20</th>\n",
              "      <td>2</td>\n",
              "    </tr>\n",
              "    <tr>\n",
              "      <th>31</th>\n",
              "      <td>2</td>\n",
              "    </tr>\n",
              "    <tr>\n",
              "      <th>97</th>\n",
              "      <td>1</td>\n",
              "    </tr>\n",
              "    <tr>\n",
              "      <th>44</th>\n",
              "      <td>2</td>\n",
              "    </tr>\n",
              "    <tr>\n",
              "      <th>132</th>\n",
              "      <td>2</td>\n",
              "    </tr>\n",
              "    <tr>\n",
              "      <th>123</th>\n",
              "      <td>2</td>\n",
              "    </tr>\n",
              "    <tr>\n",
              "      <th>137</th>\n",
              "      <td>1</td>\n",
              "    </tr>\n",
              "    <tr>\n",
              "      <th>62</th>\n",
              "      <td>2</td>\n",
              "    </tr>\n",
              "    <tr>\n",
              "      <th>64</th>\n",
              "      <td>2</td>\n",
              "    </tr>\n",
              "    <tr>\n",
              "      <th>83</th>\n",
              "      <td>2</td>\n",
              "    </tr>\n",
              "    <tr>\n",
              "      <th>146</th>\n",
              "      <td>1</td>\n",
              "    </tr>\n",
              "    <tr>\n",
              "      <th>67</th>\n",
              "      <td>2</td>\n",
              "    </tr>\n",
              "    <tr>\n",
              "      <th>72</th>\n",
              "      <td>2</td>\n",
              "    </tr>\n",
              "    <tr>\n",
              "      <th>115</th>\n",
              "      <td>2</td>\n",
              "    </tr>\n",
              "    <tr>\n",
              "      <th>81</th>\n",
              "      <td>2</td>\n",
              "    </tr>\n",
              "    <tr>\n",
              "      <th>25</th>\n",
              "      <td>2</td>\n",
              "    </tr>\n",
              "    <tr>\n",
              "      <th>52</th>\n",
              "      <td>2</td>\n",
              "    </tr>\n",
              "    <tr>\n",
              "      <th>113</th>\n",
              "      <td>2</td>\n",
              "    </tr>\n",
              "    <tr>\n",
              "      <th>121</th>\n",
              "      <td>2</td>\n",
              "    </tr>\n",
              "    <tr>\n",
              "      <th>87</th>\n",
              "      <td>1</td>\n",
              "    </tr>\n",
              "    <tr>\n",
              "      <th>46</th>\n",
              "      <td>2</td>\n",
              "    </tr>\n",
              "    <tr>\n",
              "      <th>36</th>\n",
              "      <td>2</td>\n",
              "    </tr>\n",
              "    <tr>\n",
              "      <th>27</th>\n",
              "      <td>2</td>\n",
              "    </tr>\n",
              "    <tr>\n",
              "      <th>41</th>\n",
              "      <td>2</td>\n",
              "    </tr>\n",
              "    <tr>\n",
              "      <th>17</th>\n",
              "      <td>2</td>\n",
              "    </tr>\n",
              "    <tr>\n",
              "      <th>35</th>\n",
              "      <td>2</td>\n",
              "    </tr>\n",
              "    <tr>\n",
              "      <th>24</th>\n",
              "      <td>2</td>\n",
              "    </tr>\n",
              "    <tr>\n",
              "      <th>55</th>\n",
              "      <td>2</td>\n",
              "    </tr>\n",
              "    <tr>\n",
              "      <th>82</th>\n",
              "      <td>2</td>\n",
              "    </tr>\n",
              "    <tr>\n",
              "      <th>94</th>\n",
              "      <td>2</td>\n",
              "    </tr>\n",
              "    <tr>\n",
              "      <th>70</th>\n",
              "      <td>1</td>\n",
              "    </tr>\n",
              "    <tr>\n",
              "      <th>10</th>\n",
              "      <td>2</td>\n",
              "    </tr>\n",
              "    <tr>\n",
              "      <th>69</th>\n",
              "      <td>2</td>\n",
              "    </tr>\n",
              "    <tr>\n",
              "      <th>32</th>\n",
              "      <td>2</td>\n",
              "    </tr>\n",
              "    <tr>\n",
              "      <th>93</th>\n",
              "      <td>1</td>\n",
              "    </tr>\n",
              "    <tr>\n",
              "      <th>135</th>\n",
              "      <td>2</td>\n",
              "    </tr>\n",
              "    <tr>\n",
              "      <th>80</th>\n",
              "      <td>2</td>\n",
              "    </tr>\n",
              "  </tbody>\n",
              "</table>\n",
              "</div>"
            ],
            "text/plain": [
              "     class\n",
              "11       2\n",
              "22       2\n",
              "5        1\n",
              "125      2\n",
              "78       2\n",
              "39       2\n",
              "128      1\n",
              "30       1\n",
              "99       1\n",
              "6        2\n",
              "26       2\n",
              "13       2\n",
              "140      1\n",
              "101      2\n",
              "61       2\n",
              "37       2\n",
              "149      1\n",
              "74       2\n",
              "111      2\n",
              "12       2\n",
              "148      2\n",
              "91       2\n",
              "114      2\n",
              "53       2\n",
              "76       2\n",
              "133      1\n",
              "40       2\n",
              "143      1\n",
              "60       2\n",
              "59       2\n",
              "34       1\n",
              "86       1\n",
              "92       2\n",
              "28       2\n",
              "66       1\n",
              "110      1\n",
              "4        2\n",
              "147      2\n",
              "138      2\n",
              "88       2\n",
              "0        2\n",
              "142      1\n",
              "48       2\n",
              "134      2\n",
              "118      2\n",
              "16       2\n",
              "84       2\n",
              "43       2\n",
              "122      2\n",
              "51       2\n",
              "23       2\n",
              "29       1\n",
              "71       2\n",
              "109      2\n",
              "152      2\n",
              "73       2\n",
              "105      1\n",
              "124      2\n",
              "108      1\n",
              "100      2\n",
              "127      2\n",
              "98       2\n",
              "106      2\n",
              "131      2\n",
              "33       2\n",
              "57       2\n",
              "96       2\n",
              "19       2\n",
              "112      2\n",
              "49       2\n",
              "20       2\n",
              "31       2\n",
              "97       1\n",
              "44       2\n",
              "132      2\n",
              "123      2\n",
              "137      1\n",
              "62       2\n",
              "64       2\n",
              "83       2\n",
              "146      1\n",
              "67       2\n",
              "72       2\n",
              "115      2\n",
              "81       2\n",
              "25       2\n",
              "52       2\n",
              "113      2\n",
              "121      2\n",
              "87       1\n",
              "46       2\n",
              "36       2\n",
              "27       2\n",
              "41       2\n",
              "17       2\n",
              "35       2\n",
              "24       2\n",
              "55       2\n",
              "82       2\n",
              "94       2\n",
              "70       1\n",
              "10       2\n",
              "69       2\n",
              "32       2\n",
              "93       1\n",
              "135      2\n",
              "80       2"
            ]
          },
          "metadata": {
            "tags": []
          },
          "execution_count": 33
        }
      ]
    },
    {
      "cell_type": "code",
      "metadata": {
        "id": "ODzHzHsoXN_S",
        "colab_type": "code",
        "colab": {}
      },
      "source": [
        "X_train, X_test, y_train, y_test = train_test_split(\n",
        "    features,target,test_size= 0.3,\n",
        "    stratify=target,random_state=42\n",
        "    )"
      ],
      "execution_count": 34,
      "outputs": []
    },
    {
      "cell_type": "code",
      "metadata": {
        "id": "1dIbL4_BPm4e",
        "colab_type": "code",
        "colab": {}
      },
      "source": [
        "lr = LogisticRegression()\n",
        "lr.fit(X_train,y_train)\n",
        "pred_lr = lr.predict(X_test)"
      ],
      "execution_count": 35,
      "outputs": []
    },
    {
      "cell_type": "code",
      "metadata": {
        "id": "Z092C0m8X19u",
        "colab_type": "code",
        "colab": {
          "base_uri": "https://localhost:8080/",
          "height": 181
        },
        "outputId": "a4b4af95-d92b-4221-c45f-d4023c4389f5"
      },
      "source": [
        "from sklearn.metrics import classification_report\n",
        "print(classification_report(y_test,pred_lr))"
      ],
      "execution_count": 36,
      "outputs": [
        {
          "output_type": "stream",
          "text": [
            "              precision    recall  f1-score   support\n",
            "\n",
            "           1       0.50      0.60      0.55        10\n",
            "           2       0.89      0.84      0.86        37\n",
            "\n",
            "    accuracy                           0.79        47\n",
            "   macro avg       0.69      0.72      0.70        47\n",
            "weighted avg       0.80      0.79      0.79        47\n",
            "\n"
          ],
          "name": "stdout"
        }
      ]
    },
    {
      "cell_type": "code",
      "metadata": {
        "id": "vIUojf79YrPc",
        "colab_type": "code",
        "colab": {
          "base_uri": "https://localhost:8080/",
          "height": 35
        },
        "outputId": "b1621f8f-5075-41ec-8041-e625957dac3b"
      },
      "source": [
        "y_train.shape, X_train.shape"
      ],
      "execution_count": null,
      "outputs": [
        {
          "output_type": "execute_result",
          "data": {
            "text/plain": [
              "((107, 1), (107, 19))"
            ]
          },
          "metadata": {
            "tags": []
          },
          "execution_count": 58
        }
      ]
    },
    {
      "cell_type": "code",
      "metadata": {
        "id": "vDwkLQp6XmmF",
        "colab_type": "code",
        "colab": {
          "base_uri": "https://localhost:8080/",
          "height": 181
        },
        "outputId": "ce6333ca-3557-44cf-a3a9-e450fc4ff14c"
      },
      "source": [
        "rf = RandomForestClassifier()\n",
        "rf.fit(X_train,y_train)\n",
        "pred_rf = rf.predict(X_test)\n",
        "print(classification_report(y_test,pred_rf))"
      ],
      "execution_count": 37,
      "outputs": [
        {
          "output_type": "stream",
          "text": [
            "              precision    recall  f1-score   support\n",
            "\n",
            "           1       0.56      0.50      0.53        10\n",
            "           2       0.87      0.89      0.88        37\n",
            "\n",
            "    accuracy                           0.81        47\n",
            "   macro avg       0.71      0.70      0.70        47\n",
            "weighted avg       0.80      0.81      0.80        47\n",
            "\n"
          ],
          "name": "stdout"
        }
      ]
    },
    {
      "cell_type": "code",
      "metadata": {
        "id": "Nwed1RQzmPbK",
        "colab_type": "code",
        "colab": {
          "base_uri": "https://localhost:8080/",
          "height": 218
        },
        "outputId": "2ae8a040-eeaa-4fe9-efba-625b0f9c1fd0"
      },
      "source": [
        "# drop protime column\n",
        "X_train_1 = X_train.drop(\"protime\", axis =1)\n",
        "X_train_1.head()"
      ],
      "execution_count": 41,
      "outputs": [
        {
          "output_type": "execute_result",
          "data": {
            "text/html": [
              "<div>\n",
              "<style scoped>\n",
              "    .dataframe tbody tr th:only-of-type {\n",
              "        vertical-align: middle;\n",
              "    }\n",
              "\n",
              "    .dataframe tbody tr th {\n",
              "        vertical-align: top;\n",
              "    }\n",
              "\n",
              "    .dataframe thead th {\n",
              "        text-align: right;\n",
              "    }\n",
              "</style>\n",
              "<table border=\"1\" class=\"dataframe\">\n",
              "  <thead>\n",
              "    <tr style=\"text-align: right;\">\n",
              "      <th></th>\n",
              "      <th>age</th>\n",
              "      <th>sex</th>\n",
              "      <th>steroid</th>\n",
              "      <th>antivirals</th>\n",
              "      <th>fatigue</th>\n",
              "      <th>malaise</th>\n",
              "      <th>anorexia</th>\n",
              "      <th>liver_big</th>\n",
              "      <th>liver_firm</th>\n",
              "      <th>spleen_palpable</th>\n",
              "      <th>spiders</th>\n",
              "      <th>ascites</th>\n",
              "      <th>varices</th>\n",
              "      <th>bilirubin</th>\n",
              "      <th>alk_phosphate</th>\n",
              "      <th>sgot</th>\n",
              "      <th>albumin</th>\n",
              "      <th>histology</th>\n",
              "    </tr>\n",
              "  </thead>\n",
              "  <tbody>\n",
              "    <tr>\n",
              "      <th>11</th>\n",
              "      <td>41</td>\n",
              "      <td>1</td>\n",
              "      <td>2</td>\n",
              "      <td>1</td>\n",
              "      <td>1</td>\n",
              "      <td>2</td>\n",
              "      <td>2</td>\n",
              "      <td>2</td>\n",
              "      <td>1</td>\n",
              "      <td>2</td>\n",
              "      <td>2</td>\n",
              "      <td>2</td>\n",
              "      <td>2</td>\n",
              "      <td>0.90</td>\n",
              "      <td>81</td>\n",
              "      <td>60</td>\n",
              "      <td>3.90</td>\n",
              "      <td>1</td>\n",
              "    </tr>\n",
              "    <tr>\n",
              "      <th>22</th>\n",
              "      <td>42</td>\n",
              "      <td>1</td>\n",
              "      <td>2</td>\n",
              "      <td>2</td>\n",
              "      <td>2</td>\n",
              "      <td>2</td>\n",
              "      <td>2</td>\n",
              "      <td>2</td>\n",
              "      <td>2</td>\n",
              "      <td>2</td>\n",
              "      <td>2</td>\n",
              "      <td>2</td>\n",
              "      <td>2</td>\n",
              "      <td>0.90</td>\n",
              "      <td>60</td>\n",
              "      <td>63</td>\n",
              "      <td>4.70</td>\n",
              "      <td>1</td>\n",
              "    </tr>\n",
              "    <tr>\n",
              "      <th>5</th>\n",
              "      <td>51</td>\n",
              "      <td>1</td>\n",
              "      <td>1</td>\n",
              "      <td>2</td>\n",
              "      <td>1</td>\n",
              "      <td>2</td>\n",
              "      <td>1</td>\n",
              "      <td>2</td>\n",
              "      <td>2</td>\n",
              "      <td>1</td>\n",
              "      <td>1</td>\n",
              "      <td>2</td>\n",
              "      <td>2</td>\n",
              "      <td>0.00</td>\n",
              "      <td>0</td>\n",
              "      <td>0</td>\n",
              "      <td>0.00</td>\n",
              "      <td>1</td>\n",
              "    </tr>\n",
              "    <tr>\n",
              "      <th>125</th>\n",
              "      <td>28</td>\n",
              "      <td>1</td>\n",
              "      <td>2</td>\n",
              "      <td>2</td>\n",
              "      <td>1</td>\n",
              "      <td>1</td>\n",
              "      <td>1</td>\n",
              "      <td>0</td>\n",
              "      <td>0</td>\n",
              "      <td>2</td>\n",
              "      <td>1</td>\n",
              "      <td>1</td>\n",
              "      <td>2</td>\n",
              "      <td>1.00</td>\n",
              "      <td>0</td>\n",
              "      <td>20</td>\n",
              "      <td>4.00</td>\n",
              "      <td>2</td>\n",
              "    </tr>\n",
              "    <tr>\n",
              "      <th>78</th>\n",
              "      <td>28</td>\n",
              "      <td>1</td>\n",
              "      <td>2</td>\n",
              "      <td>2</td>\n",
              "      <td>2</td>\n",
              "      <td>2</td>\n",
              "      <td>2</td>\n",
              "      <td>2</td>\n",
              "      <td>2</td>\n",
              "      <td>2</td>\n",
              "      <td>2</td>\n",
              "      <td>2</td>\n",
              "      <td>2</td>\n",
              "      <td>0.70</td>\n",
              "      <td>85</td>\n",
              "      <td>31</td>\n",
              "      <td>4.90</td>\n",
              "      <td>1</td>\n",
              "    </tr>\n",
              "  </tbody>\n",
              "</table>\n",
              "</div>"
            ],
            "text/plain": [
              "     age  sex  steroid  antivirals  fatigue  malaise  anorexia  liver_big  \\\n",
              "11    41    1        2           1        1        2         2          2   \n",
              "22    42    1        2           2        2        2         2          2   \n",
              "5     51    1        1           2        1        2         1          2   \n",
              "125   28    1        2           2        1        1         1          0   \n",
              "78    28    1        2           2        2        2         2          2   \n",
              "\n",
              "     liver_firm  spleen_palpable  spiders  ascites  varices  bilirubin  \\\n",
              "11            1                2        2        2        2       0.90   \n",
              "22            2                2        2        2        2       0.90   \n",
              "5             2                1        1        2        2       0.00   \n",
              "125           0                2        1        1        2       1.00   \n",
              "78            2                2        2        2        2       0.70   \n",
              "\n",
              "     alk_phosphate  sgot  albumin  histology  \n",
              "11              81    60     3.90          1  \n",
              "22              60    63     4.70          1  \n",
              "5                0     0     0.00          1  \n",
              "125              0    20     4.00          2  \n",
              "78              85    31     4.90          1  "
            ]
          },
          "metadata": {
            "tags": []
          },
          "execution_count": 41
        }
      ]
    },
    {
      "cell_type": "code",
      "metadata": {
        "id": "RQfcP-m-mYVy",
        "colab_type": "code",
        "colab": {
          "base_uri": "https://localhost:8080/",
          "height": 181
        },
        "outputId": "a156e87e-858c-4429-d917-e9a144d64770"
      },
      "source": [
        "lr = LogisticRegression()\n",
        "lr.fit(X_train_1,y_train)\n",
        "X_test_1 = X_test.drop(\"protime\", axis=1)\n",
        "pred_lr = lr.predict(X_test_1)\n",
        "print(classification_report(y_test,pred_lr))"
      ],
      "execution_count": 43,
      "outputs": [
        {
          "output_type": "stream",
          "text": [
            "              precision    recall  f1-score   support\n",
            "\n",
            "           1       0.50      0.60      0.55        10\n",
            "           2       0.89      0.84      0.86        37\n",
            "\n",
            "    accuracy                           0.79        47\n",
            "   macro avg       0.69      0.72      0.70        47\n",
            "weighted avg       0.80      0.79      0.79        47\n",
            "\n"
          ],
          "name": "stdout"
        }
      ]
    },
    {
      "cell_type": "code",
      "metadata": {
        "id": "pStyrYmYnAXb",
        "colab_type": "code",
        "colab": {
          "base_uri": "https://localhost:8080/",
          "height": 181
        },
        "outputId": "d91c8ea8-3d1e-47f9-b7cf-08d2854c1e1d"
      },
      "source": [
        "rf = RandomForestClassifier()\n",
        "rf.fit(X_train_1,y_train)\n",
        "pred_rf = rf.predict(X_test_1)\n",
        "print(classification_report(y_test,pred_rf))"
      ],
      "execution_count": 44,
      "outputs": [
        {
          "output_type": "stream",
          "text": [
            "              precision    recall  f1-score   support\n",
            "\n",
            "           1       0.57      0.40      0.47        10\n",
            "           2       0.85      0.92      0.88        37\n",
            "\n",
            "    accuracy                           0.81        47\n",
            "   macro avg       0.71      0.66      0.68        47\n",
            "weighted avg       0.79      0.81      0.80        47\n",
            "\n"
          ],
          "name": "stdout"
        }
      ]
    },
    {
      "cell_type": "markdown",
      "metadata": {
        "id": "6u_XofeDmNXq",
        "colab_type": "text"
      },
      "source": [
        ""
      ]
    },
    {
      "cell_type": "markdown",
      "metadata": {
        "id": "AGsb8to0Oeec",
        "colab_type": "text"
      },
      "source": [
        "## Features selection"
      ]
    },
    {
      "cell_type": "code",
      "metadata": {
        "id": "lLzcgCRYN2iJ",
        "colab_type": "code",
        "colab": {}
      },
      "source": [
        "from sklearn.feature_selection import SelectKBest\n",
        "from sklearn.feature_selection  import chi2"
      ],
      "execution_count": 45,
      "outputs": []
    },
    {
      "cell_type": "code",
      "metadata": {
        "id": "oWfn9hSrO4QT",
        "colab_type": "code",
        "colab": {
          "base_uri": "https://localhost:8080/",
          "height": 363
        },
        "outputId": "6eb23962-ef3a-4655-d2d8-013db70ce369"
      },
      "source": [
        "list(data.columns)[1:]"
      ],
      "execution_count": 46,
      "outputs": [
        {
          "output_type": "execute_result",
          "data": {
            "text/plain": [
              "['age',\n",
              " 'sex',\n",
              " 'steroid',\n",
              " 'antivirals',\n",
              " 'fatigue',\n",
              " 'malaise',\n",
              " 'anorexia',\n",
              " 'liver_big',\n",
              " 'liver_firm',\n",
              " 'spleen_palpable',\n",
              " 'spiders',\n",
              " 'ascites',\n",
              " 'varices',\n",
              " 'bilirubin',\n",
              " 'alk_phosphate',\n",
              " 'sgot',\n",
              " 'albumin',\n",
              " 'protime',\n",
              " 'histology']"
            ]
          },
          "metadata": {
            "tags": []
          },
          "execution_count": 46
        }
      ]
    },
    {
      "cell_type": "code",
      "metadata": {
        "id": "_PGNu7NdOyTe",
        "colab_type": "code",
        "colab": {}
      },
      "source": [
        "features_col = list(data.columns)[1:]\n",
        "target_col = [\"class\"] \n",
        "features = data[features_col]\n",
        "target = data[target_col]"
      ],
      "execution_count": 47,
      "outputs": []
    },
    {
      "cell_type": "code",
      "metadata": {
        "id": "j3TRTE1eP5Uo",
        "colab_type": "code",
        "colab": {
          "base_uri": "https://localhost:8080/",
          "height": 90
        },
        "outputId": "263884a0-25a6-44be-99b2-a5a0dfebc546"
      },
      "source": [
        "# using Skbest\n",
        "skb = SelectKBest(score_func=chi2,k=5)\n",
        "best_feature_fit = skb.fit(features,target)\n",
        "# Highest score shows the best fit\n",
        "print(\"Scores\",best_feature_fit.scores_)"
      ],
      "execution_count": 48,
      "outputs": [
        {
          "output_type": "stream",
          "text": [
            "Scores [ 27.7100895    0.34920943   0.42076503   0.19084796   2.28634808\n",
            "   2.43463115   0.19099258   0.34234119   0.95514018   0.73343834\n",
            "   3.154178     2.08420804   1.11903176  29.95678238  17.88875131\n",
            "  43.25275806   6.8249348  135.17120971   2.96410733]\n"
          ],
          "name": "stdout"
        }
      ]
    },
    {
      "cell_type": "code",
      "metadata": {
        "id": "Qp8yKGIfQVW6",
        "colab_type": "code",
        "colab": {
          "base_uri": "https://localhost:8080/",
          "height": 348
        },
        "outputId": "be036b83-e42b-46e6-c8ae-743e89bae71e"
      },
      "source": [
        "score = pd.DataFrame(best_feature_fit.scores_, columns = [\"score\"])\n",
        "feat = pd.DataFrame(features_col, columns = [\"feature_names\"])\n",
        "feat_scores = pd.concat([feat, score], axis = 1)\n",
        "feat_scores.nlargest(10, \"score\" )"
      ],
      "execution_count": 49,
      "outputs": [
        {
          "output_type": "execute_result",
          "data": {
            "text/html": [
              "<div>\n",
              "<style scoped>\n",
              "    .dataframe tbody tr th:only-of-type {\n",
              "        vertical-align: middle;\n",
              "    }\n",
              "\n",
              "    .dataframe tbody tr th {\n",
              "        vertical-align: top;\n",
              "    }\n",
              "\n",
              "    .dataframe thead th {\n",
              "        text-align: right;\n",
              "    }\n",
              "</style>\n",
              "<table border=\"1\" class=\"dataframe\">\n",
              "  <thead>\n",
              "    <tr style=\"text-align: right;\">\n",
              "      <th></th>\n",
              "      <th>feature_names</th>\n",
              "      <th>score</th>\n",
              "    </tr>\n",
              "  </thead>\n",
              "  <tbody>\n",
              "    <tr>\n",
              "      <th>17</th>\n",
              "      <td>protime</td>\n",
              "      <td>135.17</td>\n",
              "    </tr>\n",
              "    <tr>\n",
              "      <th>15</th>\n",
              "      <td>sgot</td>\n",
              "      <td>43.25</td>\n",
              "    </tr>\n",
              "    <tr>\n",
              "      <th>13</th>\n",
              "      <td>bilirubin</td>\n",
              "      <td>29.96</td>\n",
              "    </tr>\n",
              "    <tr>\n",
              "      <th>0</th>\n",
              "      <td>age</td>\n",
              "      <td>27.71</td>\n",
              "    </tr>\n",
              "    <tr>\n",
              "      <th>14</th>\n",
              "      <td>alk_phosphate</td>\n",
              "      <td>17.89</td>\n",
              "    </tr>\n",
              "    <tr>\n",
              "      <th>16</th>\n",
              "      <td>albumin</td>\n",
              "      <td>6.82</td>\n",
              "    </tr>\n",
              "    <tr>\n",
              "      <th>10</th>\n",
              "      <td>spiders</td>\n",
              "      <td>3.15</td>\n",
              "    </tr>\n",
              "    <tr>\n",
              "      <th>18</th>\n",
              "      <td>histology</td>\n",
              "      <td>2.96</td>\n",
              "    </tr>\n",
              "    <tr>\n",
              "      <th>5</th>\n",
              "      <td>malaise</td>\n",
              "      <td>2.43</td>\n",
              "    </tr>\n",
              "    <tr>\n",
              "      <th>4</th>\n",
              "      <td>fatigue</td>\n",
              "      <td>2.29</td>\n",
              "    </tr>\n",
              "  </tbody>\n",
              "</table>\n",
              "</div>"
            ],
            "text/plain": [
              "    feature_names  score\n",
              "17        protime 135.17\n",
              "15           sgot  43.25\n",
              "13      bilirubin  29.96\n",
              "0             age  27.71\n",
              "14  alk_phosphate  17.89\n",
              "16        albumin   6.82\n",
              "10        spiders   3.15\n",
              "18      histology   2.96\n",
              "5         malaise   2.43\n",
              "4         fatigue   2.29"
            ]
          },
          "metadata": {
            "tags": []
          },
          "execution_count": 49
        }
      ]
    },
    {
      "cell_type": "code",
      "metadata": {
        "id": "s4_JV7Cgtrox",
        "colab_type": "code",
        "colab": {}
      },
      "source": [
        "features_col = list(df.columns)[1:]\n",
        "target_col = [\"class\"] \n",
        "features = df[features_col]\n",
        "target = df[target_col]\n",
        "\n",
        "X_train, X_test, y_train, y_test = train_test_split(\n",
        "    features,target,test_size= 0.3,\n",
        "    stratify=target,random_state=42\n",
        "    )"
      ],
      "execution_count": 59,
      "outputs": []
    },
    {
      "cell_type": "code",
      "metadata": {
        "id": "IIJErfPrqIws",
        "colab_type": "code",
        "colab": {
          "base_uri": "https://localhost:8080/",
          "height": 181
        },
        "outputId": "706d488c-ebe7-4b96-948e-1bd9c9f68cbe"
      },
      "source": [
        "lr_pipeline = make_pipeline(SimpleImputer(missing_values=np.nan, strategy='median'), StandardScaler(),\n",
        "                         LogisticRegression())\n",
        "\n",
        "lr_pipeline.fit(X_train,y_train)\n",
        "preds = lr_pipeline.predict(X_test)\n",
        "print(classification_report(y_test,preds))"
      ],
      "execution_count": 62,
      "outputs": [
        {
          "output_type": "stream",
          "text": [
            "              precision    recall  f1-score   support\n",
            "\n",
            "           1       0.42      0.50      0.45        10\n",
            "           2       0.86      0.81      0.83        37\n",
            "\n",
            "    accuracy                           0.74        47\n",
            "   macro avg       0.64      0.66      0.64        47\n",
            "weighted avg       0.76      0.74      0.75        47\n",
            "\n"
          ],
          "name": "stdout"
        }
      ]
    },
    {
      "cell_type": "code",
      "metadata": {
        "id": "kWirvllI7mIB",
        "colab_type": "code",
        "colab": {
          "base_uri": "https://localhost:8080/",
          "height": 181
        },
        "outputId": "223c7957-825a-4dbf-c5d1-4141a1892c6e"
      },
      "source": [
        "lr_pipeline = make_pipeline(SimpleImputer(missing_values=np.nan, strategy='median'), StandardScaler(),\n",
        "                         LogisticRegression())\n",
        "\n",
        "lr_pipeline.fit(X_train,y_train)\n",
        "preds = lr_pipeline.predict(X_test)\n",
        "print(classification_report(y_test,preds))"
      ],
      "execution_count": 63,
      "outputs": [
        {
          "output_type": "stream",
          "text": [
            "              precision    recall  f1-score   support\n",
            "\n",
            "           1       0.55      0.60      0.57        10\n",
            "           2       0.89      0.86      0.88        37\n",
            "\n",
            "    accuracy                           0.81        47\n",
            "   macro avg       0.72      0.73      0.72        47\n",
            "weighted avg       0.82      0.81      0.81        47\n",
            "\n"
          ],
          "name": "stdout"
        }
      ]
    },
    {
      "cell_type": "markdown",
      "metadata": {
        "id": "HqI1M0osnymz",
        "colab_type": "text"
      },
      "source": [
        "# Construct  model based on the first tthen selected features"
      ]
    },
    {
      "cell_type": "code",
      "metadata": {
        "id": "PYeDGOIAoL1T",
        "colab_type": "code",
        "colab": {
          "base_uri": "https://localhost:8080/",
          "height": 181
        },
        "outputId": "78457198-fa60-4bb2-e3f9-3f0f41548f90"
      },
      "source": [
        "#selected_features = list(feat_scores.nlargest(10, \"score\" )[\"feature_names\"])\n",
        "selected_features = [\"protime\",\"sgot\",\"bilirubin\", \"age\", \"alk_phosphate\", \"albumin\" ] \n",
        "X_train_1 = X_train[selected_features]\n",
        "X_test_1 = X_test[selected_features]\n",
        "lr = LogisticRegression()\n",
        "lr.fit(X_train_1,y_train)\n",
        "pred_lr = lr.predict(X_test_1)\n",
        "print(classification_report(y_test,pred_lr))"
      ],
      "execution_count": 53,
      "outputs": [
        {
          "output_type": "stream",
          "text": [
            "              precision    recall  f1-score   support\n",
            "\n",
            "           1       0.60      0.30      0.40        10\n",
            "           2       0.83      0.95      0.89        37\n",
            "\n",
            "    accuracy                           0.81        47\n",
            "   macro avg       0.72      0.62      0.64        47\n",
            "weighted avg       0.78      0.81      0.78        47\n",
            "\n"
          ],
          "name": "stdout"
        }
      ]
    },
    {
      "cell_type": "markdown",
      "metadata": {
        "id": "xlYPtREpSRWp",
        "colab_type": "text"
      },
      "source": [
        "## Model evaluation"
      ]
    },
    {
      "cell_type": "code",
      "metadata": {
        "id": "bh93ODwMSVs3",
        "colab_type": "code",
        "colab": {}
      },
      "source": [
        ""
      ],
      "execution_count": null,
      "outputs": []
    }
  ]
}
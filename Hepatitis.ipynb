{
  "nbformat": 4,
  "nbformat_minor": 0,
  "metadata": {
    "colab": {
      "name": "Hepatitis.ipynb",
      "provenance": [],
      "authorship_tag": "ABX9TyOvpjE1EYTrHmw2eAMVQtA4"
    },
    "kernelspec": {
      "name": "python3",
      "display_name": "Python 3"
    }
  },
  "cells": [
    {
      "cell_type": "code",
      "metadata": {
        "id": "BluWAobcQJq5",
        "colab_type": "code",
        "colab": {}
      },
      "source": [
        ""
      ],
      "execution_count": null,
      "outputs": []
    },
    {
      "cell_type": "markdown",
      "metadata": {
        "id": "6syH2Rx1bmBr",
        "colab_type": "text"
      },
      "source": [
        "**For data source click** <a href=\"https://archive.ics.uci.edu/ml/datasets/Hepatitis\">Here<a/>\n",
        "\n",
        "<br/> Author **Shereef Bankole**\n",
        "<br/> **LinkedIn click** <a href=\"https://www.linkedin.com/in/shereef-b-b9aab823/\\\">Here<a/>\n",
        "<br/> **Github click**  <a href=\"https://github.com/SAB-6\\\">Here<a/>"
      ]
    },
    {
      "cell_type": "markdown",
      "metadata": {
        "id": "pVwi6vjGQXxf",
        "colab_type": "text"
      },
      "source": [
        "## Table of contents\n",
        "- [Project objectives](#Project-objectives)\n",
        "- [Data exploration](#Exploratory-data-analysis)\n",
        "- [Data Wrangling](#Data-wrangling)\n",
        "- [Data modelling](#Modelling)\n",
        "- [Model Evaluation](#Model-evaluation)"
      ]
    },
    {
      "cell_type": "markdown",
      "metadata": {
        "id": "BiLvYNJOSa7_",
        "colab_type": "text"
      },
      "source": [
        "## Import Required libraries"
      ]
    },
    {
      "cell_type": "code",
      "metadata": {
        "id": "1oZTWbOSSlOz",
        "colab_type": "code",
        "colab": {}
      },
      "source": [
        "\n",
        "import pandas as pd\n",
        "import numpy as np\n",
        "import matplotlib.pyplot as plt\n",
        "import matplotlib as matplot\n",
        "import seaborn as sns\n",
        "from sklearn.feature_extraction.text import CountVectorizer, TfidfTransformer\n",
        "from sklearn.linear_model import LogisticRegression\n",
        "from sklearn.model_selection import cross_val_score\n",
        "from sklearn.ensemble import RandomForestClassifier\n",
        "from sklearn.ensemble import GradientBoostingClassifier\n",
        "from sklearn.model_selection import GridSearchCV\n",
        "from sklearn.preprocessing import StandardScaler\n",
        "from sklearn.pipeline import Pipeline, make_pipeline\n",
        "from sklearn.model_selection import train_test_split\n",
        "from sklearn.metrics import accuracy_score, classification_report, precision_score, recall_score, f1_score, confusion_matrix, precision_recall_curve, roc_curve, roc_auc_score\n",
        "%matplotlib inline\n",
        "from nltk.stem.wordnet import WordNetLemmatizer\n",
        "from nltk.tokenize import word_tokenize\n",
        "import nltk\n",
        "nltk.download('stopwords')\n",
        "from nltk.corpus import stopwords\n",
        "from string import punctuation\n",
        "from sklearn.compose import ColumnTransformer, make_column_transformer"
      ],
      "execution_count": null,
      "outputs": []
    },
    {
      "cell_type": "code",
      "metadata": {
        "id": "a-O-g07gUZDf",
        "colab_type": "code",
        "colab": {}
      },
      "source": [
        "import pandas as pd\n",
        "import numpy as np\n",
        "import seaborn as sns\n",
        "import matplotlib.pyplot as plt\n",
        "import matplotlib as mpl\n",
        "mpl.rcParams['figure.figsize'] = [12.0, 8.0]\n",
        "mpl.rcParams['grid.color'] = 'k'\n",
        "mpl.rcParams['grid.linestyle'] = ':'\n",
        "mpl.rcParams.update({'font.size': 18})\n",
        "import warnings\n",
        "warnings.filterwarnings('ignore')"
      ],
      "execution_count": 78,
      "outputs": []
    },
    {
      "cell_type": "code",
      "metadata": {
        "id": "gyVJVJ60T65o",
        "colab_type": "code",
        "colab": {
          "base_uri": "https://localhost:8080/",
          "height": 217
        },
        "outputId": "28b2d7a6-ee3b-4051-eb70-3632fc14f2d4"
      },
      "source": [
        "!wget https://archive.ics.uci.edu/ml/machine-learning-databases/hepatitis/hepatitis.data"
      ],
      "execution_count": 1,
      "outputs": [
        {
          "output_type": "stream",
          "text": [
            "--2020-07-19 13:42:50--  https://archive.ics.uci.edu/ml/machine-learning-databases/hepatitis/hepatitis.data\n",
            "Resolving archive.ics.uci.edu (archive.ics.uci.edu)... 128.195.10.252\n",
            "Connecting to archive.ics.uci.edu (archive.ics.uci.edu)|128.195.10.252|:443... connected.\n",
            "HTTP request sent, awaiting response... 200 OK\n",
            "Length: 7545 (7.4K) [application/x-httpd-php]\n",
            "Saving to: ‘hepatitis.data’\n",
            "\n",
            "\rhepatitis.data        0%[                    ]       0  --.-KB/s               \rhepatitis.data      100%[===================>]   7.37K  --.-KB/s    in 0s      \n",
            "\n",
            "2020-07-19 13:42:50 (271 MB/s) - ‘hepatitis.data’ saved [7545/7545]\n",
            "\n"
          ],
          "name": "stdout"
        }
      ]
    },
    {
      "cell_type": "code",
      "metadata": {
        "id": "HzHybr25UMkm",
        "colab_type": "code",
        "colab": {
          "base_uri": "https://localhost:8080/",
          "height": 198
        },
        "outputId": "1cc85343-21df-4c53-a386-d3653f8affdf"
      },
      "source": [
        ""
      ],
      "execution_count": 7,
      "outputs": [
        {
          "output_type": "execute_result",
          "data": {
            "text/html": [
              "<div>\n",
              "<style scoped>\n",
              "    .dataframe tbody tr th:only-of-type {\n",
              "        vertical-align: middle;\n",
              "    }\n",
              "\n",
              "    .dataframe tbody tr th {\n",
              "        vertical-align: top;\n",
              "    }\n",
              "\n",
              "    .dataframe thead th {\n",
              "        text-align: right;\n",
              "    }\n",
              "</style>\n",
              "<table border=\"1\" class=\"dataframe\">\n",
              "  <thead>\n",
              "    <tr style=\"text-align: right;\">\n",
              "      <th></th>\n",
              "      <th>2</th>\n",
              "      <th>30</th>\n",
              "      <th>2.1</th>\n",
              "      <th>1</th>\n",
              "      <th>2.2</th>\n",
              "      <th>2.3</th>\n",
              "      <th>2.4</th>\n",
              "      <th>2.5</th>\n",
              "      <th>1.1</th>\n",
              "      <th>2.6</th>\n",
              "      <th>2.7</th>\n",
              "      <th>2.8</th>\n",
              "      <th>2.9</th>\n",
              "      <th>2.10</th>\n",
              "      <th>1.00</th>\n",
              "      <th>85</th>\n",
              "      <th>18</th>\n",
              "      <th>4.0</th>\n",
              "      <th>?</th>\n",
              "      <th>1.2</th>\n",
              "    </tr>\n",
              "  </thead>\n",
              "  <tbody>\n",
              "    <tr>\n",
              "      <th>0</th>\n",
              "      <td>2</td>\n",
              "      <td>50</td>\n",
              "      <td>1</td>\n",
              "      <td>1</td>\n",
              "      <td>2</td>\n",
              "      <td>1</td>\n",
              "      <td>2</td>\n",
              "      <td>2</td>\n",
              "      <td>1</td>\n",
              "      <td>2</td>\n",
              "      <td>2</td>\n",
              "      <td>2</td>\n",
              "      <td>2</td>\n",
              "      <td>2</td>\n",
              "      <td>0.90</td>\n",
              "      <td>135</td>\n",
              "      <td>42</td>\n",
              "      <td>3.5</td>\n",
              "      <td>?</td>\n",
              "      <td>1</td>\n",
              "    </tr>\n",
              "    <tr>\n",
              "      <th>1</th>\n",
              "      <td>2</td>\n",
              "      <td>78</td>\n",
              "      <td>1</td>\n",
              "      <td>2</td>\n",
              "      <td>2</td>\n",
              "      <td>1</td>\n",
              "      <td>2</td>\n",
              "      <td>2</td>\n",
              "      <td>2</td>\n",
              "      <td>2</td>\n",
              "      <td>2</td>\n",
              "      <td>2</td>\n",
              "      <td>2</td>\n",
              "      <td>2</td>\n",
              "      <td>0.70</td>\n",
              "      <td>96</td>\n",
              "      <td>32</td>\n",
              "      <td>4.0</td>\n",
              "      <td>?</td>\n",
              "      <td>1</td>\n",
              "    </tr>\n",
              "    <tr>\n",
              "      <th>2</th>\n",
              "      <td>2</td>\n",
              "      <td>31</td>\n",
              "      <td>1</td>\n",
              "      <td>?</td>\n",
              "      <td>1</td>\n",
              "      <td>2</td>\n",
              "      <td>2</td>\n",
              "      <td>2</td>\n",
              "      <td>2</td>\n",
              "      <td>2</td>\n",
              "      <td>2</td>\n",
              "      <td>2</td>\n",
              "      <td>2</td>\n",
              "      <td>2</td>\n",
              "      <td>0.70</td>\n",
              "      <td>46</td>\n",
              "      <td>52</td>\n",
              "      <td>4.0</td>\n",
              "      <td>80</td>\n",
              "      <td>1</td>\n",
              "    </tr>\n",
              "    <tr>\n",
              "      <th>3</th>\n",
              "      <td>2</td>\n",
              "      <td>34</td>\n",
              "      <td>1</td>\n",
              "      <td>2</td>\n",
              "      <td>2</td>\n",
              "      <td>2</td>\n",
              "      <td>2</td>\n",
              "      <td>2</td>\n",
              "      <td>2</td>\n",
              "      <td>2</td>\n",
              "      <td>2</td>\n",
              "      <td>2</td>\n",
              "      <td>2</td>\n",
              "      <td>2</td>\n",
              "      <td>1.00</td>\n",
              "      <td>?</td>\n",
              "      <td>200</td>\n",
              "      <td>4.0</td>\n",
              "      <td>?</td>\n",
              "      <td>1</td>\n",
              "    </tr>\n",
              "    <tr>\n",
              "      <th>4</th>\n",
              "      <td>2</td>\n",
              "      <td>34</td>\n",
              "      <td>1</td>\n",
              "      <td>2</td>\n",
              "      <td>2</td>\n",
              "      <td>2</td>\n",
              "      <td>2</td>\n",
              "      <td>2</td>\n",
              "      <td>2</td>\n",
              "      <td>2</td>\n",
              "      <td>2</td>\n",
              "      <td>2</td>\n",
              "      <td>2</td>\n",
              "      <td>2</td>\n",
              "      <td>0.90</td>\n",
              "      <td>95</td>\n",
              "      <td>28</td>\n",
              "      <td>4.0</td>\n",
              "      <td>75</td>\n",
              "      <td>1</td>\n",
              "    </tr>\n",
              "  </tbody>\n",
              "</table>\n",
              "</div>"
            ],
            "text/plain": [
              "   2  30  2.1  1  2.2 2.3 2.4 2.5  ... 2.9 2.10  1.00   85   18  4.0   ? 1.2\n",
              "0  2  50    1  1    2   1   2   2  ...   2    2  0.90  135   42  3.5   ?   1\n",
              "1  2  78    1  2    2   1   2   2  ...   2    2  0.70   96   32  4.0   ?   1\n",
              "2  2  31    1  ?    1   2   2   2  ...   2    2  0.70   46   52  4.0  80   1\n",
              "3  2  34    1  2    2   2   2   2  ...   2    2  1.00    ?  200  4.0   ?   1\n",
              "4  2  34    1  2    2   2   2   2  ...   2    2  0.90   95   28  4.0  75   1\n",
              "\n",
              "[5 rows x 20 columns]"
            ]
          },
          "metadata": {
            "tags": []
          },
          "execution_count": 7
        }
      ]
    },
    {
      "cell_type": "code",
      "metadata": {
        "id": "2HZvoeNUQmxx",
        "colab_type": "code",
        "colab": {}
      },
      "source": [
        "pd.set_option(\"display.max_columns\",None)\n",
        "pd.set_option(\"display.max_rows\",None)"
      ],
      "execution_count": null,
      "outputs": []
    },
    {
      "cell_type": "markdown",
      "metadata": {
        "id": "wIhrvS07Qx8x",
        "colab_type": "text"
      },
      "source": [
        "## Project objectives\n",
        "\n",
        "Predicting patient mortality due to hepatitis"
      ]
    },
    {
      "cell_type": "code",
      "metadata": {
        "id": "vq-XWk0bQ0KF",
        "colab_type": "code",
        "colab": {}
      },
      "source": [
        ""
      ],
      "execution_count": null,
      "outputs": []
    },
    {
      "cell_type": "markdown",
      "metadata": {
        "id": "vi63eKDeRL49",
        "colab_type": "text"
      },
      "source": [
        "## Exploratory data analysis/Data wrangling"
      ]
    },
    {
      "cell_type": "code",
      "metadata": {
        "id": "QAaDt2MlR_j8",
        "colab_type": "code",
        "colab": {
          "base_uri": "https://localhost:8080/",
          "height": 235
        },
        "outputId": "c189a46c-5202-4f48-fe74-cb548fb9822f"
      },
      "source": [
        "data= pd.read_table('hepatitis.data', sep =',')\n",
        "data.columns = [\"Class\", \"AGE\", \"SEX\", \"STEROID\", \"ANTIVIRALS\", \"FATIGUE\", \"MALAISE\", \"ANOREXIA\", \"LIVER BIG\", \"LIVER FIRM\",\n",
        "                \"SPLEEN PALPABLE\", \"SPIDERS\", \"ASCITES\", \"VARICES\", \"BILIRUBIN\", \"ALK PHOSPHATE\", \"SGOT\", \"ALBUMIN\",\n",
        "                \"PROTIME\", \"HISTOLOGY\"]\n",
        "data.head()"
      ],
      "execution_count": 10,
      "outputs": [
        {
          "output_type": "execute_result",
          "data": {
            "text/html": [
              "<div>\n",
              "<style scoped>\n",
              "    .dataframe tbody tr th:only-of-type {\n",
              "        vertical-align: middle;\n",
              "    }\n",
              "\n",
              "    .dataframe tbody tr th {\n",
              "        vertical-align: top;\n",
              "    }\n",
              "\n",
              "    .dataframe thead th {\n",
              "        text-align: right;\n",
              "    }\n",
              "</style>\n",
              "<table border=\"1\" class=\"dataframe\">\n",
              "  <thead>\n",
              "    <tr style=\"text-align: right;\">\n",
              "      <th></th>\n",
              "      <th>Class</th>\n",
              "      <th>AGE</th>\n",
              "      <th>SEX</th>\n",
              "      <th>STEROID</th>\n",
              "      <th>ANTIVIRALS</th>\n",
              "      <th>FATIGUE</th>\n",
              "      <th>MALAISE</th>\n",
              "      <th>ANOREXIA</th>\n",
              "      <th>LIVER BIG</th>\n",
              "      <th>LIVER FIRM</th>\n",
              "      <th>SPLEEN PALPABLE</th>\n",
              "      <th>SPIDERS</th>\n",
              "      <th>ASCITES</th>\n",
              "      <th>VARICES</th>\n",
              "      <th>BILIRUBIN</th>\n",
              "      <th>ALK PHOSPHATE</th>\n",
              "      <th>SGOT</th>\n",
              "      <th>ALBUMIN</th>\n",
              "      <th>PROTIME</th>\n",
              "      <th>HISTOLOGY</th>\n",
              "    </tr>\n",
              "  </thead>\n",
              "  <tbody>\n",
              "    <tr>\n",
              "      <th>0</th>\n",
              "      <td>2</td>\n",
              "      <td>50</td>\n",
              "      <td>1</td>\n",
              "      <td>1</td>\n",
              "      <td>2</td>\n",
              "      <td>1</td>\n",
              "      <td>2</td>\n",
              "      <td>2</td>\n",
              "      <td>1</td>\n",
              "      <td>2</td>\n",
              "      <td>2</td>\n",
              "      <td>2</td>\n",
              "      <td>2</td>\n",
              "      <td>2</td>\n",
              "      <td>0.90</td>\n",
              "      <td>135</td>\n",
              "      <td>42</td>\n",
              "      <td>3.5</td>\n",
              "      <td>?</td>\n",
              "      <td>1</td>\n",
              "    </tr>\n",
              "    <tr>\n",
              "      <th>1</th>\n",
              "      <td>2</td>\n",
              "      <td>78</td>\n",
              "      <td>1</td>\n",
              "      <td>2</td>\n",
              "      <td>2</td>\n",
              "      <td>1</td>\n",
              "      <td>2</td>\n",
              "      <td>2</td>\n",
              "      <td>2</td>\n",
              "      <td>2</td>\n",
              "      <td>2</td>\n",
              "      <td>2</td>\n",
              "      <td>2</td>\n",
              "      <td>2</td>\n",
              "      <td>0.70</td>\n",
              "      <td>96</td>\n",
              "      <td>32</td>\n",
              "      <td>4.0</td>\n",
              "      <td>?</td>\n",
              "      <td>1</td>\n",
              "    </tr>\n",
              "    <tr>\n",
              "      <th>2</th>\n",
              "      <td>2</td>\n",
              "      <td>31</td>\n",
              "      <td>1</td>\n",
              "      <td>?</td>\n",
              "      <td>1</td>\n",
              "      <td>2</td>\n",
              "      <td>2</td>\n",
              "      <td>2</td>\n",
              "      <td>2</td>\n",
              "      <td>2</td>\n",
              "      <td>2</td>\n",
              "      <td>2</td>\n",
              "      <td>2</td>\n",
              "      <td>2</td>\n",
              "      <td>0.70</td>\n",
              "      <td>46</td>\n",
              "      <td>52</td>\n",
              "      <td>4.0</td>\n",
              "      <td>80</td>\n",
              "      <td>1</td>\n",
              "    </tr>\n",
              "    <tr>\n",
              "      <th>3</th>\n",
              "      <td>2</td>\n",
              "      <td>34</td>\n",
              "      <td>1</td>\n",
              "      <td>2</td>\n",
              "      <td>2</td>\n",
              "      <td>2</td>\n",
              "      <td>2</td>\n",
              "      <td>2</td>\n",
              "      <td>2</td>\n",
              "      <td>2</td>\n",
              "      <td>2</td>\n",
              "      <td>2</td>\n",
              "      <td>2</td>\n",
              "      <td>2</td>\n",
              "      <td>1.00</td>\n",
              "      <td>?</td>\n",
              "      <td>200</td>\n",
              "      <td>4.0</td>\n",
              "      <td>?</td>\n",
              "      <td>1</td>\n",
              "    </tr>\n",
              "    <tr>\n",
              "      <th>4</th>\n",
              "      <td>2</td>\n",
              "      <td>34</td>\n",
              "      <td>1</td>\n",
              "      <td>2</td>\n",
              "      <td>2</td>\n",
              "      <td>2</td>\n",
              "      <td>2</td>\n",
              "      <td>2</td>\n",
              "      <td>2</td>\n",
              "      <td>2</td>\n",
              "      <td>2</td>\n",
              "      <td>2</td>\n",
              "      <td>2</td>\n",
              "      <td>2</td>\n",
              "      <td>0.90</td>\n",
              "      <td>95</td>\n",
              "      <td>28</td>\n",
              "      <td>4.0</td>\n",
              "      <td>75</td>\n",
              "      <td>1</td>\n",
              "    </tr>\n",
              "  </tbody>\n",
              "</table>\n",
              "</div>"
            ],
            "text/plain": [
              "   Class  AGE  SEX STEROID  ...  SGOT ALBUMIN PROTIME HISTOLOGY\n",
              "0      2   50    1       1  ...    42     3.5       ?         1\n",
              "1      2   78    1       2  ...    32     4.0       ?         1\n",
              "2      2   31    1       ?  ...    52     4.0      80         1\n",
              "3      2   34    1       2  ...   200     4.0       ?         1\n",
              "4      2   34    1       2  ...    28     4.0      75         1\n",
              "\n",
              "[5 rows x 20 columns]"
            ]
          },
          "metadata": {
            "tags": []
          },
          "execution_count": 10
        }
      ]
    },
    {
      "cell_type": "code",
      "metadata": {
        "id": "Ev6XJb70Yemt",
        "colab_type": "code",
        "colab": {}
      },
      "source": [
        "# shuffle data\n",
        "data = data.sample(frac = 1).reset_index(drop =True)"
      ],
      "execution_count": 11,
      "outputs": []
    },
    {
      "cell_type": "code",
      "metadata": {
        "id": "2LPTkSvKZFCQ",
        "colab_type": "code",
        "colab": {
          "base_uri": "https://localhost:8080/",
          "height": 218
        },
        "outputId": "f79200e6-11f5-4607-db32-5c6dc150afdb"
      },
      "source": [
        "data.columns = data.columns.str.lower().str.replace(' ','_')\n",
        "data.head()"
      ],
      "execution_count": 13,
      "outputs": [
        {
          "output_type": "execute_result",
          "data": {
            "text/html": [
              "<div>\n",
              "<style scoped>\n",
              "    .dataframe tbody tr th:only-of-type {\n",
              "        vertical-align: middle;\n",
              "    }\n",
              "\n",
              "    .dataframe tbody tr th {\n",
              "        vertical-align: top;\n",
              "    }\n",
              "\n",
              "    .dataframe thead th {\n",
              "        text-align: right;\n",
              "    }\n",
              "</style>\n",
              "<table border=\"1\" class=\"dataframe\">\n",
              "  <thead>\n",
              "    <tr style=\"text-align: right;\">\n",
              "      <th></th>\n",
              "      <th>class</th>\n",
              "      <th>age</th>\n",
              "      <th>sex</th>\n",
              "      <th>steroid</th>\n",
              "      <th>antivirals</th>\n",
              "      <th>fatigue</th>\n",
              "      <th>malaise</th>\n",
              "      <th>anorexia</th>\n",
              "      <th>liver_big</th>\n",
              "      <th>liver_firm</th>\n",
              "      <th>spleen_palpable</th>\n",
              "      <th>spiders</th>\n",
              "      <th>ascites</th>\n",
              "      <th>varices</th>\n",
              "      <th>bilirubin</th>\n",
              "      <th>alk_phosphate</th>\n",
              "      <th>sgot</th>\n",
              "      <th>albumin</th>\n",
              "      <th>protime</th>\n",
              "      <th>histology</th>\n",
              "    </tr>\n",
              "  </thead>\n",
              "  <tbody>\n",
              "    <tr>\n",
              "      <th>0</th>\n",
              "      <td>2</td>\n",
              "      <td>44</td>\n",
              "      <td>1</td>\n",
              "      <td>1</td>\n",
              "      <td>2</td>\n",
              "      <td>1</td>\n",
              "      <td>1</td>\n",
              "      <td>2</td>\n",
              "      <td>1</td>\n",
              "      <td>1</td>\n",
              "      <td>2</td>\n",
              "      <td>1</td>\n",
              "      <td>2</td>\n",
              "      <td>2</td>\n",
              "      <td>3.00</td>\n",
              "      <td>114</td>\n",
              "      <td>65</td>\n",
              "      <td>3.5</td>\n",
              "      <td>?</td>\n",
              "      <td>2</td>\n",
              "    </tr>\n",
              "    <tr>\n",
              "      <th>1</th>\n",
              "      <td>2</td>\n",
              "      <td>39</td>\n",
              "      <td>1</td>\n",
              "      <td>2</td>\n",
              "      <td>2</td>\n",
              "      <td>1</td>\n",
              "      <td>2</td>\n",
              "      <td>2</td>\n",
              "      <td>2</td>\n",
              "      <td>2</td>\n",
              "      <td>2</td>\n",
              "      <td>2</td>\n",
              "      <td>2</td>\n",
              "      <td>2</td>\n",
              "      <td>1.00</td>\n",
              "      <td>34</td>\n",
              "      <td>15</td>\n",
              "      <td>4.0</td>\n",
              "      <td>54</td>\n",
              "      <td>1</td>\n",
              "    </tr>\n",
              "    <tr>\n",
              "      <th>2</th>\n",
              "      <td>2</td>\n",
              "      <td>49</td>\n",
              "      <td>1</td>\n",
              "      <td>1</td>\n",
              "      <td>1</td>\n",
              "      <td>1</td>\n",
              "      <td>1</td>\n",
              "      <td>1</td>\n",
              "      <td>2</td>\n",
              "      <td>1</td>\n",
              "      <td>2</td>\n",
              "      <td>1</td>\n",
              "      <td>2</td>\n",
              "      <td>2</td>\n",
              "      <td>0.60</td>\n",
              "      <td>85</td>\n",
              "      <td>48</td>\n",
              "      <td>3.7</td>\n",
              "      <td>?</td>\n",
              "      <td>1</td>\n",
              "    </tr>\n",
              "    <tr>\n",
              "      <th>3</th>\n",
              "      <td>1</td>\n",
              "      <td>33</td>\n",
              "      <td>1</td>\n",
              "      <td>1</td>\n",
              "      <td>2</td>\n",
              "      <td>1</td>\n",
              "      <td>1</td>\n",
              "      <td>2</td>\n",
              "      <td>2</td>\n",
              "      <td>2</td>\n",
              "      <td>2</td>\n",
              "      <td>2</td>\n",
              "      <td>1</td>\n",
              "      <td>2</td>\n",
              "      <td>0.70</td>\n",
              "      <td>63</td>\n",
              "      <td>80</td>\n",
              "      <td>3.0</td>\n",
              "      <td>31</td>\n",
              "      <td>2</td>\n",
              "    </tr>\n",
              "    <tr>\n",
              "      <th>4</th>\n",
              "      <td>2</td>\n",
              "      <td>23</td>\n",
              "      <td>1</td>\n",
              "      <td>2</td>\n",
              "      <td>2</td>\n",
              "      <td>1</td>\n",
              "      <td>1</td>\n",
              "      <td>1</td>\n",
              "      <td>2</td>\n",
              "      <td>2</td>\n",
              "      <td>2</td>\n",
              "      <td>2</td>\n",
              "      <td>2</td>\n",
              "      <td>2</td>\n",
              "      <td>0.80</td>\n",
              "      <td>?</td>\n",
              "      <td>14</td>\n",
              "      <td>4.8</td>\n",
              "      <td>?</td>\n",
              "      <td>1</td>\n",
              "    </tr>\n",
              "  </tbody>\n",
              "</table>\n",
              "</div>"
            ],
            "text/plain": [
              "   class  age  sex steroid  ...  sgot albumin protime histology\n",
              "0      2   44    1       1  ...    65     3.5       ?         2\n",
              "1      2   39    1       2  ...    15     4.0      54         1\n",
              "2      2   49    1       1  ...    48     3.7       ?         1\n",
              "3      1   33    1       1  ...    80     3.0      31         2\n",
              "4      2   23    1       2  ...    14     4.8       ?         1\n",
              "\n",
              "[5 rows x 20 columns]"
            ]
          },
          "metadata": {
            "tags": []
          },
          "execution_count": 13
        }
      ]
    },
    {
      "cell_type": "code",
      "metadata": {
        "id": "_6hbReceYtrj",
        "colab_type": "code",
        "colab": {
          "base_uri": "https://localhost:8080/",
          "height": 508
        },
        "outputId": "261434fb-de5b-4452-aab6-1cc08f93f572"
      },
      "source": [
        "# Inspecting the data\n",
        "data.info()"
      ],
      "execution_count": 15,
      "outputs": [
        {
          "output_type": "stream",
          "text": [
            "<class 'pandas.core.frame.DataFrame'>\n",
            "RangeIndex: 154 entries, 0 to 153\n",
            "Data columns (total 20 columns):\n",
            " #   Column           Non-Null Count  Dtype \n",
            "---  ------           --------------  ----- \n",
            " 0   class            154 non-null    int64 \n",
            " 1   age              154 non-null    int64 \n",
            " 2   sex              154 non-null    int64 \n",
            " 3   steroid          154 non-null    object\n",
            " 4   antivirals       154 non-null    int64 \n",
            " 5   fatigue          154 non-null    object\n",
            " 6   malaise          154 non-null    object\n",
            " 7   anorexia         154 non-null    object\n",
            " 8   liver_big        154 non-null    object\n",
            " 9   liver_firm       154 non-null    object\n",
            " 10  spleen_palpable  154 non-null    object\n",
            " 11  spiders          154 non-null    object\n",
            " 12  ascites          154 non-null    object\n",
            " 13  varices          154 non-null    object\n",
            " 14  bilirubin        154 non-null    object\n",
            " 15  alk_phosphate    154 non-null    object\n",
            " 16  sgot             154 non-null    object\n",
            " 17  albumin          154 non-null    object\n",
            " 18  protime          154 non-null    object\n",
            " 19  histology        154 non-null    int64 \n",
            "dtypes: int64(5), object(15)\n",
            "memory usage: 24.2+ KB\n"
          ],
          "name": "stdout"
        }
      ]
    },
    {
      "cell_type": "markdown",
      "metadata": {
        "id": "rLwxvjDFaDi7",
        "colab_type": "text"
      },
      "source": [
        "### Both info and isnull methods did notr reveal the missing values within each attributes.  However, <a href =\"https://archive.ics.uci.edu/ml/datasets/Hepatitis\">the data source indicates presence of missing values within the dataset</a>."
      ]
    },
    {
      "cell_type": "code",
      "metadata": {
        "id": "XC8edrtOOgO1",
        "colab_type": "code",
        "colab": {
          "base_uri": "https://localhost:8080/",
          "height": 513
        },
        "outputId": "c0223399-4bb1-47ff-b020-6bfa8ee00d70"
      },
      "source": [
        "(data.isnull().sum().sort_values()/len(data)).plot(kind = 'barh');\n",
        "plt.xlabel(\"Percentage of missing values\");"
      ],
      "execution_count": 26,
      "outputs": [
        {
          "output_type": "display_data",
          "data": {
            "image/png": "[encoded data removed]",
            "text/plain": [
              "<Figure size 864x576 with 1 Axes>"
            ]
          },
          "metadata": {
            "tags": [],
            "needs_background": "light"
          }
        }
      ]
    },
    {
      "cell_type": "markdown",
      "metadata": {
        "id": "i-6COjGEPpBp",
        "colab_type": "text"
      },
      "source": [
        "#### From the bar chart above, sex, age, histology, antivirals nad class attributes have no missing value. Missing values for other attributes varies from very few percentage to more than 40%"
      ]
    },
    {
      "cell_type": "code",
      "metadata": {
        "id": "i5xPkXqlf_Rm",
        "colab_type": "code",
        "colab": {
          "base_uri": "https://localhost:8080/",
          "height": 399
        },
        "outputId": "c17fa4a1-a3bd-4221-ca07-430b5c83d67f"
      },
      "source": [
        "# replace missing values (np.nan) with zeros\n",
        "data = data.replace(np.nan,0)\n",
        "\n",
        "# change some of the column to int type\n",
        "int_columns = [col for col in list(data.columns) if data[col].dtypes != int if col not in (\"bilirubin\",\"albumin\")]\n",
        "data[int_columns] = data[int_columns].astype(int)\n",
        "\n",
        "# change both bilirubin and albumin columns to float\n",
        "data[['bilirubin','albumin']] = data[['bilirubin','albumin']].astype(float)\n",
        "# check the data types\n",
        "data.dtypes"
      ],
      "execution_count": 60,
      "outputs": [
        {
          "output_type": "execute_result",
          "data": {
            "text/plain": [
              "class                int64\n",
              "age                  int64\n",
              "sex                  int64\n",
              "steroid              int64\n",
              "antivirals           int64\n",
              "fatigue              int64\n",
              "malaise              int64\n",
              "anorexia             int64\n",
              "liver_big            int64\n",
              "liver_firm           int64\n",
              "spleen_palpable      int64\n",
              "spiders              int64\n",
              "ascites              int64\n",
              "varices              int64\n",
              "bilirubin          float64\n",
              "alk_phosphate        int64\n",
              "sgot                 int64\n",
              "albumin            float64\n",
              "protime              int64\n",
              "histology            int64\n",
              "dtype: object"
            ]
          },
          "metadata": {
            "tags": []
          },
          "execution_count": 60
        }
      ]
    },
    {
      "cell_type": "code",
      "metadata": {
        "id": "NzawteTlgDl5",
        "colab_type": "code",
        "colab": {
          "base_uri": "https://localhost:8080/",
          "height": 399
        },
        "outputId": "315a311b-05fe-4fcd-f6a5-8d84f4786101"
      },
      "source": [
        "data.isnull().sum().sort_values()"
      ],
      "execution_count": 59,
      "outputs": [
        {
          "output_type": "execute_result",
          "data": {
            "text/plain": [
              "class              0\n",
              "albumin            0\n",
              "sgot               0\n",
              "alk_phosphate      0\n",
              "bilirubin          0\n",
              "varices            0\n",
              "ascites            0\n",
              "spiders            0\n",
              "spleen_palpable    0\n",
              "liver_firm         0\n",
              "liver_big          0\n",
              "anorexia           0\n",
              "malaise            0\n",
              "fatigue            0\n",
              "antivirals         0\n",
              "steroid            0\n",
              "sex                0\n",
              "age                0\n",
              "protime            0\n",
              "histology          0\n",
              "dtype: int64"
            ]
          },
          "metadata": {
            "tags": []
          },
          "execution_count": 59
        }
      ]
    },
    {
      "cell_type": "code",
      "metadata": {
        "id": "bB3ykWNDOsXf",
        "colab_type": "code",
        "colab": {
          "base_uri": "https://localhost:8080/",
          "height": 413
        },
        "outputId": "7215bc01-71f5-417e-d416-348614e79af6"
      },
      "source": [
        "# Check for class imbalance in the target variable\n",
        "(data['class'].value_counts()/len(data)).plot(kind='bar', color = 'orange',figsize=(10, 6), stacked=False)\n",
        "plt.xlabel(\"Class (Die/Live)\", fontsize=15)\n",
        "plt.ylabel('Percentage', fontsize=15)\n",
        "plt.title(\"Class distribution\", fontsize=15);"
      ],
      "execution_count": 27,
      "outputs": [
        {
          "output_type": "display_data",
          "data": {
            "image/png": "[encoded data removed]",
            "text/plain": [
              "<Figure size 720x432 with 1 Axes>"
            ]
          },
          "metadata": {
            "tags": [],
            "needs_background": "light"
          }
        }
      ]
    },
    {
      "cell_type": "markdown",
      "metadata": {
        "id": "5R1dmw_vOmzu",
        "colab_type": "text"
      },
      "source": [
        "### The target is skewed as indicated by the class distribution plot above. 2 represents the people tha lives while 1 represents those tha dies from hepatitis."
      ]
    },
    {
      "cell_type": "code",
      "metadata": {
        "id": "_DDLg0tygrQh",
        "colab_type": "code",
        "colab": {
          "base_uri": "https://localhost:8080/",
          "height": 35
        },
        "outputId": "88c417cd-74dc-4125-fe2d-9a64bd245e87"
      },
      "source": [
        "data.age.max()"
      ],
      "execution_count": 62,
      "outputs": [
        {
          "output_type": "execute_result",
          "data": {
            "text/plain": [
              "78"
            ]
          },
          "metadata": {
            "tags": []
          },
          "execution_count": 62
        }
      ]
    },
    {
      "cell_type": "code",
      "metadata": {
        "id": "7jAIOpVAaC0-",
        "colab_type": "code",
        "colab": {
          "base_uri": "https://localhost:8080/",
          "height": 513
        },
        "outputId": "3f0bba5a-7cff-41f4-bb00-37b42ade7005"
      },
      "source": [
        "#Age distribution\n",
        "data[\"age\"].hist()\n",
        "plt.xlabel('Age')\n",
        "plt.ylabel('Count');"
      ],
      "execution_count": 64,
      "outputs": [
        {
          "output_type": "display_data",
          "data": {
            "image/png": "[encoded data removed]",
            "text/plain": [
              "<Figure size 864x576 with 1 Axes>"
            ]
          },
          "metadata": {
            "tags": [],
            "needs_background": "light"
          }
        }
      ]
    },
    {
      "cell_type": "markdown",
      "metadata": {
        "id": "SD5kobO_hDGK",
        "colab_type": "text"
      },
      "source": [
        "### Age distribution shows normal distribution"
      ]
    },
    {
      "cell_type": "code",
      "metadata": {
        "id": "uBuH_22LR3vy",
        "colab_type": "code",
        "colab": {}
      },
      "source": [
        "# pd.set_option(\"display.max_columns\",None)\n",
        "# pd.set_option(\"display.max_rows\",None)"
      ],
      "execution_count": 66,
      "outputs": []
    },
    {
      "cell_type": "code",
      "metadata": {
        "id": "95CXT5l0SF3p",
        "colab_type": "code",
        "colab": {}
      },
      "source": [
        "# data.columns[data.dtypes=='O'].nunique()"
      ],
      "execution_count": 65,
      "outputs": []
    },
    {
      "cell_type": "code",
      "metadata": {
        "id": "ruwCt0lWiEwW",
        "colab_type": "code",
        "colab": {
          "base_uri": "https://localhost:8080/",
          "height": 458
        },
        "outputId": "8a74275d-e2f1-4aa0-d8f5-0f05230ec8c9"
      },
      "source": [
        "(data.sex.value_counts()/len(data)).plot(kind = \"barh\", figsize =(10,7), color = \"green\")\n",
        "plt.xlabel(\"Percentage\")\n",
        "plt.ylabel(\"Male(1)/Female(2)\");"
      ],
      "execution_count": 69,
      "outputs": [
        {
          "output_type": "display_data",
          "data": {
            "image/png": "[encoded data removed]",
            "text/plain": [
              "<Figure size 720x504 with 1 Axes>"
            ]
          },
          "metadata": {
            "tags": [],
            "needs_background": "light"
          }
        }
      ]
    },
    {
      "cell_type": "markdown",
      "metadata": {
        "id": "MZcGVd-Mi66R",
        "colab_type": "text"
      },
      "source": [
        "#### There are about 80% more male than female"
      ]
    },
    {
      "cell_type": "code",
      "metadata": {
        "id": "x7IqBZucjcDe",
        "colab_type": "code",
        "colab": {
          "base_uri": "https://localhost:8080/",
          "height": 308
        },
        "outputId": "e9e81cf9-0064-43f4-f2a2-a3b2b886eb4e"
      },
      "source": [
        "# descriptive statistics\n",
        "data.describe()"
      ],
      "execution_count": 70,
      "outputs": [
        {
          "output_type": "execute_result",
          "data": {
            "text/html": [
              "<div>\n",
              "<style scoped>\n",
              "    .dataframe tbody tr th:only-of-type {\n",
              "        vertical-align: middle;\n",
              "    }\n",
              "\n",
              "    .dataframe tbody tr th {\n",
              "        vertical-align: top;\n",
              "    }\n",
              "\n",
              "    .dataframe thead th {\n",
              "        text-align: right;\n",
              "    }\n",
              "</style>\n",
              "<table border=\"1\" class=\"dataframe\">\n",
              "  <thead>\n",
              "    <tr style=\"text-align: right;\">\n",
              "      <th></th>\n",
              "      <th>class</th>\n",
              "      <th>age</th>\n",
              "      <th>sex</th>\n",
              "      <th>steroid</th>\n",
              "      <th>antivirals</th>\n",
              "      <th>fatigue</th>\n",
              "      <th>malaise</th>\n",
              "      <th>anorexia</th>\n",
              "      <th>liver_big</th>\n",
              "      <th>liver_firm</th>\n",
              "      <th>spleen_palpable</th>\n",
              "      <th>spiders</th>\n",
              "      <th>ascites</th>\n",
              "      <th>varices</th>\n",
              "      <th>bilirubin</th>\n",
              "      <th>alk_phosphate</th>\n",
              "      <th>sgot</th>\n",
              "      <th>albumin</th>\n",
              "      <th>protime</th>\n",
              "      <th>histology</th>\n",
              "    </tr>\n",
              "  </thead>\n",
              "  <tbody>\n",
              "    <tr>\n",
              "      <th>count</th>\n",
              "      <td>154.000000</td>\n",
              "      <td>154.000000</td>\n",
              "      <td>154.000000</td>\n",
              "      <td>154.000000</td>\n",
              "      <td>154.000000</td>\n",
              "      <td>154.000000</td>\n",
              "      <td>154.000000</td>\n",
              "      <td>154.000000</td>\n",
              "      <td>154.000000</td>\n",
              "      <td>154.000000</td>\n",
              "      <td>154.000000</td>\n",
              "      <td>154.000000</td>\n",
              "      <td>154.000000</td>\n",
              "      <td>154.000000</td>\n",
              "      <td>154.000000</td>\n",
              "      <td>154.000000</td>\n",
              "      <td>154.000000</td>\n",
              "      <td>154.000000</td>\n",
              "      <td>154.000000</td>\n",
              "      <td>154.000000</td>\n",
              "    </tr>\n",
              "    <tr>\n",
              "      <th>mean</th>\n",
              "      <td>1.792208</td>\n",
              "      <td>41.272727</td>\n",
              "      <td>1.097403</td>\n",
              "      <td>1.500000</td>\n",
              "      <td>1.844156</td>\n",
              "      <td>1.337662</td>\n",
              "      <td>1.590909</td>\n",
              "      <td>1.779221</td>\n",
              "      <td>1.714286</td>\n",
              "      <td>1.467532</td>\n",
              "      <td>1.740260</td>\n",
              "      <td>1.603896</td>\n",
              "      <td>1.805195</td>\n",
              "      <td>1.818182</td>\n",
              "      <td>1.374675</td>\n",
              "      <td>85.623377</td>\n",
              "      <td>84.103896</td>\n",
              "      <td>3.419481</td>\n",
              "      <td>35.344156</td>\n",
              "      <td>1.454545</td>\n",
              "    </tr>\n",
              "    <tr>\n",
              "      <th>std</th>\n",
              "      <td>0.407051</td>\n",
              "      <td>12.574106</td>\n",
              "      <td>0.297473</td>\n",
              "      <td>0.514496</td>\n",
              "      <td>0.363891</td>\n",
              "      <td>0.488037</td>\n",
              "      <td>0.506347</td>\n",
              "      <td>0.431546</td>\n",
              "      <td>0.579771</td>\n",
              "      <td>0.627984</td>\n",
              "      <td>0.508814</td>\n",
              "      <td>0.553289</td>\n",
              "      <td>0.472484</td>\n",
              "      <td>0.463780</td>\n",
              "      <td>1.223600</td>\n",
              "      <td>62.264151</td>\n",
              "      <td>89.661686</td>\n",
              "      <td>1.321817</td>\n",
              "      <td>35.221870</td>\n",
              "      <td>0.499554</td>\n",
              "    </tr>\n",
              "    <tr>\n",
              "      <th>min</th>\n",
              "      <td>1.000000</td>\n",
              "      <td>7.000000</td>\n",
              "      <td>1.000000</td>\n",
              "      <td>0.000000</td>\n",
              "      <td>1.000000</td>\n",
              "      <td>0.000000</td>\n",
              "      <td>0.000000</td>\n",
              "      <td>0.000000</td>\n",
              "      <td>0.000000</td>\n",
              "      <td>0.000000</td>\n",
              "      <td>0.000000</td>\n",
              "      <td>0.000000</td>\n",
              "      <td>0.000000</td>\n",
              "      <td>0.000000</td>\n",
              "      <td>0.000000</td>\n",
              "      <td>0.000000</td>\n",
              "      <td>0.000000</td>\n",
              "      <td>0.000000</td>\n",
              "      <td>0.000000</td>\n",
              "      <td>1.000000</td>\n",
              "    </tr>\n",
              "    <tr>\n",
              "      <th>25%</th>\n",
              "      <td>2.000000</td>\n",
              "      <td>32.000000</td>\n",
              "      <td>1.000000</td>\n",
              "      <td>1.000000</td>\n",
              "      <td>2.000000</td>\n",
              "      <td>1.000000</td>\n",
              "      <td>1.000000</td>\n",
              "      <td>2.000000</td>\n",
              "      <td>2.000000</td>\n",
              "      <td>1.000000</td>\n",
              "      <td>2.000000</td>\n",
              "      <td>1.000000</td>\n",
              "      <td>2.000000</td>\n",
              "      <td>2.000000</td>\n",
              "      <td>0.700000</td>\n",
              "      <td>50.500000</td>\n",
              "      <td>31.000000</td>\n",
              "      <td>3.025000</td>\n",
              "      <td>0.000000</td>\n",
              "      <td>1.000000</td>\n",
              "    </tr>\n",
              "    <tr>\n",
              "      <th>50%</th>\n",
              "      <td>2.000000</td>\n",
              "      <td>39.000000</td>\n",
              "      <td>1.000000</td>\n",
              "      <td>2.000000</td>\n",
              "      <td>2.000000</td>\n",
              "      <td>1.000000</td>\n",
              "      <td>2.000000</td>\n",
              "      <td>2.000000</td>\n",
              "      <td>2.000000</td>\n",
              "      <td>2.000000</td>\n",
              "      <td>2.000000</td>\n",
              "      <td>2.000000</td>\n",
              "      <td>2.000000</td>\n",
              "      <td>2.000000</td>\n",
              "      <td>1.000000</td>\n",
              "      <td>83.000000</td>\n",
              "      <td>56.500000</td>\n",
              "      <td>3.900000</td>\n",
              "      <td>35.000000</td>\n",
              "      <td>1.000000</td>\n",
              "    </tr>\n",
              "    <tr>\n",
              "      <th>75%</th>\n",
              "      <td>2.000000</td>\n",
              "      <td>50.000000</td>\n",
              "      <td>1.000000</td>\n",
              "      <td>2.000000</td>\n",
              "      <td>2.000000</td>\n",
              "      <td>2.000000</td>\n",
              "      <td>2.000000</td>\n",
              "      <td>2.000000</td>\n",
              "      <td>2.000000</td>\n",
              "      <td>2.000000</td>\n",
              "      <td>2.000000</td>\n",
              "      <td>2.000000</td>\n",
              "      <td>2.000000</td>\n",
              "      <td>2.000000</td>\n",
              "      <td>1.500000</td>\n",
              "      <td>119.750000</td>\n",
              "      <td>99.500000</td>\n",
              "      <td>4.200000</td>\n",
              "      <td>65.500000</td>\n",
              "      <td>2.000000</td>\n",
              "    </tr>\n",
              "    <tr>\n",
              "      <th>max</th>\n",
              "      <td>2.000000</td>\n",
              "      <td>78.000000</td>\n",
              "      <td>2.000000</td>\n",
              "      <td>2.000000</td>\n",
              "      <td>2.000000</td>\n",
              "      <td>2.000000</td>\n",
              "      <td>2.000000</td>\n",
              "      <td>2.000000</td>\n",
              "      <td>2.000000</td>\n",
              "      <td>2.000000</td>\n",
              "      <td>2.000000</td>\n",
              "      <td>2.000000</td>\n",
              "      <td>2.000000</td>\n",
              "      <td>2.000000</td>\n",
              "      <td>8.000000</td>\n",
              "      <td>295.000000</td>\n",
              "      <td>648.000000</td>\n",
              "      <td>6.400000</td>\n",
              "      <td>100.000000</td>\n",
              "      <td>2.000000</td>\n",
              "    </tr>\n",
              "  </tbody>\n",
              "</table>\n",
              "</div>"
            ],
            "text/plain": [
              "            class         age         sex     steroid  antivirals     fatigue  \\\n",
              "count  154.000000  154.000000  154.000000  154.000000  154.000000  154.000000   \n",
              "mean     1.792208   41.272727    1.097403    1.500000    1.844156    1.337662   \n",
              "std      0.407051   12.574106    0.297473    0.514496    0.363891    0.488037   \n",
              "min      1.000000    7.000000    1.000000    0.000000    1.000000    0.000000   \n",
              "25%      2.000000   32.000000    1.000000    1.000000    2.000000    1.000000   \n",
              "50%      2.000000   39.000000    1.000000    2.000000    2.000000    1.000000   \n",
              "75%      2.000000   50.000000    1.000000    2.000000    2.000000    2.000000   \n",
              "max      2.000000   78.000000    2.000000    2.000000    2.000000    2.000000   \n",
              "\n",
              "          malaise    anorexia   liver_big  liver_firm  spleen_palpable  \\\n",
              "count  154.000000  154.000000  154.000000  154.000000       154.000000   \n",
              "mean     1.590909    1.779221    1.714286    1.467532         1.740260   \n",
              "std      0.506347    0.431546    0.579771    0.627984         0.508814   \n",
              "min      0.000000    0.000000    0.000000    0.000000         0.000000   \n",
              "25%      1.000000    2.000000    2.000000    1.000000         2.000000   \n",
              "50%      2.000000    2.000000    2.000000    2.000000         2.000000   \n",
              "75%      2.000000    2.000000    2.000000    2.000000         2.000000   \n",
              "max      2.000000    2.000000    2.000000    2.000000         2.000000   \n",
              "\n",
              "          spiders     ascites     varices   bilirubin  alk_phosphate  \\\n",
              "count  154.000000  154.000000  154.000000  154.000000     154.000000   \n",
              "mean     1.603896    1.805195    1.818182    1.374675      85.623377   \n",
              "std      0.553289    0.472484    0.463780    1.223600      62.264151   \n",
              "min      0.000000    0.000000    0.000000    0.000000       0.000000   \n",
              "25%      1.000000    2.000000    2.000000    0.700000      50.500000   \n",
              "50%      2.000000    2.000000    2.000000    1.000000      83.000000   \n",
              "75%      2.000000    2.000000    2.000000    1.500000     119.750000   \n",
              "max      2.000000    2.000000    2.000000    8.000000     295.000000   \n",
              "\n",
              "             sgot     albumin     protime   histology  \n",
              "count  154.000000  154.000000  154.000000  154.000000  \n",
              "mean    84.103896    3.419481   35.344156    1.454545  \n",
              "std     89.661686    1.321817   35.221870    0.499554  \n",
              "min      0.000000    0.000000    0.000000    1.000000  \n",
              "25%     31.000000    3.025000    0.000000    1.000000  \n",
              "50%     56.500000    3.900000   35.000000    1.000000  \n",
              "75%     99.500000    4.200000   65.500000    2.000000  \n",
              "max    648.000000    6.400000  100.000000    2.000000  "
            ]
          },
          "metadata": {
            "tags": []
          },
          "execution_count": 70
        }
      ]
    },
    {
      "cell_type": "code",
      "metadata": {
        "id": "M_OYrpI0kxK_",
        "colab_type": "code",
        "colab": {
          "base_uri": "https://localhost:8080/",
          "height": 399
        },
        "outputId": "1731ec8d-5ce4-4d39-c47c-65367d2e14c1"
      },
      "source": [
        "# Check features correlation with the target \n",
        "correlation = data.corr()\n",
        "correlation.iloc[:,0].sort_values(ascending = False)"
      ],
      "execution_count": 76,
      "outputs": [
        {
          "output_type": "execute_result",
          "data": {
            "text/plain": [
              "class              1.000000\n",
              "ascites            0.331895\n",
              "spiders            0.328650\n",
              "malaise            0.314228\n",
              "albumin            0.295469\n",
              "fatigue            0.289698\n",
              "varices            0.248646\n",
              "spleen_palpable    0.179508\n",
              "sex                0.168242\n",
              "protime            0.158651\n",
              "liver_firm         0.152417\n",
              "steroid            0.124835\n",
              "anorexia           0.109207\n",
              "liver_big          0.106824\n",
              "alk_phosphate     -0.050816\n",
              "sgot              -0.054383\n",
              "antivirals        -0.131803\n",
              "age               -0.217434\n",
              "histology         -0.336033\n",
              "bilirubin         -0.423997\n",
              "Name: class, dtype: float64"
            ]
          },
          "metadata": {
            "tags": []
          },
          "execution_count": 76
        }
      ]
    },
    {
      "cell_type": "code",
      "metadata": {
        "id": "hdMq32hblncf",
        "colab_type": "code",
        "colab": {
          "base_uri": "https://localhost:8080/",
          "height": 627
        },
        "outputId": "c478d411-c102-4ad6-e17b-f0db578fd9cd"
      },
      "source": [
        "# heatmap to highlight correction between features and the target\n",
        "_= sns.heatmap(data[list(data.columns)].corr(), cmap='RdBu', annot= False)"
      ],
      "execution_count": 81,
      "outputs": [
        {
          "output_type": "display_data",
          "data": {
            "image/png": "[encoded data removed]",
            "text/plain": [
              "<Figure size 864x576 with 2 Axes>"
            ]
          },
          "metadata": {
            "tags": [],
            "needs_background": "light"
          }
        }
      ]
    },
    {
      "cell_type": "code",
      "metadata": {
        "id": "Vgi0jY5m0pbu",
        "colab_type": "code",
        "colab": {}
      },
      "source": [
        "labels = [\"Less than 10\",\"10-20\",\"20-30\",\"30-40\",\"40-50\",\"50-60\",\"60-70\",\"70 and more\"]\n",
        "databy_age = pd.cut(\n",
        "        data[\"age\"], bins = 8, labels = labels\n",
        "    )"
      ],
      "execution_count": 107,
      "outputs": []
    },
    {
      "cell_type": "code",
      "metadata": {
        "id": "DyCioO_c1Phd",
        "colab_type": "code",
        "colab": {
          "base_uri": "https://localhost:8080/",
          "height": 181
        },
        "outputId": "ace7d4f7-cb31-4371-e362-a63b9b3e8a02"
      },
      "source": [
        "databy_age.value_counts()/len(data)"
      ],
      "execution_count": 108,
      "outputs": [
        {
          "output_type": "execute_result",
          "data": {
            "text/plain": [
              "30-40           0.305195\n",
              "40-50           0.214286\n",
              "20-30           0.201299\n",
              "50-60           0.116883\n",
              "10-20           0.071429\n",
              "60-70           0.064935\n",
              "70 and more     0.019481\n",
              "Less than 10    0.006494\n",
              "Name: age, dtype: float64"
            ]
          },
          "metadata": {
            "tags": []
          },
          "execution_count": 108
        }
      ]
    },
    {
      "cell_type": "code",
      "metadata": {
        "id": "ryDMIttk3I4r",
        "colab_type": "code",
        "colab": {
          "base_uri": "https://localhost:8080/",
          "height": 610
        },
        "outputId": "62186e88-8c15-4a68-9ecd-36eb90ff0cd6"
      },
      "source": [
        "(databy_age.value_counts()/len(data)).plot(kind=\"bar\")\n",
        "plt.xlabel(\"Age\")\n",
        "plt.ylabel(\"percentage\");"
      ],
      "execution_count": 112,
      "outputs": [
        {
          "output_type": "display_data",
          "data": {
            "image/png": "[encoded data removed]",
            "text/plain": [
              "<Figure size 864x576 with 1 Axes>"
            ]
          },
          "metadata": {
            "tags": [],
            "needs_background": "light"
          }
        }
      ]
    },
    {
      "cell_type": "code",
      "metadata": {
        "id": "_CGCvi250N_1",
        "colab_type": "code",
        "colab": {
          "base_uri": "https://localhost:8080/",
          "height": 235
        },
        "outputId": "a6e16bb2-e678-4a45-9f74-54ec82181654"
      },
      "source": [
        "databy_age"
      ],
      "execution_count": 90,
      "outputs": [
        {
          "output_type": "execute_result",
          "data": {
            "text/plain": [
              "age\n",
              "0     1\n",
              "1     3\n",
              "2    21\n",
              "3    28\n",
              "4    37\n",
              "5    21\n",
              "6    24\n",
              "7    11\n",
              "8     6\n",
              "9     2\n",
              "dtype: int64"
            ]
          },
          "metadata": {
            "tags": []
          },
          "execution_count": 90
        }
      ]
    },
    {
      "cell_type": "code",
      "metadata": {
        "id": "IA0GhDKOzk9P",
        "colab_type": "code",
        "colab": {
          "base_uri": "https://localhost:8080/",
          "height": 926
        },
        "outputId": "600a2170-e6ec-42df-f89a-32e8919cffc3"
      },
      "source": [
        "data.age.value_counts()"
      ],
      "execution_count": 86,
      "outputs": [
        {
          "output_type": "execute_result",
          "data": {
            "text/plain": [
              "38    8\n",
              "34    8\n",
              "36    7\n",
              "30    7\n",
              "50    6\n",
              "39    6\n",
              "51    6\n",
              "45    5\n",
              "37    5\n",
              "42    5\n",
              "28    5\n",
              "54    5\n",
              "44    5\n",
              "32    4\n",
              "27    4\n",
              "47    4\n",
              "23    4\n",
              "31    4\n",
              "33    3\n",
              "41    3\n",
              "40    3\n",
              "52    3\n",
              "49    3\n",
              "56    3\n",
              "61    3\n",
              "25    3\n",
              "20    3\n",
              "48    2\n",
              "57    2\n",
              "58    2\n",
              "62    2\n",
              "24    2\n",
              "22    2\n",
              "35    2\n",
              "26    1\n",
              "78    1\n",
              "43    1\n",
              "72    1\n",
              "46    1\n",
              "53    1\n",
              "59    1\n",
              "60    1\n",
              "64    1\n",
              "65    1\n",
              "66    1\n",
              "67    1\n",
              "69    1\n",
              "70    1\n",
              "7     1\n",
              "Name: age, dtype: int64"
            ]
          },
          "metadata": {
            "tags": []
          },
          "execution_count": 86
        }
      ]
    },
    {
      "cell_type": "code",
      "metadata": {
        "id": "m5DElowUzTE1",
        "colab_type": "code",
        "colab": {
          "base_uri": "https://localhost:8080/",
          "height": 217
        },
        "outputId": "3c3c861f-e551-4c84-88a2-a822897cc1d7"
      },
      "source": [
        "databy_age.value_counts()"
      ],
      "execution_count": 85,
      "outputs": [
        {
          "output_type": "execute_result",
          "data": {
            "text/plain": [
              "4    37\n",
              "3    28\n",
              "6    24\n",
              "5    21\n",
              "2    21\n",
              "7    11\n",
              "8     6\n",
              "1     3\n",
              "9     2\n",
              "0     1\n",
              "Name: age, dtype: int64"
            ]
          },
          "metadata": {
            "tags": []
          },
          "execution_count": 85
        }
      ]
    },
    {
      "cell_type": "markdown",
      "metadata": {
        "id": "cNkXqDNNSGrg",
        "colab_type": "text"
      },
      "source": [
        "## Data modelling"
      ]
    },
    {
      "cell_type": "code",
      "metadata": {
        "id": "zO3LdulhSQq0",
        "colab_type": "code",
        "colab": {}
      },
      "source": [
        ""
      ],
      "execution_count": null,
      "outputs": []
    },
    {
      "cell_type": "markdown",
      "metadata": {
        "id": "xlYPtREpSRWp",
        "colab_type": "text"
      },
      "source": [
        "## Model evaluation"
      ]
    },
    {
      "cell_type": "code",
      "metadata": {
        "id": "bh93ODwMSVs3",
        "colab_type": "code",
        "colab": {}
      },
      "source": [
        ""
      ],
      "execution_count": null,
      "outputs": []
    }
  ]
}
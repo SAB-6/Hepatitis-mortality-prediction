{
  "nbformat": 4,
  "nbformat_minor": 0,
  "metadata": {
    "colab": {
      "name": "Hepatitis.ipynb",
      "provenance": [],
      "authorship_tag": "ABX9TyO85uBxe5Os/w5wlLd5aQdZ"
    },
    "kernelspec": {
      "name": "python3",
      "display_name": "Python 3"
    }
  },
  "cells": [
    {
      "cell_type": "code",
      "metadata": {
        "id": "BluWAobcQJq5"
      },
      "source": [
        ""
      ],
      "execution_count": null,
      "outputs": []
    },
    {
      "cell_type": "markdown",
      "metadata": {
        "id": "6syH2Rx1bmBr"
      },
      "source": [
        "**For data source click** <a href=\"https://archive.ics.uci.edu/ml/datasets/Hepatitis\">Here<a/>\n",
        "\n",
        "<br/> Author **Shereef Bankole**\n",
        "<br/> **LinkedIn click** <a href=\"https://www.linkedin.com/in/shereef-b-b9aab823/\\\">Here<a/>\n",
        "<br/> **Github click**  <a href=\"https://github.com/SAB-6\\\">Here<a/>"
      ]
    },
    {
      "cell_type": "markdown",
      "metadata": {
        "id": "pVwi6vjGQXxf"
      },
      "source": [
        "## Table of contents\n",
        "- [Project objectives](#Project-objectives)\n",
        "- [Data exploration](#Exploratory-data-analysis)\n",
        "- [Data Wrangling](#Data-wrangling)\n",
        "- [Data modelling](#Modelling)\n",
        "- [Model Evaluation](#Model-evaluation)"
      ]
    },
    {
      "cell_type": "markdown",
      "metadata": {
        "id": "BiLvYNJOSa7_"
      },
      "source": [
        "## Import Required libraries"
      ]
    },
    {
      "cell_type": "code",
      "metadata": {
        "id": "a-O-g07gUZDf",
        "outputId": "0745e3a9-aa52-4dd8-d3fd-610acdb66e7a",
        "colab": {
          "base_uri": "https://localhost:8080/",
          "height": 71
        }
      },
      "source": [
        "import pandas as pd\n",
        "import numpy as np\n",
        "import seaborn as sns\n",
        "import matplotlib.pyplot as plt\n",
        "import matplotlib as mpl\n",
        "from sklearn.impute import SimpleImputer\n",
        "from sklearn.preprocessing import StandardScaler\n",
        "mpl.rcParams['figure.figsize'] = [12.0, 8.0]\n",
        "mpl.rcParams['grid.color'] = 'k'\n",
        "mpl.rcParams['grid.linestyle'] = ':'\n",
        "mpl.rcParams.update({'font.size': 18})\n",
        "!pip install lazypredict\n",
        "from sklearn.pipeline import make_pipeline, Pipeline\n",
        "from lazypredict.Supervised import LazyClassifier\n",
        "from sklearn.model_selection import train_test_split\n",
        "from sklearn.ensemble import RandomForestClassifier, GradientBoostingClassifier\n",
        "from sklearn.linear_model import LogisticRegression\n",
        "from sklearn.model_selection import GridSearchCV\n",
        "import warnings\n",
        "warnings.filterwarnings('ignore')"
      ],
      "execution_count": 18,
      "outputs": [
        {
          "output_type": "stream",
          "text": [
            "Requirement already satisfied: lazypredict in /usr/local/lib/python3.6/dist-packages (0.2.7)\n",
            "Requirement already satisfied: Click>=7.0 in /usr/local/lib/python3.6/dist-packages (from lazypredict) (7.1.2)\n"
          ],
          "name": "stdout"
        }
      ]
    },
    {
      "cell_type": "code",
      "metadata": {
        "id": "dC9pZxiIykv5"
      },
      "source": [
        "np.random.seed(42)"
      ],
      "execution_count": 6,
      "outputs": []
    },
    {
      "cell_type": "code",
      "metadata": {
        "id": "dVUZJls1rs7a"
      },
      "source": [
        "from sklearn.pipeline import make_pipeline, Pipeline"
      ],
      "execution_count": 136,
      "outputs": []
    },
    {
      "cell_type": "code",
      "metadata": {
        "id": "gyVJVJ60T65o",
        "outputId": "76932cf5-1ff2-41be-b2f2-7f011a800439",
        "colab": {
          "base_uri": "https://localhost:8080/",
          "height": 224
        }
      },
      "source": [
        "!wget https://archive.ics.uci.edu/ml/machine-learning-databases/hepatitis/hepatitis.data"
      ],
      "execution_count": 2,
      "outputs": [
        {
          "output_type": "stream",
          "text": [
            "--2020-10-15 10:24:03--  https://archive.ics.uci.edu/ml/machine-learning-databases/hepatitis/hepatitis.data\n",
            "Resolving archive.ics.uci.edu (archive.ics.uci.edu)... 128.195.10.252\n",
            "Connecting to archive.ics.uci.edu (archive.ics.uci.edu)|128.195.10.252|:443... connected.\n",
            "HTTP request sent, awaiting response... 200 OK\n",
            "Length: 7545 (7.4K) [application/x-httpd-php]\n",
            "Saving to: ‘hepatitis.data’\n",
            "\n",
            "hepatitis.data      100%[===================>]   7.37K  --.-KB/s    in 0s      \n",
            "\n",
            "2020-10-15 10:24:03 (113 MB/s) - ‘hepatitis.data’ saved [7545/7545]\n",
            "\n"
          ],
          "name": "stdout"
        }
      ]
    },
    {
      "cell_type": "code",
      "metadata": {
        "id": "aXc4Vr4fydNB",
        "outputId": "254b20b4-b347-4d84-ef0e-ce5561ef3a45",
        "colab": {
          "base_uri": "https://localhost:8080/",
          "height": 34
        }
      },
      "source": [
        "!ls"
      ],
      "execution_count": 3,
      "outputs": [
        {
          "output_type": "stream",
          "text": [
            "hepatitis.data\tsample_data\n"
          ],
          "name": "stdout"
        }
      ]
    },
    {
      "cell_type": "code",
      "metadata": {
        "id": "2HZvoeNUQmxx"
      },
      "source": [
        "pd.set_option(\"display.max_columns\",None)\n",
        "pd.set_option(\"display.max_rows\",None)"
      ],
      "execution_count": null,
      "outputs": []
    },
    {
      "cell_type": "markdown",
      "metadata": {
        "id": "wIhrvS07Qx8x"
      },
      "source": [
        "## Project objectives\n",
        "\n",
        "Predicting patient mortality due to hepatitis"
      ]
    },
    {
      "cell_type": "code",
      "metadata": {
        "id": "vq-XWk0bQ0KF"
      },
      "source": [
        ""
      ],
      "execution_count": null,
      "outputs": []
    },
    {
      "cell_type": "markdown",
      "metadata": {
        "id": "vi63eKDeRL49"
      },
      "source": [
        "## Exploratory data analysis/Data wrangling"
      ]
    },
    {
      "cell_type": "code",
      "metadata": {
        "id": "QAaDt2MlR_j8",
        "outputId": "0c84972b-a706-4bd2-b74e-a95e620f4cc2",
        "colab": {
          "base_uri": "https://localhost:8080/",
          "height": 241
        }
      },
      "source": [
        "data= pd.read_table('hepatitis.data', sep =',')\n",
        "data.columns = [\"Class\", \"AGE\", \"SEX\", \"STEROID\", \"ANTIVIRALS\", \"FATIGUE\", \"MALAISE\", \"ANOREXIA\", \"LIVER BIG\", \"LIVER FIRM\",\n",
        "                \"SPLEEN PALPABLE\", \"SPIDERS\", \"ASCITES\", \"VARICES\", \"BILIRUBIN\", \"ALK PHOSPHATE\", \"SGOT\", \"ALBUMIN\",\n",
        "                \"PROTIME\", \"HISTOLOGY\"]\n",
        "data.head()"
      ],
      "execution_count": 4,
      "outputs": [
        {
          "output_type": "execute_result",
          "data": {
            "text/html": [
              "<div>\n",
              "<style scoped>\n",
              "    .dataframe tbody tr th:only-of-type {\n",
              "        vertical-align: middle;\n",
              "    }\n",
              "\n",
              "    .dataframe tbody tr th {\n",
              "        vertical-align: top;\n",
              "    }\n",
              "\n",
              "    .dataframe thead th {\n",
              "        text-align: right;\n",
              "    }\n",
              "</style>\n",
              "<table border=\"1\" class=\"dataframe\">\n",
              "  <thead>\n",
              "    <tr style=\"text-align: right;\">\n",
              "      <th></th>\n",
              "      <th>Class</th>\n",
              "      <th>AGE</th>\n",
              "      <th>SEX</th>\n",
              "      <th>STEROID</th>\n",
              "      <th>ANTIVIRALS</th>\n",
              "      <th>FATIGUE</th>\n",
              "      <th>MALAISE</th>\n",
              "      <th>ANOREXIA</th>\n",
              "      <th>LIVER BIG</th>\n",
              "      <th>LIVER FIRM</th>\n",
              "      <th>SPLEEN PALPABLE</th>\n",
              "      <th>SPIDERS</th>\n",
              "      <th>ASCITES</th>\n",
              "      <th>VARICES</th>\n",
              "      <th>BILIRUBIN</th>\n",
              "      <th>ALK PHOSPHATE</th>\n",
              "      <th>SGOT</th>\n",
              "      <th>ALBUMIN</th>\n",
              "      <th>PROTIME</th>\n",
              "      <th>HISTOLOGY</th>\n",
              "    </tr>\n",
              "  </thead>\n",
              "  <tbody>\n",
              "    <tr>\n",
              "      <th>0</th>\n",
              "      <td>2</td>\n",
              "      <td>50</td>\n",
              "      <td>1</td>\n",
              "      <td>1</td>\n",
              "      <td>2</td>\n",
              "      <td>1</td>\n",
              "      <td>2</td>\n",
              "      <td>2</td>\n",
              "      <td>1</td>\n",
              "      <td>2</td>\n",
              "      <td>2</td>\n",
              "      <td>2</td>\n",
              "      <td>2</td>\n",
              "      <td>2</td>\n",
              "      <td>0.90</td>\n",
              "      <td>135</td>\n",
              "      <td>42</td>\n",
              "      <td>3.5</td>\n",
              "      <td>?</td>\n",
              "      <td>1</td>\n",
              "    </tr>\n",
              "    <tr>\n",
              "      <th>1</th>\n",
              "      <td>2</td>\n",
              "      <td>78</td>\n",
              "      <td>1</td>\n",
              "      <td>2</td>\n",
              "      <td>2</td>\n",
              "      <td>1</td>\n",
              "      <td>2</td>\n",
              "      <td>2</td>\n",
              "      <td>2</td>\n",
              "      <td>2</td>\n",
              "      <td>2</td>\n",
              "      <td>2</td>\n",
              "      <td>2</td>\n",
              "      <td>2</td>\n",
              "      <td>0.70</td>\n",
              "      <td>96</td>\n",
              "      <td>32</td>\n",
              "      <td>4.0</td>\n",
              "      <td>?</td>\n",
              "      <td>1</td>\n",
              "    </tr>\n",
              "    <tr>\n",
              "      <th>2</th>\n",
              "      <td>2</td>\n",
              "      <td>31</td>\n",
              "      <td>1</td>\n",
              "      <td>?</td>\n",
              "      <td>1</td>\n",
              "      <td>2</td>\n",
              "      <td>2</td>\n",
              "      <td>2</td>\n",
              "      <td>2</td>\n",
              "      <td>2</td>\n",
              "      <td>2</td>\n",
              "      <td>2</td>\n",
              "      <td>2</td>\n",
              "      <td>2</td>\n",
              "      <td>0.70</td>\n",
              "      <td>46</td>\n",
              "      <td>52</td>\n",
              "      <td>4.0</td>\n",
              "      <td>80</td>\n",
              "      <td>1</td>\n",
              "    </tr>\n",
              "    <tr>\n",
              "      <th>3</th>\n",
              "      <td>2</td>\n",
              "      <td>34</td>\n",
              "      <td>1</td>\n",
              "      <td>2</td>\n",
              "      <td>2</td>\n",
              "      <td>2</td>\n",
              "      <td>2</td>\n",
              "      <td>2</td>\n",
              "      <td>2</td>\n",
              "      <td>2</td>\n",
              "      <td>2</td>\n",
              "      <td>2</td>\n",
              "      <td>2</td>\n",
              "      <td>2</td>\n",
              "      <td>1.00</td>\n",
              "      <td>?</td>\n",
              "      <td>200</td>\n",
              "      <td>4.0</td>\n",
              "      <td>?</td>\n",
              "      <td>1</td>\n",
              "    </tr>\n",
              "    <tr>\n",
              "      <th>4</th>\n",
              "      <td>2</td>\n",
              "      <td>34</td>\n",
              "      <td>1</td>\n",
              "      <td>2</td>\n",
              "      <td>2</td>\n",
              "      <td>2</td>\n",
              "      <td>2</td>\n",
              "      <td>2</td>\n",
              "      <td>2</td>\n",
              "      <td>2</td>\n",
              "      <td>2</td>\n",
              "      <td>2</td>\n",
              "      <td>2</td>\n",
              "      <td>2</td>\n",
              "      <td>0.90</td>\n",
              "      <td>95</td>\n",
              "      <td>28</td>\n",
              "      <td>4.0</td>\n",
              "      <td>75</td>\n",
              "      <td>1</td>\n",
              "    </tr>\n",
              "  </tbody>\n",
              "</table>\n",
              "</div>"
            ],
            "text/plain": [
              "   Class  AGE  SEX STEROID  ...  SGOT ALBUMIN PROTIME HISTOLOGY\n",
              "0      2   50    1       1  ...    42     3.5       ?         1\n",
              "1      2   78    1       2  ...    32     4.0       ?         1\n",
              "2      2   31    1       ?  ...    52     4.0      80         1\n",
              "3      2   34    1       2  ...   200     4.0       ?         1\n",
              "4      2   34    1       2  ...    28     4.0      75         1\n",
              "\n",
              "[5 rows x 20 columns]"
            ]
          },
          "metadata": {
            "tags": []
          },
          "execution_count": 4
        }
      ]
    },
    {
      "cell_type": "code",
      "metadata": {
        "id": "Ev6XJb70Yemt"
      },
      "source": [
        "# shuffle data\n",
        "data = data.sample(frac = 1).reset_index(drop =True)"
      ],
      "execution_count": 5,
      "outputs": []
    },
    {
      "cell_type": "code",
      "metadata": {
        "id": "_6hbReceYtrj",
        "outputId": "15cb7998-1711-4e95-cf1e-5627838a1b6e",
        "colab": {
          "base_uri": "https://localhost:8080/",
          "height": 476
        }
      },
      "source": [
        "# Inspecting the data\n",
        "data.info()"
      ],
      "execution_count": 30,
      "outputs": [
        {
          "output_type": "stream",
          "text": [
            "<class 'pandas.core.frame.DataFrame'>\n",
            "RangeIndex: 154 entries, 0 to 153\n",
            "Data columns (total 20 columns):\n",
            " #   Column           Non-Null Count  Dtype \n",
            "---  ------           --------------  ----- \n",
            " 0   class            154 non-null    int64 \n",
            " 1   age              154 non-null    int64 \n",
            " 2   sex              154 non-null    int64 \n",
            " 3   steroid          154 non-null    object\n",
            " 4   antivirals       154 non-null    int64 \n",
            " 5   fatigue          154 non-null    object\n",
            " 6   malaise          154 non-null    object\n",
            " 7   anorexia         154 non-null    object\n",
            " 8   liver_big        154 non-null    object\n",
            " 9   liver_firm       154 non-null    object\n",
            " 10  spleen_palpable  154 non-null    object\n",
            " 11  spiders          154 non-null    object\n",
            " 12  ascites          154 non-null    object\n",
            " 13  varices          154 non-null    object\n",
            " 14  bilirubin        154 non-null    object\n",
            " 15  alk_phosphate    154 non-null    object\n",
            " 16  sgot             154 non-null    object\n",
            " 17  albumin          154 non-null    object\n",
            " 18  protime          154 non-null    object\n",
            " 19  histology        154 non-null    int64 \n",
            "dtypes: int64(5), object(15)\n",
            "memory usage: 24.2+ KB\n"
          ],
          "name": "stdout"
        }
      ]
    },
    {
      "cell_type": "code",
      "metadata": {
        "id": "dQl--ZaWfCoP"
      },
      "source": [
        "# replace missing values (np.nan) with zeros\n",
        "data = data.replace(\"?\",np.nan)"
      ],
      "execution_count": 31,
      "outputs": []
    },
    {
      "cell_type": "markdown",
      "metadata": {
        "id": "rLwxvjDFaDi7"
      },
      "source": [
        "### Both info and isnull methods did notr reveal the missing values within each attributes.  However, <a href =\"https://archive.ics.uci.edu/ml/datasets/Hepatitis\">the data source indicates presence of missing values within the dataset</a>."
      ]
    },
    {
      "cell_type": "code",
      "metadata": {
        "id": "XC8edrtOOgO1",
        "outputId": "4bf2f93f-f7d1-4dcc-b148-f67d40dbb4c4",
        "colab": {
          "base_uri": "https://localhost:8080/",
          "height": 445
        }
      },
      "source": [
        "(data.isnull().sum().sort_values()/len(data)).plot(kind = 'barh');\n",
        "plt.xlabel(\"Percentage of missing values\");"
      ],
      "execution_count": 35,
      "outputs": [
        {
          "output_type": "display_data",
          "data": {
            "image/png": "[encoded data removed]",
            "text/plain": [
              "<Figure size 864x576 with 1 Axes>"
            ]
          },
          "metadata": {
            "tags": [],
            "needs_background": "light"
          }
        }
      ]
    },
    {
      "cell_type": "markdown",
      "metadata": {
        "id": "i-6COjGEPpBp"
      },
      "source": [
        "#### From the bar chart above, sex, age, histology, antivirals nad class attributes have no missing value. Missing values for other attributes varies from very few percentage to more than 40%"
      ]
    },
    {
      "cell_type": "code",
      "metadata": {
        "id": "mWkz8xVT0CiP",
        "outputId": "b05933e1-3eba-4962-a0a4-05f92eed9789",
        "colab": {
          "base_uri": "https://localhost:8080/",
          "height": 635
        }
      },
      "source": [
        "sns.heatmap(data.isnull(), yticklabels=False, cbar=False, cmap='viridis');"
      ],
      "execution_count": 34,
      "outputs": [
        {
          "output_type": "display_data",
          "data": {
            "image/png": "[encoded data removed]",
            "text/plain": [
              "<Figure size 864x576 with 1 Axes>"
            ]
          },
          "metadata": {
            "tags": [],
            "needs_background": "light"
          }
        }
      ]
    },
    {
      "cell_type": "code",
      "metadata": {
        "id": "PW5m39-LBzbr",
        "outputId": "5094665b-f9e9-4aa0-8b0e-bdc3b86ba30e",
        "colab": {
          "base_uri": "https://localhost:8080/",
          "height": 68
        }
      },
      "source": [
        "data[\"class\"].value_counts()"
      ],
      "execution_count": 47,
      "outputs": [
        {
          "output_type": "execute_result",
          "data": {
            "text/plain": [
              "2    122\n",
              "1     32\n",
              "Name: class, dtype: int64"
            ]
          },
          "metadata": {
            "tags": []
          },
          "execution_count": 47
        }
      ]
    },
    {
      "cell_type": "code",
      "metadata": {
        "id": "2LPTkSvKZFCQ",
        "outputId": "9c616daa-48b5-49df-eb57-49a6bab90dd3",
        "colab": {
          "base_uri": "https://localhost:8080/",
          "height": 224
        }
      },
      "source": [
        "data.columns = data.columns.str.lower().str.replace(' ','_')\n",
        "data.head()"
      ],
      "execution_count": null,
      "outputs": [
        {
          "output_type": "execute_result",
          "data": {
            "text/html": [
              "<div>\n",
              "<style scoped>\n",
              "    .dataframe tbody tr th:only-of-type {\n",
              "        vertical-align: middle;\n",
              "    }\n",
              "\n",
              "    .dataframe tbody tr th {\n",
              "        vertical-align: top;\n",
              "    }\n",
              "\n",
              "    .dataframe thead th {\n",
              "        text-align: right;\n",
              "    }\n",
              "</style>\n",
              "<table border=\"1\" class=\"dataframe\">\n",
              "  <thead>\n",
              "    <tr style=\"text-align: right;\">\n",
              "      <th></th>\n",
              "      <th>class</th>\n",
              "      <th>age</th>\n",
              "      <th>sex</th>\n",
              "      <th>steroid</th>\n",
              "      <th>antivirals</th>\n",
              "      <th>fatigue</th>\n",
              "      <th>malaise</th>\n",
              "      <th>anorexia</th>\n",
              "      <th>liver_big</th>\n",
              "      <th>liver_firm</th>\n",
              "      <th>spleen_palpable</th>\n",
              "      <th>spiders</th>\n",
              "      <th>ascites</th>\n",
              "      <th>varices</th>\n",
              "      <th>bilirubin</th>\n",
              "      <th>alk_phosphate</th>\n",
              "      <th>sgot</th>\n",
              "      <th>albumin</th>\n",
              "      <th>protime</th>\n",
              "      <th>histology</th>\n",
              "    </tr>\n",
              "  </thead>\n",
              "  <tbody>\n",
              "    <tr>\n",
              "      <th>0</th>\n",
              "      <td>2</td>\n",
              "      <td>28</td>\n",
              "      <td>2</td>\n",
              "      <td>2</td>\n",
              "      <td>2</td>\n",
              "      <td>1</td>\n",
              "      <td>1</td>\n",
              "      <td>2</td>\n",
              "      <td>2</td>\n",
              "      <td>1</td>\n",
              "      <td>2</td>\n",
              "      <td>2</td>\n",
              "      <td>2</td>\n",
              "      <td>2</td>\n",
              "      <td>1.80</td>\n",
              "      <td>191</td>\n",
              "      <td>420</td>\n",
              "      <td>3.3</td>\n",
              "      <td>46</td>\n",
              "      <td>1</td>\n",
              "    </tr>\n",
              "    <tr>\n",
              "      <th>1</th>\n",
              "      <td>2</td>\n",
              "      <td>50</td>\n",
              "      <td>1</td>\n",
              "      <td>1</td>\n",
              "      <td>2</td>\n",
              "      <td>1</td>\n",
              "      <td>2</td>\n",
              "      <td>2</td>\n",
              "      <td>1</td>\n",
              "      <td>2</td>\n",
              "      <td>2</td>\n",
              "      <td>2</td>\n",
              "      <td>2</td>\n",
              "      <td>2</td>\n",
              "      <td>0.90</td>\n",
              "      <td>135</td>\n",
              "      <td>42</td>\n",
              "      <td>3.5</td>\n",
              "      <td>0</td>\n",
              "      <td>1</td>\n",
              "    </tr>\n",
              "    <tr>\n",
              "      <th>2</th>\n",
              "      <td>2</td>\n",
              "      <td>24</td>\n",
              "      <td>1</td>\n",
              "      <td>1</td>\n",
              "      <td>2</td>\n",
              "      <td>1</td>\n",
              "      <td>2</td>\n",
              "      <td>2</td>\n",
              "      <td>2</td>\n",
              "      <td>2</td>\n",
              "      <td>2</td>\n",
              "      <td>2</td>\n",
              "      <td>2</td>\n",
              "      <td>2</td>\n",
              "      <td>1.00</td>\n",
              "      <td>0</td>\n",
              "      <td>34</td>\n",
              "      <td>4.1</td>\n",
              "      <td>0</td>\n",
              "      <td>2</td>\n",
              "    </tr>\n",
              "    <tr>\n",
              "      <th>3</th>\n",
              "      <td>2</td>\n",
              "      <td>34</td>\n",
              "      <td>1</td>\n",
              "      <td>2</td>\n",
              "      <td>2</td>\n",
              "      <td>2</td>\n",
              "      <td>2</td>\n",
              "      <td>2</td>\n",
              "      <td>2</td>\n",
              "      <td>2</td>\n",
              "      <td>2</td>\n",
              "      <td>2</td>\n",
              "      <td>2</td>\n",
              "      <td>2</td>\n",
              "      <td>0</td>\n",
              "      <td>0</td>\n",
              "      <td>86</td>\n",
              "      <td>0</td>\n",
              "      <td>0</td>\n",
              "      <td>1</td>\n",
              "    </tr>\n",
              "    <tr>\n",
              "      <th>4</th>\n",
              "      <td>2</td>\n",
              "      <td>66</td>\n",
              "      <td>1</td>\n",
              "      <td>2</td>\n",
              "      <td>2</td>\n",
              "      <td>1</td>\n",
              "      <td>2</td>\n",
              "      <td>2</td>\n",
              "      <td>2</td>\n",
              "      <td>2</td>\n",
              "      <td>2</td>\n",
              "      <td>2</td>\n",
              "      <td>2</td>\n",
              "      <td>2</td>\n",
              "      <td>1.20</td>\n",
              "      <td>102</td>\n",
              "      <td>53</td>\n",
              "      <td>4.3</td>\n",
              "      <td>0</td>\n",
              "      <td>1</td>\n",
              "    </tr>\n",
              "  </tbody>\n",
              "</table>\n",
              "</div>"
            ],
            "text/plain": [
              "   class  age  sex steroid  ...  sgot albumin protime histology\n",
              "0      2   28    2       2  ...   420     3.3      46         1\n",
              "1      2   50    1       1  ...    42     3.5       0         1\n",
              "2      2   24    1       1  ...    34     4.1       0         2\n",
              "3      2   34    1       2  ...    86       0       0         1\n",
              "4      2   66    1       2  ...    53     4.3       0         1\n",
              "\n",
              "[5 rows x 20 columns]"
            ]
          },
          "metadata": {
            "tags": []
          },
          "execution_count": 29
        }
      ]
    },
    {
      "cell_type": "code",
      "metadata": {
        "id": "xUgJy0wGi1NJ"
      },
      "source": [
        "df = data.copy()"
      ],
      "execution_count": 21,
      "outputs": []
    },
    {
      "cell_type": "code",
      "metadata": {
        "id": "ZVIOUt43i5a1"
      },
      "source": [
        "data = data.replace(np.nan, 0)"
      ],
      "execution_count": 24,
      "outputs": []
    },
    {
      "cell_type": "code",
      "metadata": {
        "id": "i5xPkXqlf_Rm",
        "outputId": "c1391445-bbee-4829-88d7-98a47d9ac75e",
        "colab": {
          "base_uri": "https://localhost:8080/",
          "height": 374
        }
      },
      "source": [
        "# replace missing values (np.nan) with zeros\n",
        "data = data.replace(\"?\",0)\n",
        "\n",
        "# change some of the column to int type\n",
        "int_columns = [col for col in list(data.columns) if data[col].dtypes != int if col not in (\"bilirubin\",\"albumin\")]\n",
        "data[int_columns] = data[int_columns].astype(int)\n",
        "\n",
        "# change both bilirubin and albumin columns to float\n",
        "data[['bilirubin','albumin']] = data[['bilirubin','albumin']].astype(float)\n",
        "# check the data types\n",
        "data.dtypes"
      ],
      "execution_count": 36,
      "outputs": [
        {
          "output_type": "execute_result",
          "data": {
            "text/plain": [
              "class                int64\n",
              "age                  int64\n",
              "sex                  int64\n",
              "steroid              int64\n",
              "antivirals           int64\n",
              "fatigue              int64\n",
              "malaise              int64\n",
              "anorexia             int64\n",
              "liver_big            int64\n",
              "liver_firm           int64\n",
              "spleen_palpable      int64\n",
              "spiders              int64\n",
              "ascites              int64\n",
              "varices              int64\n",
              "bilirubin          float64\n",
              "alk_phosphate        int64\n",
              "sgot                 int64\n",
              "albumin            float64\n",
              "protime              int64\n",
              "histology            int64\n",
              "dtype: object"
            ]
          },
          "metadata": {
            "tags": []
          },
          "execution_count": 36
        }
      ]
    },
    {
      "cell_type": "code",
      "metadata": {
        "id": "NzawteTlgDl5",
        "outputId": "d4748895-30b3-42e2-8dba-b3aba3e23580",
        "colab": {
          "base_uri": "https://localhost:8080/",
          "height": 374
        }
      },
      "source": [
        "data.isnull().sum().sort_values()"
      ],
      "execution_count": 37,
      "outputs": [
        {
          "output_type": "execute_result",
          "data": {
            "text/plain": [
              "class              0\n",
              "albumin            0\n",
              "sgot               0\n",
              "alk_phosphate      0\n",
              "bilirubin          0\n",
              "varices            0\n",
              "ascites            0\n",
              "spiders            0\n",
              "spleen_palpable    0\n",
              "liver_firm         0\n",
              "liver_big          0\n",
              "anorexia           0\n",
              "malaise            0\n",
              "fatigue            0\n",
              "antivirals         0\n",
              "steroid            0\n",
              "sex                0\n",
              "age                0\n",
              "protime            0\n",
              "histology          0\n",
              "dtype: int64"
            ]
          },
          "metadata": {
            "tags": []
          },
          "execution_count": 37
        }
      ]
    },
    {
      "cell_type": "code",
      "metadata": {
        "id": "rrnUTzL4_8Pm"
      },
      "source": [
        "data[\"class\"] = data[\"class\"].map({1:1, 2:0})"
      ],
      "execution_count": 51,
      "outputs": []
    },
    {
      "cell_type": "code",
      "metadata": {
        "id": "_4eRMUKrCS0u",
        "outputId": "48924f9b-33d2-4114-c97c-56a0905b69dc",
        "colab": {
          "base_uri": "https://localhost:8080/",
          "height": 68
        }
      },
      "source": [
        "data[\"class\"].value_counts()"
      ],
      "execution_count": 57,
      "outputs": [
        {
          "output_type": "execute_result",
          "data": {
            "text/plain": [
              "0    122\n",
              "1     32\n",
              "Name: class, dtype: int64"
            ]
          },
          "metadata": {
            "tags": []
          },
          "execution_count": 57
        }
      ]
    },
    {
      "cell_type": "code",
      "metadata": {
        "id": "bB3ykWNDOsXf",
        "outputId": "c6fad27e-659d-42df-b0a6-a85f845a344b",
        "colab": {
          "base_uri": "https://localhost:8080/",
          "height": 412
        }
      },
      "source": [
        "# Check for class imbalance in the target variable\n",
        "(data['class'].value_counts()/len(data)).plot(kind='bar', color = 'orange',figsize=(10, 6), stacked=False)\n",
        "plt.xlabel(\"Class (Die/Live)\", fontsize=15)\n",
        "plt.ylabel('Ratio', fontsize=15)\n",
        "plt.title(\"Class distribution\", fontsize=15);"
      ],
      "execution_count": 58,
      "outputs": [
        {
          "output_type": "display_data",
          "data": {
            "image/png": "[encoded data removed]",
            "text/plain": [
              "<Figure size 720x432 with 1 Axes>"
            ]
          },
          "metadata": {
            "tags": [],
            "needs_background": "light"
          }
        }
      ]
    },
    {
      "cell_type": "markdown",
      "metadata": {
        "id": "5R1dmw_vOmzu"
      },
      "source": [
        "### The target is skewed as indicated by the class distribution plot above. 2 represents the people tha lives while 1 represents those tha dies from hepatitis."
      ]
    },
    {
      "cell_type": "code",
      "metadata": {
        "id": "_DDLg0tygrQh",
        "outputId": "a5c0d485-e9d0-4e8b-ac95-7f499e9e1a44",
        "colab": {
          "base_uri": "https://localhost:8080/",
          "height": 34
        }
      },
      "source": [
        "data.age.max()"
      ],
      "execution_count": 59,
      "outputs": [
        {
          "output_type": "execute_result",
          "data": {
            "text/plain": [
              "78"
            ]
          },
          "metadata": {
            "tags": []
          },
          "execution_count": 59
        }
      ]
    },
    {
      "cell_type": "code",
      "metadata": {
        "id": "7jAIOpVAaC0-",
        "outputId": "99592b0e-6f18-4511-dd50-887bf69b06eb",
        "colab": {
          "base_uri": "https://localhost:8080/",
          "height": 513
        }
      },
      "source": [
        "#Age distribution\n",
        "data[\"age\"].hist()\n",
        "plt.xlabel('Age')\n",
        "plt.ylabel('Count');"
      ],
      "execution_count": 60,
      "outputs": [
        {
          "output_type": "display_data",
          "data": {
            "image/png": "[encoded data removed]",
            "text/plain": [
              "<Figure size 864x576 with 1 Axes>"
            ]
          },
          "metadata": {
            "tags": [],
            "needs_background": "light"
          }
        }
      ]
    },
    {
      "cell_type": "markdown",
      "metadata": {
        "id": "SD5kobO_hDGK"
      },
      "source": [
        "### Age distribution shows normal distribution"
      ]
    },
    {
      "cell_type": "code",
      "metadata": {
        "id": "uBuH_22LR3vy"
      },
      "source": [
        "# pd.set_option(\"display.max_columns\",None)\n",
        "# pd.set_option(\"display.max_rows\",None)"
      ],
      "execution_count": null,
      "outputs": []
    },
    {
      "cell_type": "code",
      "metadata": {
        "id": "95CXT5l0SF3p"
      },
      "source": [
        "# data.columns[data.dtypes=='O'].nunique()"
      ],
      "execution_count": null,
      "outputs": []
    },
    {
      "cell_type": "code",
      "metadata": {
        "id": "ruwCt0lWiEwW",
        "outputId": "24c72275-61b9-4228-ee63-1b48af6096f5",
        "colab": {
          "base_uri": "https://localhost:8080/",
          "height": 509
        }
      },
      "source": [
        "(data.sex.value_counts()/len(data)).plot(kind = \"barh\", figsize =(10,7), color = \"green\")\n",
        "plt.xlabel(\"Ratio\")\n",
        "plt.ylabel(\"Male(1) or Female(2)\");\n",
        "data.sex.value_counts()/len(data)"
      ],
      "execution_count": 62,
      "outputs": [
        {
          "output_type": "execute_result",
          "data": {
            "text/plain": [
              "1   0.90\n",
              "2   0.10\n",
              "Name: sex, dtype: float64"
            ]
          },
          "metadata": {
            "tags": []
          },
          "execution_count": 62
        },
        {
          "output_type": "display_data",
          "data": {
            "image/png": "[encoded data removed]",
            "text/plain": [
              "<Figure size 720x504 with 1 Axes>"
            ]
          },
          "metadata": {
            "tags": [],
            "needs_background": "light"
          }
        }
      ]
    },
    {
      "cell_type": "markdown",
      "metadata": {
        "id": "MZcGVd-Mi66R"
      },
      "source": [
        "#### Thee ratio of male to female is 9 to 1"
      ]
    },
    {
      "cell_type": "code",
      "metadata": {
        "id": "x7IqBZucjcDe",
        "outputId": "d5eb7cfb-8263-436f-a8ac-648742001f2d",
        "colab": {
          "base_uri": "https://localhost:8080/",
          "height": 317
        }
      },
      "source": [
        "# descriptive statistics\n",
        "data.describe()"
      ],
      "execution_count": 65,
      "outputs": [
        {
          "output_type": "execute_result",
          "data": {
            "text/html": [
              "<div>\n",
              "<style scoped>\n",
              "    .dataframe tbody tr th:only-of-type {\n",
              "        vertical-align: middle;\n",
              "    }\n",
              "\n",
              "    .dataframe tbody tr th {\n",
              "        vertical-align: top;\n",
              "    }\n",
              "\n",
              "    .dataframe thead th {\n",
              "        text-align: right;\n",
              "    }\n",
              "</style>\n",
              "<table border=\"1\" class=\"dataframe\">\n",
              "  <thead>\n",
              "    <tr style=\"text-align: right;\">\n",
              "      <th></th>\n",
              "      <th>class</th>\n",
              "      <th>age</th>\n",
              "      <th>sex</th>\n",
              "      <th>steroid</th>\n",
              "      <th>antivirals</th>\n",
              "      <th>fatigue</th>\n",
              "      <th>malaise</th>\n",
              "      <th>anorexia</th>\n",
              "      <th>liver_big</th>\n",
              "      <th>liver_firm</th>\n",
              "      <th>spleen_palpable</th>\n",
              "      <th>spiders</th>\n",
              "      <th>ascites</th>\n",
              "      <th>varices</th>\n",
              "      <th>bilirubin</th>\n",
              "      <th>alk_phosphate</th>\n",
              "      <th>sgot</th>\n",
              "      <th>albumin</th>\n",
              "      <th>protime</th>\n",
              "      <th>histology</th>\n",
              "    </tr>\n",
              "  </thead>\n",
              "  <tbody>\n",
              "    <tr>\n",
              "      <th>count</th>\n",
              "      <td>154.00</td>\n",
              "      <td>154.00</td>\n",
              "      <td>154.00</td>\n",
              "      <td>154.00</td>\n",
              "      <td>154.00</td>\n",
              "      <td>154.00</td>\n",
              "      <td>154.00</td>\n",
              "      <td>154.00</td>\n",
              "      <td>154.00</td>\n",
              "      <td>154.00</td>\n",
              "      <td>154.00</td>\n",
              "      <td>154.00</td>\n",
              "      <td>154.00</td>\n",
              "      <td>154.00</td>\n",
              "      <td>154.00</td>\n",
              "      <td>154.00</td>\n",
              "      <td>154.00</td>\n",
              "      <td>154.00</td>\n",
              "      <td>154.00</td>\n",
              "      <td>154.00</td>\n",
              "    </tr>\n",
              "    <tr>\n",
              "      <th>mean</th>\n",
              "      <td>0.21</td>\n",
              "      <td>41.27</td>\n",
              "      <td>1.10</td>\n",
              "      <td>1.50</td>\n",
              "      <td>1.84</td>\n",
              "      <td>1.34</td>\n",
              "      <td>1.59</td>\n",
              "      <td>1.78</td>\n",
              "      <td>1.71</td>\n",
              "      <td>1.47</td>\n",
              "      <td>1.74</td>\n",
              "      <td>1.60</td>\n",
              "      <td>1.81</td>\n",
              "      <td>1.82</td>\n",
              "      <td>1.37</td>\n",
              "      <td>85.62</td>\n",
              "      <td>84.10</td>\n",
              "      <td>3.42</td>\n",
              "      <td>35.34</td>\n",
              "      <td>1.45</td>\n",
              "    </tr>\n",
              "    <tr>\n",
              "      <th>std</th>\n",
              "      <td>0.41</td>\n",
              "      <td>12.57</td>\n",
              "      <td>0.30</td>\n",
              "      <td>0.51</td>\n",
              "      <td>0.36</td>\n",
              "      <td>0.49</td>\n",
              "      <td>0.51</td>\n",
              "      <td>0.43</td>\n",
              "      <td>0.58</td>\n",
              "      <td>0.63</td>\n",
              "      <td>0.51</td>\n",
              "      <td>0.55</td>\n",
              "      <td>0.47</td>\n",
              "      <td>0.46</td>\n",
              "      <td>1.22</td>\n",
              "      <td>62.26</td>\n",
              "      <td>89.66</td>\n",
              "      <td>1.32</td>\n",
              "      <td>35.22</td>\n",
              "      <td>0.50</td>\n",
              "    </tr>\n",
              "    <tr>\n",
              "      <th>min</th>\n",
              "      <td>0.00</td>\n",
              "      <td>7.00</td>\n",
              "      <td>1.00</td>\n",
              "      <td>0.00</td>\n",
              "      <td>1.00</td>\n",
              "      <td>0.00</td>\n",
              "      <td>0.00</td>\n",
              "      <td>0.00</td>\n",
              "      <td>0.00</td>\n",
              "      <td>0.00</td>\n",
              "      <td>0.00</td>\n",
              "      <td>0.00</td>\n",
              "      <td>0.00</td>\n",
              "      <td>0.00</td>\n",
              "      <td>0.00</td>\n",
              "      <td>0.00</td>\n",
              "      <td>0.00</td>\n",
              "      <td>0.00</td>\n",
              "      <td>0.00</td>\n",
              "      <td>1.00</td>\n",
              "    </tr>\n",
              "    <tr>\n",
              "      <th>25%</th>\n",
              "      <td>0.00</td>\n",
              "      <td>32.00</td>\n",
              "      <td>1.00</td>\n",
              "      <td>1.00</td>\n",
              "      <td>2.00</td>\n",
              "      <td>1.00</td>\n",
              "      <td>1.00</td>\n",
              "      <td>2.00</td>\n",
              "      <td>2.00</td>\n",
              "      <td>1.00</td>\n",
              "      <td>2.00</td>\n",
              "      <td>1.00</td>\n",
              "      <td>2.00</td>\n",
              "      <td>2.00</td>\n",
              "      <td>0.70</td>\n",
              "      <td>50.50</td>\n",
              "      <td>31.00</td>\n",
              "      <td>3.02</td>\n",
              "      <td>0.00</td>\n",
              "      <td>1.00</td>\n",
              "    </tr>\n",
              "    <tr>\n",
              "      <th>50%</th>\n",
              "      <td>0.00</td>\n",
              "      <td>39.00</td>\n",
              "      <td>1.00</td>\n",
              "      <td>2.00</td>\n",
              "      <td>2.00</td>\n",
              "      <td>1.00</td>\n",
              "      <td>2.00</td>\n",
              "      <td>2.00</td>\n",
              "      <td>2.00</td>\n",
              "      <td>2.00</td>\n",
              "      <td>2.00</td>\n",
              "      <td>2.00</td>\n",
              "      <td>2.00</td>\n",
              "      <td>2.00</td>\n",
              "      <td>1.00</td>\n",
              "      <td>83.00</td>\n",
              "      <td>56.50</td>\n",
              "      <td>3.90</td>\n",
              "      <td>35.00</td>\n",
              "      <td>1.00</td>\n",
              "    </tr>\n",
              "    <tr>\n",
              "      <th>75%</th>\n",
              "      <td>0.00</td>\n",
              "      <td>50.00</td>\n",
              "      <td>1.00</td>\n",
              "      <td>2.00</td>\n",
              "      <td>2.00</td>\n",
              "      <td>2.00</td>\n",
              "      <td>2.00</td>\n",
              "      <td>2.00</td>\n",
              "      <td>2.00</td>\n",
              "      <td>2.00</td>\n",
              "      <td>2.00</td>\n",
              "      <td>2.00</td>\n",
              "      <td>2.00</td>\n",
              "      <td>2.00</td>\n",
              "      <td>1.50</td>\n",
              "      <td>119.75</td>\n",
              "      <td>99.50</td>\n",
              "      <td>4.20</td>\n",
              "      <td>65.50</td>\n",
              "      <td>2.00</td>\n",
              "    </tr>\n",
              "    <tr>\n",
              "      <th>max</th>\n",
              "      <td>1.00</td>\n",
              "      <td>78.00</td>\n",
              "      <td>2.00</td>\n",
              "      <td>2.00</td>\n",
              "      <td>2.00</td>\n",
              "      <td>2.00</td>\n",
              "      <td>2.00</td>\n",
              "      <td>2.00</td>\n",
              "      <td>2.00</td>\n",
              "      <td>2.00</td>\n",
              "      <td>2.00</td>\n",
              "      <td>2.00</td>\n",
              "      <td>2.00</td>\n",
              "      <td>2.00</td>\n",
              "      <td>8.00</td>\n",
              "      <td>295.00</td>\n",
              "      <td>648.00</td>\n",
              "      <td>6.40</td>\n",
              "      <td>100.00</td>\n",
              "      <td>2.00</td>\n",
              "    </tr>\n",
              "  </tbody>\n",
              "</table>\n",
              "</div>"
            ],
            "text/plain": [
              "       class    age    sex  steroid  ...   sgot  albumin  protime  histology\n",
              "count 154.00 154.00 154.00   154.00  ... 154.00   154.00   154.00     154.00\n",
              "mean    0.21  41.27   1.10     1.50  ...  84.10     3.42    35.34       1.45\n",
              "std     0.41  12.57   0.30     0.51  ...  89.66     1.32    35.22       0.50\n",
              "min     0.00   7.00   1.00     0.00  ...   0.00     0.00     0.00       1.00\n",
              "25%     0.00  32.00   1.00     1.00  ...  31.00     3.02     0.00       1.00\n",
              "50%     0.00  39.00   1.00     2.00  ...  56.50     3.90    35.00       1.00\n",
              "75%     0.00  50.00   1.00     2.00  ...  99.50     4.20    65.50       2.00\n",
              "max     1.00  78.00   2.00     2.00  ... 648.00     6.40   100.00       2.00\n",
              "\n",
              "[8 rows x 20 columns]"
            ]
          },
          "metadata": {
            "tags": []
          },
          "execution_count": 65
        }
      ]
    },
    {
      "cell_type": "code",
      "metadata": {
        "id": "M_OYrpI0kxK_",
        "outputId": "676392c5-214b-4518-d2cb-247ce5403d5f",
        "colab": {
          "base_uri": "https://localhost:8080/",
          "height": 374
        }
      },
      "source": [
        "# Check features correlation with the target \n",
        "correlation = data.corr()\n",
        "correlation.iloc[:,0].sort_values(ascending = False)"
      ],
      "execution_count": 66,
      "outputs": [
        {
          "output_type": "execute_result",
          "data": {
            "text/plain": [
              "class              1.00\n",
              "bilirubin          0.42\n",
              "histology          0.34\n",
              "age                0.22\n",
              "antivirals         0.13\n",
              "sgot               0.05\n",
              "alk_phosphate      0.05\n",
              "liver_big         -0.11\n",
              "anorexia          -0.11\n",
              "steroid           -0.12\n",
              "liver_firm        -0.15\n",
              "protime           -0.16\n",
              "sex               -0.17\n",
              "spleen_palpable   -0.18\n",
              "varices           -0.25\n",
              "fatigue           -0.29\n",
              "albumin           -0.30\n",
              "malaise           -0.31\n",
              "spiders           -0.33\n",
              "ascites           -0.33\n",
              "Name: class, dtype: float64"
            ]
          },
          "metadata": {
            "tags": []
          },
          "execution_count": 66
        }
      ]
    },
    {
      "cell_type": "code",
      "metadata": {
        "id": "hdMq32hblncf",
        "outputId": "c478d411-c102-4ad6-e17b-f0db578fd9cd",
        "colab": {
          "base_uri": "https://localhost:8080/",
          "height": 627
        }
      },
      "source": [
        "# heatmap to highlight correction between features and the target\n",
        "_= sns.heatmap(data[list(data.columns)].corr(), cmap='RdBu', annot= False)"
      ],
      "execution_count": null,
      "outputs": [
        {
          "output_type": "display_data",
          "data": {
            "image/png": "[encoded data removed]",
            "text/plain": [
              "<Figure size 864x576 with 2 Axes>"
            ]
          },
          "metadata": {
            "tags": [],
            "needs_background": "light"
          }
        }
      ]
    },
    {
      "cell_type": "code",
      "metadata": {
        "id": "Vgi0jY5m0pbu"
      },
      "source": [
        "labels = [\"Less than 10\",\"10-20\",\"20-30\",\"30-40\",\"40-50\",\"50-60\",\"60-70\",\"70 and more\"]\n",
        "databy_age = pd.cut(\n",
        "        data[\"age\"], bins = 8, labels = labels\n",
        "    )"
      ],
      "execution_count": 67,
      "outputs": []
    },
    {
      "cell_type": "code",
      "metadata": {
        "id": "DyCioO_c1Phd",
        "outputId": "12d82f99-afa9-4b57-b9cd-2eea6423e3b8",
        "colab": {
          "base_uri": "https://localhost:8080/",
          "height": 170
        }
      },
      "source": [
        "databy_age.value_counts()/len(data)"
      ],
      "execution_count": 68,
      "outputs": [
        {
          "output_type": "execute_result",
          "data": {
            "text/plain": [
              "30-40          0.31\n",
              "40-50          0.21\n",
              "20-30          0.20\n",
              "50-60          0.12\n",
              "10-20          0.07\n",
              "60-70          0.06\n",
              "70 and more    0.02\n",
              "Less than 10   0.01\n",
              "Name: age, dtype: float64"
            ]
          },
          "metadata": {
            "tags": []
          },
          "execution_count": 68
        }
      ]
    },
    {
      "cell_type": "code",
      "metadata": {
        "id": "ryDMIttk3I4r",
        "outputId": "45a57a73-3498-4583-84d0-9f6814ca1781",
        "colab": {
          "base_uri": "https://localhost:8080/",
          "height": 469
        }
      },
      "source": [
        "(databy_age.value_counts()/len(data)).sort_values(ascending=True).plot(kind=\"barh\", color ='purple')\n",
        "plt.xlabel(\"Age\")\n",
        "plt.ylabel(\"percentage\");"
      ],
      "execution_count": 73,
      "outputs": [
        {
          "output_type": "display_data",
          "data": {
            "image/png": "[encoded data removed]",
            "text/plain": [
              "<Figure size 864x576 with 1 Axes>"
            ]
          },
          "metadata": {
            "tags": [],
            "needs_background": "light"
          }
        }
      ]
    },
    {
      "cell_type": "code",
      "metadata": {
        "id": "dYJJ7Zhx_r1G",
        "outputId": "3965df6d-840b-4dc7-ef24-e809ac7b475d",
        "colab": {
          "base_uri": "https://localhost:8080/",
          "height": 381
        }
      },
      "source": [
        "list(data.columns)"
      ],
      "execution_count": null,
      "outputs": [
        {
          "output_type": "execute_result",
          "data": {
            "text/plain": [
              "['class',\n",
              " 'age',\n",
              " 'sex',\n",
              " 'steroid',\n",
              " 'antivirals',\n",
              " 'fatigue',\n",
              " 'malaise',\n",
              " 'anorexia',\n",
              " 'liver_big',\n",
              " 'liver_firm',\n",
              " 'spleen_palpable',\n",
              " 'spiders',\n",
              " 'ascites',\n",
              " 'varices',\n",
              " 'bilirubin',\n",
              " 'alk_phosphate',\n",
              " 'sgot',\n",
              " 'albumin',\n",
              " 'protime',\n",
              " 'histology']"
            ]
          },
          "metadata": {
            "tags": []
          },
          "execution_count": 120
        }
      ]
    },
    {
      "cell_type": "code",
      "metadata": {
        "id": "-iQzrAME_L-Y",
        "outputId": "138de0bd-cf8e-4860-b20a-d71524773bbc",
        "colab": {
          "base_uri": "https://localhost:8080/",
          "height": 692
        }
      },
      "source": [
        "# Scatter plot\n",
        "# sns.scatterplot(x=data['albumin'],y=df['age'],hue=data['sex'], palette=['green','red'],data=data)\n",
        "grid = sns.FacetGrid(data[[\"age\", \"bilirubin\", \"sex\"]], hue=\"sex\", size = 10)\n",
        "grid.map(plt.scatter,\"age\",\"bilirubin\").add_legend();"
      ],
      "execution_count": 74,
      "outputs": [
        {
          "output_type": "display_data",
          "data": {
            "image/png": "[encoded data removed]",
            "text/plain": [
              "<Figure size 796.3x720 with 1 Axes>"
            ]
          },
          "metadata": {
            "tags": [],
            "needs_background": "light"
          }
        }
      ]
    },
    {
      "cell_type": "code",
      "metadata": {
        "id": "VyXwKcb593DQ",
        "outputId": "acb73a18-b35c-4d83-f73c-788da6be65fb",
        "colab": {
          "base_uri": "https://localhost:8080/",
          "height": 513
        }
      },
      "source": [
        "## Checking for outlier\n",
        "sns.boxplot(data.age);"
      ],
      "execution_count": null,
      "outputs": [
        {
          "output_type": "display_data",
          "data": {
            "image/png": "[encoded data removed]",
            "text/plain": [
              "<Figure size 864x576 with 1 Axes>"
            ]
          },
          "metadata": {
            "tags": [],
            "needs_background": "light"
          }
        }
      ]
    },
    {
      "cell_type": "code",
      "metadata": {
        "id": "-zxmk3NHFwl0",
        "outputId": "0b398016-616d-4b72-af5a-b9b41c01b6f1",
        "colab": {
          "base_uri": "https://localhost:8080/",
          "height": 374
        }
      },
      "source": [
        "q1 = data.quantile(0.25)\n",
        "q3 = data.quantile(0.75)\n",
        "IQR = q3 - q1\n",
        "print(IQR)"
      ],
      "execution_count": 75,
      "outputs": [
        {
          "output_type": "stream",
          "text": [
            "class              0.00\n",
            "age               18.00\n",
            "sex                0.00\n",
            "steroid            1.00\n",
            "antivirals         0.00\n",
            "fatigue            1.00\n",
            "malaise            1.00\n",
            "anorexia           0.00\n",
            "liver_big          0.00\n",
            "liver_firm         1.00\n",
            "spleen_palpable    0.00\n",
            "spiders            1.00\n",
            "ascites            0.00\n",
            "varices            0.00\n",
            "bilirubin          0.80\n",
            "alk_phosphate     69.25\n",
            "sgot              68.50\n",
            "albumin            1.18\n",
            "protime           65.50\n",
            "histology          1.00\n",
            "dtype: float64\n"
          ],
          "name": "stdout"
        }
      ]
    },
    {
      "cell_type": "code",
      "metadata": {
        "id": "yve8BOgNGyyH",
        "outputId": "270a0614-dd42-43ff-aed1-99484b58aa63",
        "colab": {
          "base_uri": "https://localhost:8080/",
          "height": 374
        }
      },
      "source": [
        "# No of outliers per column\n",
        "((data < (q1 -1.5 * IQR)) | (data >(q3 + 1.5 * IQR))).sum()"
      ],
      "execution_count": 76,
      "outputs": [
        {
          "output_type": "execute_result",
          "data": {
            "text/plain": [
              "class              32\n",
              "age                 1\n",
              "sex                15\n",
              "steroid             0\n",
              "antivirals         24\n",
              "fatigue             0\n",
              "malaise             0\n",
              "anorexia           33\n",
              "liver_big          34\n",
              "liver_firm          0\n",
              "spleen_palpable    35\n",
              "spiders             0\n",
              "ascites            25\n",
              "varices            23\n",
              "bilirubin          17\n",
              "alk_phosphate       5\n",
              "sgot               13\n",
              "albumin            17\n",
              "protime             0\n",
              "histology           0\n",
              "dtype: int64"
            ]
          },
          "metadata": {
            "tags": []
          },
          "execution_count": 76
        }
      ]
    },
    {
      "cell_type": "code",
      "metadata": {
        "id": "dI3JeQg5jot7",
        "outputId": "b481cdb4-76fc-4352-d812-8a0ed289bfb8",
        "colab": {
          "base_uri": "https://localhost:8080/",
          "height": 340
        }
      },
      "source": [
        "features = [col for col in data.columns if col not in \"class\"]\n",
        "features"
      ],
      "execution_count": 77,
      "outputs": [
        {
          "output_type": "execute_result",
          "data": {
            "text/plain": [
              "['age',\n",
              " 'sex',\n",
              " 'steroid',\n",
              " 'antivirals',\n",
              " 'fatigue',\n",
              " 'malaise',\n",
              " 'anorexia',\n",
              " 'liver_big',\n",
              " 'liver_firm',\n",
              " 'spleen_palpable',\n",
              " 'spiders',\n",
              " 'ascites',\n",
              " 'varices',\n",
              " 'bilirubin',\n",
              " 'alk_phosphate',\n",
              " 'sgot',\n",
              " 'albumin',\n",
              " 'protime',\n",
              " 'histology']"
            ]
          },
          "metadata": {
            "tags": []
          },
          "execution_count": 77
        }
      ]
    },
    {
      "cell_type": "code",
      "metadata": {
        "id": "b75cMvH8I_Ux",
        "outputId": "5c0b9521-0741-420d-c2af-91f679e06e9b",
        "colab": {
          "base_uri": "https://localhost:8080/",
          "height": 689
        }
      },
      "source": [
        "# Remove outliers\n",
        "data_no_outlier = (data[~((data[features] < (q1 -1.5 * IQR)) | (data[features] >(q3 + 1.5 * IQR))).any(axis=1)]).reset_index(drop = True)\n",
        "data_no_outlier.head(20)"
      ],
      "execution_count": 78,
      "outputs": [
        {
          "output_type": "execute_result",
          "data": {
            "text/html": [
              "<div>\n",
              "<style scoped>\n",
              "    .dataframe tbody tr th:only-of-type {\n",
              "        vertical-align: middle;\n",
              "    }\n",
              "\n",
              "    .dataframe tbody tr th {\n",
              "        vertical-align: top;\n",
              "    }\n",
              "\n",
              "    .dataframe thead th {\n",
              "        text-align: right;\n",
              "    }\n",
              "</style>\n",
              "<table border=\"1\" class=\"dataframe\">\n",
              "  <thead>\n",
              "    <tr style=\"text-align: right;\">\n",
              "      <th></th>\n",
              "      <th>class</th>\n",
              "      <th>age</th>\n",
              "      <th>sex</th>\n",
              "      <th>steroid</th>\n",
              "      <th>antivirals</th>\n",
              "      <th>fatigue</th>\n",
              "      <th>malaise</th>\n",
              "      <th>anorexia</th>\n",
              "      <th>liver_big</th>\n",
              "      <th>liver_firm</th>\n",
              "      <th>spleen_palpable</th>\n",
              "      <th>spiders</th>\n",
              "      <th>ascites</th>\n",
              "      <th>varices</th>\n",
              "      <th>bilirubin</th>\n",
              "      <th>alk_phosphate</th>\n",
              "      <th>sgot</th>\n",
              "      <th>albumin</th>\n",
              "      <th>protime</th>\n",
              "      <th>histology</th>\n",
              "    </tr>\n",
              "  </thead>\n",
              "  <tbody>\n",
              "    <tr>\n",
              "      <th>0</th>\n",
              "      <td>0</td>\n",
              "      <td>24</td>\n",
              "      <td>1</td>\n",
              "      <td>1</td>\n",
              "      <td>2</td>\n",
              "      <td>1</td>\n",
              "      <td>2</td>\n",
              "      <td>2</td>\n",
              "      <td>2</td>\n",
              "      <td>2</td>\n",
              "      <td>2</td>\n",
              "      <td>2</td>\n",
              "      <td>2</td>\n",
              "      <td>2</td>\n",
              "      <td>1.00</td>\n",
              "      <td>0</td>\n",
              "      <td>34</td>\n",
              "      <td>4.10</td>\n",
              "      <td>0</td>\n",
              "      <td>2</td>\n",
              "    </tr>\n",
              "    <tr>\n",
              "      <th>1</th>\n",
              "      <td>0</td>\n",
              "      <td>66</td>\n",
              "      <td>1</td>\n",
              "      <td>2</td>\n",
              "      <td>2</td>\n",
              "      <td>1</td>\n",
              "      <td>2</td>\n",
              "      <td>2</td>\n",
              "      <td>2</td>\n",
              "      <td>2</td>\n",
              "      <td>2</td>\n",
              "      <td>2</td>\n",
              "      <td>2</td>\n",
              "      <td>2</td>\n",
              "      <td>1.20</td>\n",
              "      <td>102</td>\n",
              "      <td>53</td>\n",
              "      <td>4.30</td>\n",
              "      <td>0</td>\n",
              "      <td>1</td>\n",
              "    </tr>\n",
              "    <tr>\n",
              "      <th>2</th>\n",
              "      <td>0</td>\n",
              "      <td>52</td>\n",
              "      <td>1</td>\n",
              "      <td>1</td>\n",
              "      <td>2</td>\n",
              "      <td>1</td>\n",
              "      <td>2</td>\n",
              "      <td>2</td>\n",
              "      <td>2</td>\n",
              "      <td>2</td>\n",
              "      <td>2</td>\n",
              "      <td>2</td>\n",
              "      <td>2</td>\n",
              "      <td>2</td>\n",
              "      <td>1.00</td>\n",
              "      <td>85</td>\n",
              "      <td>30</td>\n",
              "      <td>4.00</td>\n",
              "      <td>0</td>\n",
              "      <td>2</td>\n",
              "    </tr>\n",
              "    <tr>\n",
              "      <th>3</th>\n",
              "      <td>0</td>\n",
              "      <td>32</td>\n",
              "      <td>1</td>\n",
              "      <td>2</td>\n",
              "      <td>2</td>\n",
              "      <td>2</td>\n",
              "      <td>2</td>\n",
              "      <td>2</td>\n",
              "      <td>2</td>\n",
              "      <td>2</td>\n",
              "      <td>2</td>\n",
              "      <td>2</td>\n",
              "      <td>2</td>\n",
              "      <td>2</td>\n",
              "      <td>0.70</td>\n",
              "      <td>102</td>\n",
              "      <td>64</td>\n",
              "      <td>4.00</td>\n",
              "      <td>90</td>\n",
              "      <td>1</td>\n",
              "    </tr>\n",
              "    <tr>\n",
              "      <th>4</th>\n",
              "      <td>0</td>\n",
              "      <td>20</td>\n",
              "      <td>1</td>\n",
              "      <td>1</td>\n",
              "      <td>2</td>\n",
              "      <td>2</td>\n",
              "      <td>2</td>\n",
              "      <td>2</td>\n",
              "      <td>2</td>\n",
              "      <td>0</td>\n",
              "      <td>2</td>\n",
              "      <td>2</td>\n",
              "      <td>2</td>\n",
              "      <td>2</td>\n",
              "      <td>0.90</td>\n",
              "      <td>89</td>\n",
              "      <td>152</td>\n",
              "      <td>4.00</td>\n",
              "      <td>0</td>\n",
              "      <td>2</td>\n",
              "    </tr>\n",
              "    <tr>\n",
              "      <th>5</th>\n",
              "      <td>0</td>\n",
              "      <td>27</td>\n",
              "      <td>1</td>\n",
              "      <td>2</td>\n",
              "      <td>2</td>\n",
              "      <td>2</td>\n",
              "      <td>2</td>\n",
              "      <td>2</td>\n",
              "      <td>2</td>\n",
              "      <td>2</td>\n",
              "      <td>2</td>\n",
              "      <td>2</td>\n",
              "      <td>2</td>\n",
              "      <td>2</td>\n",
              "      <td>0.80</td>\n",
              "      <td>0</td>\n",
              "      <td>38</td>\n",
              "      <td>4.20</td>\n",
              "      <td>0</td>\n",
              "      <td>1</td>\n",
              "    </tr>\n",
              "    <tr>\n",
              "      <th>6</th>\n",
              "      <td>0</td>\n",
              "      <td>42</td>\n",
              "      <td>1</td>\n",
              "      <td>2</td>\n",
              "      <td>2</td>\n",
              "      <td>2</td>\n",
              "      <td>2</td>\n",
              "      <td>2</td>\n",
              "      <td>2</td>\n",
              "      <td>2</td>\n",
              "      <td>2</td>\n",
              "      <td>2</td>\n",
              "      <td>2</td>\n",
              "      <td>2</td>\n",
              "      <td>0.90</td>\n",
              "      <td>60</td>\n",
              "      <td>63</td>\n",
              "      <td>4.70</td>\n",
              "      <td>47</td>\n",
              "      <td>1</td>\n",
              "    </tr>\n",
              "    <tr>\n",
              "      <th>7</th>\n",
              "      <td>0</td>\n",
              "      <td>49</td>\n",
              "      <td>1</td>\n",
              "      <td>2</td>\n",
              "      <td>2</td>\n",
              "      <td>1</td>\n",
              "      <td>1</td>\n",
              "      <td>2</td>\n",
              "      <td>2</td>\n",
              "      <td>2</td>\n",
              "      <td>2</td>\n",
              "      <td>2</td>\n",
              "      <td>2</td>\n",
              "      <td>2</td>\n",
              "      <td>0.80</td>\n",
              "      <td>103</td>\n",
              "      <td>43</td>\n",
              "      <td>3.50</td>\n",
              "      <td>66</td>\n",
              "      <td>1</td>\n",
              "    </tr>\n",
              "    <tr>\n",
              "      <th>8</th>\n",
              "      <td>0</td>\n",
              "      <td>31</td>\n",
              "      <td>1</td>\n",
              "      <td>2</td>\n",
              "      <td>2</td>\n",
              "      <td>2</td>\n",
              "      <td>2</td>\n",
              "      <td>2</td>\n",
              "      <td>2</td>\n",
              "      <td>2</td>\n",
              "      <td>2</td>\n",
              "      <td>2</td>\n",
              "      <td>2</td>\n",
              "      <td>2</td>\n",
              "      <td>1.00</td>\n",
              "      <td>85</td>\n",
              "      <td>20</td>\n",
              "      <td>4.00</td>\n",
              "      <td>100</td>\n",
              "      <td>1</td>\n",
              "    </tr>\n",
              "    <tr>\n",
              "      <th>9</th>\n",
              "      <td>0</td>\n",
              "      <td>35</td>\n",
              "      <td>1</td>\n",
              "      <td>2</td>\n",
              "      <td>2</td>\n",
              "      <td>1</td>\n",
              "      <td>2</td>\n",
              "      <td>2</td>\n",
              "      <td>2</td>\n",
              "      <td>2</td>\n",
              "      <td>2</td>\n",
              "      <td>2</td>\n",
              "      <td>2</td>\n",
              "      <td>2</td>\n",
              "      <td>0.90</td>\n",
              "      <td>58</td>\n",
              "      <td>92</td>\n",
              "      <td>4.30</td>\n",
              "      <td>73</td>\n",
              "      <td>1</td>\n",
              "    </tr>\n",
              "    <tr>\n",
              "      <th>10</th>\n",
              "      <td>1</td>\n",
              "      <td>37</td>\n",
              "      <td>1</td>\n",
              "      <td>2</td>\n",
              "      <td>2</td>\n",
              "      <td>1</td>\n",
              "      <td>2</td>\n",
              "      <td>2</td>\n",
              "      <td>2</td>\n",
              "      <td>2</td>\n",
              "      <td>2</td>\n",
              "      <td>1</td>\n",
              "      <td>2</td>\n",
              "      <td>2</td>\n",
              "      <td>0.60</td>\n",
              "      <td>67</td>\n",
              "      <td>28</td>\n",
              "      <td>4.20</td>\n",
              "      <td>0</td>\n",
              "      <td>1</td>\n",
              "    </tr>\n",
              "    <tr>\n",
              "      <th>11</th>\n",
              "      <td>0</td>\n",
              "      <td>30</td>\n",
              "      <td>1</td>\n",
              "      <td>2</td>\n",
              "      <td>2</td>\n",
              "      <td>1</td>\n",
              "      <td>2</td>\n",
              "      <td>2</td>\n",
              "      <td>2</td>\n",
              "      <td>1</td>\n",
              "      <td>2</td>\n",
              "      <td>2</td>\n",
              "      <td>2</td>\n",
              "      <td>2</td>\n",
              "      <td>2.20</td>\n",
              "      <td>57</td>\n",
              "      <td>144</td>\n",
              "      <td>4.90</td>\n",
              "      <td>78</td>\n",
              "      <td>1</td>\n",
              "    </tr>\n",
              "    <tr>\n",
              "      <th>12</th>\n",
              "      <td>0</td>\n",
              "      <td>30</td>\n",
              "      <td>1</td>\n",
              "      <td>2</td>\n",
              "      <td>2</td>\n",
              "      <td>1</td>\n",
              "      <td>2</td>\n",
              "      <td>2</td>\n",
              "      <td>2</td>\n",
              "      <td>2</td>\n",
              "      <td>2</td>\n",
              "      <td>2</td>\n",
              "      <td>2</td>\n",
              "      <td>2</td>\n",
              "      <td>0.70</td>\n",
              "      <td>50</td>\n",
              "      <td>78</td>\n",
              "      <td>4.20</td>\n",
              "      <td>74</td>\n",
              "      <td>1</td>\n",
              "    </tr>\n",
              "    <tr>\n",
              "      <th>13</th>\n",
              "      <td>0</td>\n",
              "      <td>38</td>\n",
              "      <td>1</td>\n",
              "      <td>2</td>\n",
              "      <td>2</td>\n",
              "      <td>2</td>\n",
              "      <td>2</td>\n",
              "      <td>2</td>\n",
              "      <td>2</td>\n",
              "      <td>2</td>\n",
              "      <td>2</td>\n",
              "      <td>2</td>\n",
              "      <td>2</td>\n",
              "      <td>2</td>\n",
              "      <td>0.70</td>\n",
              "      <td>53</td>\n",
              "      <td>42</td>\n",
              "      <td>4.10</td>\n",
              "      <td>85</td>\n",
              "      <td>2</td>\n",
              "    </tr>\n",
              "    <tr>\n",
              "      <th>14</th>\n",
              "      <td>0</td>\n",
              "      <td>39</td>\n",
              "      <td>1</td>\n",
              "      <td>1</td>\n",
              "      <td>2</td>\n",
              "      <td>2</td>\n",
              "      <td>2</td>\n",
              "      <td>2</td>\n",
              "      <td>2</td>\n",
              "      <td>2</td>\n",
              "      <td>2</td>\n",
              "      <td>2</td>\n",
              "      <td>2</td>\n",
              "      <td>2</td>\n",
              "      <td>0.90</td>\n",
              "      <td>85</td>\n",
              "      <td>60</td>\n",
              "      <td>4.00</td>\n",
              "      <td>0</td>\n",
              "      <td>1</td>\n",
              "    </tr>\n",
              "    <tr>\n",
              "      <th>15</th>\n",
              "      <td>0</td>\n",
              "      <td>30</td>\n",
              "      <td>1</td>\n",
              "      <td>1</td>\n",
              "      <td>2</td>\n",
              "      <td>2</td>\n",
              "      <td>2</td>\n",
              "      <td>2</td>\n",
              "      <td>2</td>\n",
              "      <td>2</td>\n",
              "      <td>2</td>\n",
              "      <td>2</td>\n",
              "      <td>2</td>\n",
              "      <td>2</td>\n",
              "      <td>0.70</td>\n",
              "      <td>100</td>\n",
              "      <td>31</td>\n",
              "      <td>4.00</td>\n",
              "      <td>100</td>\n",
              "      <td>1</td>\n",
              "    </tr>\n",
              "    <tr>\n",
              "      <th>16</th>\n",
              "      <td>0</td>\n",
              "      <td>56</td>\n",
              "      <td>1</td>\n",
              "      <td>1</td>\n",
              "      <td>2</td>\n",
              "      <td>1</td>\n",
              "      <td>2</td>\n",
              "      <td>2</td>\n",
              "      <td>2</td>\n",
              "      <td>2</td>\n",
              "      <td>2</td>\n",
              "      <td>2</td>\n",
              "      <td>2</td>\n",
              "      <td>2</td>\n",
              "      <td>0.70</td>\n",
              "      <td>71</td>\n",
              "      <td>18</td>\n",
              "      <td>4.40</td>\n",
              "      <td>100</td>\n",
              "      <td>1</td>\n",
              "    </tr>\n",
              "    <tr>\n",
              "      <th>17</th>\n",
              "      <td>0</td>\n",
              "      <td>27</td>\n",
              "      <td>1</td>\n",
              "      <td>1</td>\n",
              "      <td>2</td>\n",
              "      <td>1</td>\n",
              "      <td>1</td>\n",
              "      <td>2</td>\n",
              "      <td>2</td>\n",
              "      <td>2</td>\n",
              "      <td>2</td>\n",
              "      <td>2</td>\n",
              "      <td>2</td>\n",
              "      <td>2</td>\n",
              "      <td>0.80</td>\n",
              "      <td>95</td>\n",
              "      <td>46</td>\n",
              "      <td>3.80</td>\n",
              "      <td>100</td>\n",
              "      <td>1</td>\n",
              "    </tr>\n",
              "    <tr>\n",
              "      <th>18</th>\n",
              "      <td>0</td>\n",
              "      <td>50</td>\n",
              "      <td>1</td>\n",
              "      <td>2</td>\n",
              "      <td>2</td>\n",
              "      <td>2</td>\n",
              "      <td>2</td>\n",
              "      <td>2</td>\n",
              "      <td>2</td>\n",
              "      <td>2</td>\n",
              "      <td>2</td>\n",
              "      <td>2</td>\n",
              "      <td>2</td>\n",
              "      <td>2</td>\n",
              "      <td>1.50</td>\n",
              "      <td>100</td>\n",
              "      <td>100</td>\n",
              "      <td>5.30</td>\n",
              "      <td>0</td>\n",
              "      <td>1</td>\n",
              "    </tr>\n",
              "    <tr>\n",
              "      <th>19</th>\n",
              "      <td>0</td>\n",
              "      <td>33</td>\n",
              "      <td>1</td>\n",
              "      <td>2</td>\n",
              "      <td>2</td>\n",
              "      <td>2</td>\n",
              "      <td>2</td>\n",
              "      <td>2</td>\n",
              "      <td>2</td>\n",
              "      <td>2</td>\n",
              "      <td>2</td>\n",
              "      <td>2</td>\n",
              "      <td>2</td>\n",
              "      <td>2</td>\n",
              "      <td>1.00</td>\n",
              "      <td>46</td>\n",
              "      <td>90</td>\n",
              "      <td>4.40</td>\n",
              "      <td>60</td>\n",
              "      <td>1</td>\n",
              "    </tr>\n",
              "  </tbody>\n",
              "</table>\n",
              "</div>"
            ],
            "text/plain": [
              "    class  age  sex  steroid  ...  sgot  albumin  protime  histology\n",
              "0       0   24    1        1  ...    34     4.10        0          2\n",
              "1       0   66    1        2  ...    53     4.30        0          1\n",
              "2       0   52    1        1  ...    30     4.00        0          2\n",
              "3       0   32    1        2  ...    64     4.00       90          1\n",
              "4       0   20    1        1  ...   152     4.00        0          2\n",
              "5       0   27    1        2  ...    38     4.20        0          1\n",
              "6       0   42    1        2  ...    63     4.70       47          1\n",
              "7       0   49    1        2  ...    43     3.50       66          1\n",
              "8       0   31    1        2  ...    20     4.00      100          1\n",
              "9       0   35    1        2  ...    92     4.30       73          1\n",
              "10      1   37    1        2  ...    28     4.20        0          1\n",
              "11      0   30    1        2  ...   144     4.90       78          1\n",
              "12      0   30    1        2  ...    78     4.20       74          1\n",
              "13      0   38    1        2  ...    42     4.10       85          2\n",
              "14      0   39    1        1  ...    60     4.00        0          1\n",
              "15      0   30    1        1  ...    31     4.00      100          1\n",
              "16      0   56    1        1  ...    18     4.40      100          1\n",
              "17      0   27    1        1  ...    46     3.80      100          1\n",
              "18      0   50    1        2  ...   100     5.30        0          1\n",
              "19      0   33    1        2  ...    90     4.40       60          1\n",
              "\n",
              "[20 rows x 20 columns]"
            ]
          },
          "metadata": {
            "tags": []
          },
          "execution_count": 78
        }
      ]
    },
    {
      "cell_type": "code",
      "metadata": {
        "id": "cSSAtM2gjnW3"
      },
      "source": [
        ""
      ],
      "execution_count": null,
      "outputs": []
    },
    {
      "cell_type": "code",
      "metadata": {
        "id": "phiuWv__IGio"
      },
      "source": [
        "#data_no_outlier = data[~((data < (q1 -1.5 * IQR)) | (data >(q3 + 1.5 * IQR))).any(axis=1)]\n",
        "#data_no_outlier.head(20)"
      ],
      "execution_count": null,
      "outputs": []
    },
    {
      "cell_type": "code",
      "metadata": {
        "id": "IqaYhdA8K8kT",
        "outputId": "b5e5c594-74cd-4e70-a939-7f49badee538",
        "colab": {
          "base_uri": "https://localhost:8080/",
          "height": 713
        }
      },
      "source": [
        "mpl.rcParams['figure.figsize'] = [15, 12]\n",
        "mpl.rcParams['grid.color'] = 'k'\n",
        "mpl.rcParams['grid.linestyle'] = ':'\n",
        "mpl.rcParams.update({'font.size': 9})\n",
        "data.hist();"
      ],
      "execution_count": 79,
      "outputs": [
        {
          "output_type": "display_data",
          "data": {
            "image/png": "[encoded data removed]",
            "text/plain": [
              "<Figure size 1080x864 with 20 Axes>"
            ]
          },
          "metadata": {
            "tags": [],
            "needs_background": "light"
          }
        }
      ]
    },
    {
      "cell_type": "markdown",
      "metadata": {
        "id": "P83eTez2OmCJ"
      },
      "source": [
        "## Data modelling"
      ]
    },
    {
      "cell_type": "code",
      "metadata": {
        "id": "Kamu4uuEUYel"
      },
      "source": [
        "# from sklearn.datasets import load_breast_cancer\n",
        "# df = load_breast_cancer()\n",
        "# X = df.data\n",
        "# y= df.target\n",
        "# X_train, X_test, y_train, y_test = train_test_split(X, y,test_size=.5,random_state =123)\n",
        "# #clf = LazyClassifier(verbose=0,ignore_warnings=True, custom_metric=None)\n",
        "# print(X_train)\n",
        "# print(y_train)"
      ],
      "execution_count": null,
      "outputs": []
    },
    {
      "cell_type": "code",
      "metadata": {
        "id": "n1likq_CVgrH"
      },
      "source": [
        "features_col = list(data.columns)[1:]\n",
        "target_col = [\"class\"] \n",
        "features = data[features_col]\n",
        "target = data[target_col]"
      ],
      "execution_count": 80,
      "outputs": []
    },
    {
      "cell_type": "code",
      "metadata": {
        "id": "U-qqRl-NTVn7",
        "outputId": "ecc678d9-68e7-445d-f89d-5c169b02fc4d",
        "colab": {
          "base_uri": "https://localhost:8080/",
          "height": 934
        }
      },
      "source": [
        "X_train, X_test, y_train, y_test = train_test_split(\n",
        "    features,target,test_size= 0.3,\n",
        "    stratify=target,random_state=42\n",
        "    )\n",
        "clf = LazyClassifier(verbose=0,ignore_warnings=True, custom_metric=None)\n",
        "models,predictions = clf.fit(X_train, X_test, y_train, y_test)\n",
        "models"
      ],
      "execution_count": 81,
      "outputs": [
        {
          "output_type": "stream",
          "text": [
            "100%|██████████| 30/30 [00:00<00:00, 31.77it/s]\n"
          ],
          "name": "stderr"
        },
        {
          "output_type": "execute_result",
          "data": {
            "text/html": [
              "<div>\n",
              "<style scoped>\n",
              "    .dataframe tbody tr th:only-of-type {\n",
              "        vertical-align: middle;\n",
              "    }\n",
              "\n",
              "    .dataframe tbody tr th {\n",
              "        vertical-align: top;\n",
              "    }\n",
              "\n",
              "    .dataframe thead th {\n",
              "        text-align: right;\n",
              "    }\n",
              "</style>\n",
              "<table border=\"1\" class=\"dataframe\">\n",
              "  <thead>\n",
              "    <tr style=\"text-align: right;\">\n",
              "      <th></th>\n",
              "      <th>Accuracy</th>\n",
              "      <th>Balanced Accuracy</th>\n",
              "      <th>ROC AUC</th>\n",
              "      <th>F1 Score</th>\n",
              "      <th>Time Taken</th>\n",
              "    </tr>\n",
              "    <tr>\n",
              "      <th>Model</th>\n",
              "      <th></th>\n",
              "      <th></th>\n",
              "      <th></th>\n",
              "      <th></th>\n",
              "      <th></th>\n",
              "    </tr>\n",
              "  </thead>\n",
              "  <tbody>\n",
              "    <tr>\n",
              "      <th>BernoulliNB</th>\n",
              "      <td>0.83</td>\n",
              "      <td>0.86</td>\n",
              "      <td>0.86</td>\n",
              "      <td>0.84</td>\n",
              "      <td>0.01</td>\n",
              "    </tr>\n",
              "    <tr>\n",
              "      <th>NearestCentroid</th>\n",
              "      <td>0.79</td>\n",
              "      <td>0.83</td>\n",
              "      <td>0.83</td>\n",
              "      <td>0.80</td>\n",
              "      <td>0.02</td>\n",
              "    </tr>\n",
              "    <tr>\n",
              "      <th>AdaBoostClassifier</th>\n",
              "      <td>0.85</td>\n",
              "      <td>0.80</td>\n",
              "      <td>0.80</td>\n",
              "      <td>0.85</td>\n",
              "      <td>0.09</td>\n",
              "    </tr>\n",
              "    <tr>\n",
              "      <th>PassiveAggressiveClassifier</th>\n",
              "      <td>0.85</td>\n",
              "      <td>0.80</td>\n",
              "      <td>0.80</td>\n",
              "      <td>0.85</td>\n",
              "      <td>0.01</td>\n",
              "    </tr>\n",
              "    <tr>\n",
              "      <th>BaggingClassifier</th>\n",
              "      <td>0.87</td>\n",
              "      <td>0.77</td>\n",
              "      <td>0.77</td>\n",
              "      <td>0.87</td>\n",
              "      <td>0.03</td>\n",
              "    </tr>\n",
              "    <tr>\n",
              "      <th>LogisticRegression</th>\n",
              "      <td>0.85</td>\n",
              "      <td>0.76</td>\n",
              "      <td>0.76</td>\n",
              "      <td>0.85</td>\n",
              "      <td>0.02</td>\n",
              "    </tr>\n",
              "    <tr>\n",
              "      <th>LinearSVC</th>\n",
              "      <td>0.85</td>\n",
              "      <td>0.76</td>\n",
              "      <td>0.76</td>\n",
              "      <td>0.85</td>\n",
              "      <td>0.02</td>\n",
              "    </tr>\n",
              "    <tr>\n",
              "      <th>SGDClassifier</th>\n",
              "      <td>0.83</td>\n",
              "      <td>0.75</td>\n",
              "      <td>0.75</td>\n",
              "      <td>0.83</td>\n",
              "      <td>0.01</td>\n",
              "    </tr>\n",
              "    <tr>\n",
              "      <th>RidgeClassifier</th>\n",
              "      <td>0.83</td>\n",
              "      <td>0.75</td>\n",
              "      <td>0.75</td>\n",
              "      <td>0.83</td>\n",
              "      <td>0.02</td>\n",
              "    </tr>\n",
              "    <tr>\n",
              "      <th>Perceptron</th>\n",
              "      <td>0.83</td>\n",
              "      <td>0.75</td>\n",
              "      <td>0.75</td>\n",
              "      <td>0.83</td>\n",
              "      <td>0.01</td>\n",
              "    </tr>\n",
              "    <tr>\n",
              "      <th>LinearDiscriminantAnalysis</th>\n",
              "      <td>0.83</td>\n",
              "      <td>0.75</td>\n",
              "      <td>0.75</td>\n",
              "      <td>0.83</td>\n",
              "      <td>0.04</td>\n",
              "    </tr>\n",
              "    <tr>\n",
              "      <th>LGBMClassifier</th>\n",
              "      <td>0.83</td>\n",
              "      <td>0.75</td>\n",
              "      <td>0.75</td>\n",
              "      <td>0.83</td>\n",
              "      <td>0.05</td>\n",
              "    </tr>\n",
              "    <tr>\n",
              "      <th>KNeighborsClassifier</th>\n",
              "      <td>0.83</td>\n",
              "      <td>0.71</td>\n",
              "      <td>0.71</td>\n",
              "      <td>0.82</td>\n",
              "      <td>0.01</td>\n",
              "    </tr>\n",
              "    <tr>\n",
              "      <th>RandomForestClassifier</th>\n",
              "      <td>0.83</td>\n",
              "      <td>0.71</td>\n",
              "      <td>0.71</td>\n",
              "      <td>0.82</td>\n",
              "      <td>0.16</td>\n",
              "    </tr>\n",
              "    <tr>\n",
              "      <th>XGBClassifier</th>\n",
              "      <td>0.83</td>\n",
              "      <td>0.67</td>\n",
              "      <td>0.67</td>\n",
              "      <td>0.81</td>\n",
              "      <td>0.12</td>\n",
              "    </tr>\n",
              "    <tr>\n",
              "      <th>ExtraTreeClassifier</th>\n",
              "      <td>0.77</td>\n",
              "      <td>0.67</td>\n",
              "      <td>0.67</td>\n",
              "      <td>0.77</td>\n",
              "      <td>0.01</td>\n",
              "    </tr>\n",
              "    <tr>\n",
              "      <th>SVC</th>\n",
              "      <td>0.81</td>\n",
              "      <td>0.66</td>\n",
              "      <td>0.66</td>\n",
              "      <td>0.80</td>\n",
              "      <td>0.01</td>\n",
              "    </tr>\n",
              "    <tr>\n",
              "      <th>GaussianNB</th>\n",
              "      <td>0.51</td>\n",
              "      <td>0.65</td>\n",
              "      <td>0.65</td>\n",
              "      <td>0.54</td>\n",
              "      <td>0.01</td>\n",
              "    </tr>\n",
              "    <tr>\n",
              "      <th>RidgeClassifierCV</th>\n",
              "      <td>0.79</td>\n",
              "      <td>0.65</td>\n",
              "      <td>0.65</td>\n",
              "      <td>0.78</td>\n",
              "      <td>0.01</td>\n",
              "    </tr>\n",
              "    <tr>\n",
              "      <th>DecisionTreeClassifier</th>\n",
              "      <td>0.70</td>\n",
              "      <td>0.63</td>\n",
              "      <td>0.63</td>\n",
              "      <td>0.72</td>\n",
              "      <td>0.01</td>\n",
              "    </tr>\n",
              "    <tr>\n",
              "      <th>QuadraticDiscriminantAnalysis</th>\n",
              "      <td>0.68</td>\n",
              "      <td>0.61</td>\n",
              "      <td>0.61</td>\n",
              "      <td>0.70</td>\n",
              "      <td>0.01</td>\n",
              "    </tr>\n",
              "    <tr>\n",
              "      <th>ExtraTreesClassifier</th>\n",
              "      <td>0.79</td>\n",
              "      <td>0.61</td>\n",
              "      <td>0.61</td>\n",
              "      <td>0.77</td>\n",
              "      <td>0.12</td>\n",
              "    </tr>\n",
              "    <tr>\n",
              "      <th>CalibratedClassifierCV</th>\n",
              "      <td>0.81</td>\n",
              "      <td>0.59</td>\n",
              "      <td>0.59</td>\n",
              "      <td>0.77</td>\n",
              "      <td>0.05</td>\n",
              "    </tr>\n",
              "    <tr>\n",
              "      <th>LabelPropagation</th>\n",
              "      <td>0.72</td>\n",
              "      <td>0.57</td>\n",
              "      <td>0.57</td>\n",
              "      <td>0.72</td>\n",
              "      <td>0.02</td>\n",
              "    </tr>\n",
              "    <tr>\n",
              "      <th>LabelSpreading</th>\n",
              "      <td>0.72</td>\n",
              "      <td>0.57</td>\n",
              "      <td>0.57</td>\n",
              "      <td>0.72</td>\n",
              "      <td>0.02</td>\n",
              "    </tr>\n",
              "    <tr>\n",
              "      <th>CheckingClassifier</th>\n",
              "      <td>0.79</td>\n",
              "      <td>0.50</td>\n",
              "      <td>0.50</td>\n",
              "      <td>0.69</td>\n",
              "      <td>0.01</td>\n",
              "    </tr>\n",
              "    <tr>\n",
              "      <th>DummyClassifier</th>\n",
              "      <td>0.66</td>\n",
              "      <td>0.46</td>\n",
              "      <td>0.46</td>\n",
              "      <td>0.65</td>\n",
              "      <td>0.01</td>\n",
              "    </tr>\n",
              "  </tbody>\n",
              "</table>\n",
              "</div>"
            ],
            "text/plain": [
              "                               Accuracy  ...  Time Taken\n",
              "Model                                    ...            \n",
              "BernoulliNB                        0.83  ...        0.01\n",
              "NearestCentroid                    0.79  ...        0.02\n",
              "AdaBoostClassifier                 0.85  ...        0.09\n",
              "PassiveAggressiveClassifier        0.85  ...        0.01\n",
              "BaggingClassifier                  0.87  ...        0.03\n",
              "LogisticRegression                 0.85  ...        0.02\n",
              "LinearSVC                          0.85  ...        0.02\n",
              "SGDClassifier                      0.83  ...        0.01\n",
              "RidgeClassifier                    0.83  ...        0.02\n",
              "Perceptron                         0.83  ...        0.01\n",
              "LinearDiscriminantAnalysis         0.83  ...        0.04\n",
              "LGBMClassifier                     0.83  ...        0.05\n",
              "KNeighborsClassifier               0.83  ...        0.01\n",
              "RandomForestClassifier             0.83  ...        0.16\n",
              "XGBClassifier                      0.83  ...        0.12\n",
              "ExtraTreeClassifier                0.77  ...        0.01\n",
              "SVC                                0.81  ...        0.01\n",
              "GaussianNB                         0.51  ...        0.01\n",
              "RidgeClassifierCV                  0.79  ...        0.01\n",
              "DecisionTreeClassifier             0.70  ...        0.01\n",
              "QuadraticDiscriminantAnalysis      0.68  ...        0.01\n",
              "ExtraTreesClassifier               0.79  ...        0.12\n",
              "CalibratedClassifierCV             0.81  ...        0.05\n",
              "LabelPropagation                   0.72  ...        0.02\n",
              "LabelSpreading                     0.72  ...        0.02\n",
              "CheckingClassifier                 0.79  ...        0.01\n",
              "DummyClassifier                    0.66  ...        0.01\n",
              "\n",
              "[27 rows x 5 columns]"
            ]
          },
          "metadata": {
            "tags": []
          },
          "execution_count": 81
        }
      ]
    },
    {
      "cell_type": "code",
      "metadata": {
        "id": "T4PrSK2WViMt",
        "outputId": "8789bb96-bea6-46d6-8352-627eb2f7756a",
        "colab": {
          "base_uri": "https://localhost:8080/",
          "height": 419
        }
      },
      "source": [
        "y_train"
      ],
      "execution_count": 85,
      "outputs": [
        {
          "output_type": "execute_result",
          "data": {
            "text/html": [
              "<div>\n",
              "<style scoped>\n",
              "    .dataframe tbody tr th:only-of-type {\n",
              "        vertical-align: middle;\n",
              "    }\n",
              "\n",
              "    .dataframe tbody tr th {\n",
              "        vertical-align: top;\n",
              "    }\n",
              "\n",
              "    .dataframe thead th {\n",
              "        text-align: right;\n",
              "    }\n",
              "</style>\n",
              "<table border=\"1\" class=\"dataframe\">\n",
              "  <thead>\n",
              "    <tr style=\"text-align: right;\">\n",
              "      <th></th>\n",
              "      <th>class</th>\n",
              "    </tr>\n",
              "  </thead>\n",
              "  <tbody>\n",
              "    <tr>\n",
              "      <th>147</th>\n",
              "      <td>0</td>\n",
              "    </tr>\n",
              "    <tr>\n",
              "      <th>78</th>\n",
              "      <td>0</td>\n",
              "    </tr>\n",
              "    <tr>\n",
              "      <th>39</th>\n",
              "      <td>1</td>\n",
              "    </tr>\n",
              "    <tr>\n",
              "      <th>85</th>\n",
              "      <td>0</td>\n",
              "    </tr>\n",
              "    <tr>\n",
              "      <th>118</th>\n",
              "      <td>0</td>\n",
              "    </tr>\n",
              "    <tr>\n",
              "      <th>...</th>\n",
              "      <td>...</td>\n",
              "    </tr>\n",
              "    <tr>\n",
              "      <th>67</th>\n",
              "      <td>1</td>\n",
              "    </tr>\n",
              "    <tr>\n",
              "      <th>34</th>\n",
              "      <td>0</td>\n",
              "    </tr>\n",
              "    <tr>\n",
              "      <th>50</th>\n",
              "      <td>0</td>\n",
              "    </tr>\n",
              "    <tr>\n",
              "      <th>124</th>\n",
              "      <td>0</td>\n",
              "    </tr>\n",
              "    <tr>\n",
              "      <th>44</th>\n",
              "      <td>0</td>\n",
              "    </tr>\n",
              "  </tbody>\n",
              "</table>\n",
              "<p>107 rows × 1 columns</p>\n",
              "</div>"
            ],
            "text/plain": [
              "     class\n",
              "147      0\n",
              "78       0\n",
              "39       1\n",
              "85       0\n",
              "118      0\n",
              "..     ...\n",
              "67       1\n",
              "34       0\n",
              "50       0\n",
              "124      0\n",
              "44       0\n",
              "\n",
              "[107 rows x 1 columns]"
            ]
          },
          "metadata": {
            "tags": []
          },
          "execution_count": 85
        }
      ]
    },
    {
      "cell_type": "code",
      "metadata": {
        "id": "ODzHzHsoXN_S"
      },
      "source": [
        "X_train, X_test, y_train, y_test = train_test_split(\n",
        "    features,target,test_size= 0.3,\n",
        "    stratify=target,random_state=42\n",
        "    )"
      ],
      "execution_count": 86,
      "outputs": []
    },
    {
      "cell_type": "code",
      "metadata": {
        "id": "1dIbL4_BPm4e"
      },
      "source": [
        "lr = LogisticRegression()\n",
        "lr.fit(X_train,y_train)\n",
        "pred_lr = lr.predict(X_test)"
      ],
      "execution_count": 87,
      "outputs": []
    },
    {
      "cell_type": "code",
      "metadata": {
        "id": "Z092C0m8X19u",
        "outputId": "3b5f305a-d9cf-4121-88a2-c9416b018ef8",
        "colab": {
          "base_uri": "https://localhost:8080/",
          "height": 170
        }
      },
      "source": [
        "from sklearn.metrics import classification_report\n",
        "print(classification_report(y_test,pred_lr))"
      ],
      "execution_count": 88,
      "outputs": [
        {
          "output_type": "stream",
          "text": [
            "              precision    recall  f1-score   support\n",
            "\n",
            "           0       0.87      0.89      0.88        37\n",
            "           1       0.56      0.50      0.53        10\n",
            "\n",
            "    accuracy                           0.81        47\n",
            "   macro avg       0.71      0.70      0.70        47\n",
            "weighted avg       0.80      0.81      0.80        47\n",
            "\n"
          ],
          "name": "stdout"
        }
      ]
    },
    {
      "cell_type": "code",
      "metadata": {
        "id": "vIUojf79YrPc",
        "outputId": "f040a7b0-f94c-4d36-94b6-1e0b2f505e20",
        "colab": {
          "base_uri": "https://localhost:8080/",
          "height": 34
        }
      },
      "source": [
        "y_train.shape, X_train.shape"
      ],
      "execution_count": 90,
      "outputs": [
        {
          "output_type": "execute_result",
          "data": {
            "text/plain": [
              "((107, 1), (107, 19))"
            ]
          },
          "metadata": {
            "tags": []
          },
          "execution_count": 90
        }
      ]
    },
    {
      "cell_type": "code",
      "metadata": {
        "id": "vDwkLQp6XmmF",
        "outputId": "e83a5006-0c6c-4968-da9c-c45d89180385",
        "colab": {
          "base_uri": "https://localhost:8080/",
          "height": 170
        }
      },
      "source": [
        "rf = RandomForestClassifier()\n",
        "rf.fit(X_train,y_train)\n",
        "pred_rf = rf.predict(X_test)\n",
        "print(classification_report(y_test,pred_rf))"
      ],
      "execution_count": 89,
      "outputs": [
        {
          "output_type": "stream",
          "text": [
            "              precision    recall  f1-score   support\n",
            "\n",
            "           0       0.88      0.95      0.91        37\n",
            "           1       0.71      0.50      0.59        10\n",
            "\n",
            "    accuracy                           0.85        47\n",
            "   macro avg       0.79      0.72      0.75        47\n",
            "weighted avg       0.84      0.85      0.84        47\n",
            "\n"
          ],
          "name": "stdout"
        }
      ]
    },
    {
      "cell_type": "code",
      "metadata": {
        "id": "Nwed1RQzmPbK",
        "outputId": "12444700-f65c-4f8b-f058-78c45dfc587c",
        "colab": {
          "base_uri": "https://localhost:8080/",
          "height": 224
        }
      },
      "source": [
        "# drop protime column\n",
        "X_train_1 = X_train.drop(\"protime\", axis =1)\n",
        "X_train_1.head()"
      ],
      "execution_count": 91,
      "outputs": [
        {
          "output_type": "execute_result",
          "data": {
            "text/html": [
              "<div>\n",
              "<style scoped>\n",
              "    .dataframe tbody tr th:only-of-type {\n",
              "        vertical-align: middle;\n",
              "    }\n",
              "\n",
              "    .dataframe tbody tr th {\n",
              "        vertical-align: top;\n",
              "    }\n",
              "\n",
              "    .dataframe thead th {\n",
              "        text-align: right;\n",
              "    }\n",
              "</style>\n",
              "<table border=\"1\" class=\"dataframe\">\n",
              "  <thead>\n",
              "    <tr style=\"text-align: right;\">\n",
              "      <th></th>\n",
              "      <th>age</th>\n",
              "      <th>sex</th>\n",
              "      <th>steroid</th>\n",
              "      <th>antivirals</th>\n",
              "      <th>fatigue</th>\n",
              "      <th>malaise</th>\n",
              "      <th>anorexia</th>\n",
              "      <th>liver_big</th>\n",
              "      <th>liver_firm</th>\n",
              "      <th>spleen_palpable</th>\n",
              "      <th>spiders</th>\n",
              "      <th>ascites</th>\n",
              "      <th>varices</th>\n",
              "      <th>bilirubin</th>\n",
              "      <th>alk_phosphate</th>\n",
              "      <th>sgot</th>\n",
              "      <th>albumin</th>\n",
              "      <th>histology</th>\n",
              "    </tr>\n",
              "  </thead>\n",
              "  <tbody>\n",
              "    <tr>\n",
              "      <th>147</th>\n",
              "      <td>52</td>\n",
              "      <td>1</td>\n",
              "      <td>1</td>\n",
              "      <td>2</td>\n",
              "      <td>2</td>\n",
              "      <td>2</td>\n",
              "      <td>2</td>\n",
              "      <td>2</td>\n",
              "      <td>2</td>\n",
              "      <td>2</td>\n",
              "      <td>2</td>\n",
              "      <td>2</td>\n",
              "      <td>2</td>\n",
              "      <td>1.50</td>\n",
              "      <td>0</td>\n",
              "      <td>69</td>\n",
              "      <td>2.90</td>\n",
              "      <td>2</td>\n",
              "    </tr>\n",
              "    <tr>\n",
              "      <th>78</th>\n",
              "      <td>65</td>\n",
              "      <td>1</td>\n",
              "      <td>2</td>\n",
              "      <td>2</td>\n",
              "      <td>1</td>\n",
              "      <td>1</td>\n",
              "      <td>2</td>\n",
              "      <td>2</td>\n",
              "      <td>1</td>\n",
              "      <td>1</td>\n",
              "      <td>1</td>\n",
              "      <td>1</td>\n",
              "      <td>2</td>\n",
              "      <td>0.30</td>\n",
              "      <td>180</td>\n",
              "      <td>53</td>\n",
              "      <td>2.90</td>\n",
              "      <td>2</td>\n",
              "    </tr>\n",
              "    <tr>\n",
              "      <th>39</th>\n",
              "      <td>42</td>\n",
              "      <td>1</td>\n",
              "      <td>1</td>\n",
              "      <td>2</td>\n",
              "      <td>1</td>\n",
              "      <td>1</td>\n",
              "      <td>1</td>\n",
              "      <td>2</td>\n",
              "      <td>2</td>\n",
              "      <td>1</td>\n",
              "      <td>1</td>\n",
              "      <td>2</td>\n",
              "      <td>1</td>\n",
              "      <td>4.60</td>\n",
              "      <td>0</td>\n",
              "      <td>55</td>\n",
              "      <td>3.30</td>\n",
              "      <td>2</td>\n",
              "    </tr>\n",
              "    <tr>\n",
              "      <th>85</th>\n",
              "      <td>37</td>\n",
              "      <td>1</td>\n",
              "      <td>1</td>\n",
              "      <td>2</td>\n",
              "      <td>1</td>\n",
              "      <td>1</td>\n",
              "      <td>1</td>\n",
              "      <td>2</td>\n",
              "      <td>2</td>\n",
              "      <td>2</td>\n",
              "      <td>2</td>\n",
              "      <td>2</td>\n",
              "      <td>2</td>\n",
              "      <td>0.80</td>\n",
              "      <td>92</td>\n",
              "      <td>59</td>\n",
              "      <td>0.00</td>\n",
              "      <td>1</td>\n",
              "    </tr>\n",
              "    <tr>\n",
              "      <th>118</th>\n",
              "      <td>23</td>\n",
              "      <td>1</td>\n",
              "      <td>2</td>\n",
              "      <td>2</td>\n",
              "      <td>1</td>\n",
              "      <td>1</td>\n",
              "      <td>1</td>\n",
              "      <td>2</td>\n",
              "      <td>2</td>\n",
              "      <td>2</td>\n",
              "      <td>2</td>\n",
              "      <td>2</td>\n",
              "      <td>2</td>\n",
              "      <td>0.80</td>\n",
              "      <td>0</td>\n",
              "      <td>14</td>\n",
              "      <td>4.80</td>\n",
              "      <td>1</td>\n",
              "    </tr>\n",
              "  </tbody>\n",
              "</table>\n",
              "</div>"
            ],
            "text/plain": [
              "     age  sex  steroid  antivirals  ...  alk_phosphate  sgot  albumin  histology\n",
              "147   52    1        1           2  ...              0    69     2.90          2\n",
              "78    65    1        2           2  ...            180    53     2.90          2\n",
              "39    42    1        1           2  ...              0    55     3.30          2\n",
              "85    37    1        1           2  ...             92    59     0.00          1\n",
              "118   23    1        2           2  ...              0    14     4.80          1\n",
              "\n",
              "[5 rows x 18 columns]"
            ]
          },
          "metadata": {
            "tags": []
          },
          "execution_count": 91
        }
      ]
    },
    {
      "cell_type": "code",
      "metadata": {
        "id": "RQfcP-m-mYVy",
        "outputId": "db269cb1-b5dc-41cb-f220-1207e20039b5",
        "colab": {
          "base_uri": "https://localhost:8080/",
          "height": 170
        }
      },
      "source": [
        "lr = LogisticRegression()\n",
        "lr.fit(X_train_1,y_train)\n",
        "X_test_1 = X_test.drop(\"protime\", axis=1)\n",
        "pred_lr = lr.predict(X_test_1)\n",
        "print(classification_report(y_test,pred_lr))"
      ],
      "execution_count": 92,
      "outputs": [
        {
          "output_type": "stream",
          "text": [
            "              precision    recall  f1-score   support\n",
            "\n",
            "           0       0.89      0.89      0.89        37\n",
            "           1       0.60      0.60      0.60        10\n",
            "\n",
            "    accuracy                           0.83        47\n",
            "   macro avg       0.75      0.75      0.75        47\n",
            "weighted avg       0.83      0.83      0.83        47\n",
            "\n"
          ],
          "name": "stdout"
        }
      ]
    },
    {
      "cell_type": "code",
      "metadata": {
        "id": "pStyrYmYnAXb",
        "outputId": "ae5855b5-3772-4ead-8359-1e0c29552368",
        "colab": {
          "base_uri": "https://localhost:8080/",
          "height": 170
        }
      },
      "source": [
        "rf = RandomForestClassifier()\n",
        "rf.fit(X_train_1,y_train)\n",
        "pred_rf = rf.predict(X_test_1)\n",
        "print(classification_report(y_test,pred_rf))"
      ],
      "execution_count": 93,
      "outputs": [
        {
          "output_type": "stream",
          "text": [
            "              precision    recall  f1-score   support\n",
            "\n",
            "           0       0.86      0.97      0.91        37\n",
            "           1       0.80      0.40      0.53        10\n",
            "\n",
            "    accuracy                           0.85        47\n",
            "   macro avg       0.83      0.69      0.72        47\n",
            "weighted avg       0.84      0.85      0.83        47\n",
            "\n"
          ],
          "name": "stdout"
        }
      ]
    },
    {
      "cell_type": "markdown",
      "metadata": {
        "id": "6u_XofeDmNXq"
      },
      "source": [
        ""
      ]
    },
    {
      "cell_type": "markdown",
      "metadata": {
        "id": "AGsb8to0Oeec"
      },
      "source": [
        "## Features selection"
      ]
    },
    {
      "cell_type": "code",
      "metadata": {
        "id": "lLzcgCRYN2iJ"
      },
      "source": [
        "from sklearn.feature_selection import SelectKBest\n",
        "from sklearn.feature_selection  import chi2"
      ],
      "execution_count": 100,
      "outputs": []
    },
    {
      "cell_type": "code",
      "metadata": {
        "id": "oWfn9hSrO4QT",
        "outputId": "18927213-2e75-4627-bdf5-91ee5ea0d4d0",
        "colab": {
          "base_uri": "https://localhost:8080/",
          "height": 340
        }
      },
      "source": [
        "list(data.columns)[1:]"
      ],
      "execution_count": 126,
      "outputs": [
        {
          "output_type": "execute_result",
          "data": {
            "text/plain": [
              "['age',\n",
              " 'sex',\n",
              " 'steroid',\n",
              " 'antivirals',\n",
              " 'fatigue',\n",
              " 'malaise',\n",
              " 'anorexia',\n",
              " 'liver_big',\n",
              " 'liver_firm',\n",
              " 'spleen_palpable',\n",
              " 'spiders',\n",
              " 'ascites',\n",
              " 'varices',\n",
              " 'bilirubin',\n",
              " 'alk_phosphate',\n",
              " 'sgot',\n",
              " 'albumin',\n",
              " 'protime',\n",
              " 'histology']"
            ]
          },
          "metadata": {
            "tags": []
          },
          "execution_count": 126
        }
      ]
    },
    {
      "cell_type": "code",
      "metadata": {
        "id": "_PGNu7NdOyTe"
      },
      "source": [
        "features_col = list(data.columns)[1:]\n",
        "target_col = [\"class\"] \n",
        "features = data[features_col]\n",
        "target = data[target_col]"
      ],
      "execution_count": 102,
      "outputs": []
    },
    {
      "cell_type": "code",
      "metadata": {
        "id": "j3TRTE1eP5Uo",
        "outputId": "3c869ecd-1863-450b-ea17-71d26dba2cac",
        "colab": {
          "base_uri": "https://localhost:8080/",
          "height": 85
        }
      },
      "source": [
        "# using Skbest\n",
        "skb = SelectKBest(score_func=chi2,k=5)\n",
        "best_feature_fit = skb.fit(features,target)\n",
        "# Highest score shows the best fit\n",
        "print(\"Scores: \",best_feature_fit.scores_)"
      ],
      "execution_count": 108,
      "outputs": [
        {
          "output_type": "stream",
          "text": [
            "Scores:  [ 27.7100895    0.34920943   0.42076503   0.19084796   2.28634808\n",
            "   2.43463115   0.19099258   0.34234119   0.95514018   0.73343834\n",
            "   3.154178     2.08420804   1.11903176  29.95678238  17.88875131\n",
            "  43.25275806   6.8249348  135.17120971   2.96410733]\n"
          ],
          "name": "stdout"
        }
      ]
    },
    {
      "cell_type": "code",
      "metadata": {
        "id": "Qp8yKGIfQVW6",
        "outputId": "493cb60f-635e-426c-e8ea-7fb5be521621",
        "colab": {
          "base_uri": "https://localhost:8080/",
          "height": 359
        }
      },
      "source": [
        "score = pd.DataFrame(best_feature_fit.scores_, columns = [\"score\"])\n",
        "feat = pd.DataFrame(features_col, columns = [\"feature_names\"])\n",
        "feat_scores = pd.concat([feat, score], axis = 1)\n",
        "feat_scores.nlargest(10, \"score\" )"
      ],
      "execution_count": 109,
      "outputs": [
        {
          "output_type": "execute_result",
          "data": {
            "text/html": [
              "<div>\n",
              "<style scoped>\n",
              "    .dataframe tbody tr th:only-of-type {\n",
              "        vertical-align: middle;\n",
              "    }\n",
              "\n",
              "    .dataframe tbody tr th {\n",
              "        vertical-align: top;\n",
              "    }\n",
              "\n",
              "    .dataframe thead th {\n",
              "        text-align: right;\n",
              "    }\n",
              "</style>\n",
              "<table border=\"1\" class=\"dataframe\">\n",
              "  <thead>\n",
              "    <tr style=\"text-align: right;\">\n",
              "      <th></th>\n",
              "      <th>feature_names</th>\n",
              "      <th>score</th>\n",
              "    </tr>\n",
              "  </thead>\n",
              "  <tbody>\n",
              "    <tr>\n",
              "      <th>17</th>\n",
              "      <td>protime</td>\n",
              "      <td>135.17</td>\n",
              "    </tr>\n",
              "    <tr>\n",
              "      <th>15</th>\n",
              "      <td>sgot</td>\n",
              "      <td>43.25</td>\n",
              "    </tr>\n",
              "    <tr>\n",
              "      <th>13</th>\n",
              "      <td>bilirubin</td>\n",
              "      <td>29.96</td>\n",
              "    </tr>\n",
              "    <tr>\n",
              "      <th>0</th>\n",
              "      <td>age</td>\n",
              "      <td>27.71</td>\n",
              "    </tr>\n",
              "    <tr>\n",
              "      <th>14</th>\n",
              "      <td>alk_phosphate</td>\n",
              "      <td>17.89</td>\n",
              "    </tr>\n",
              "    <tr>\n",
              "      <th>16</th>\n",
              "      <td>albumin</td>\n",
              "      <td>6.82</td>\n",
              "    </tr>\n",
              "    <tr>\n",
              "      <th>10</th>\n",
              "      <td>spiders</td>\n",
              "      <td>3.15</td>\n",
              "    </tr>\n",
              "    <tr>\n",
              "      <th>18</th>\n",
              "      <td>histology</td>\n",
              "      <td>2.96</td>\n",
              "    </tr>\n",
              "    <tr>\n",
              "      <th>5</th>\n",
              "      <td>malaise</td>\n",
              "      <td>2.43</td>\n",
              "    </tr>\n",
              "    <tr>\n",
              "      <th>4</th>\n",
              "      <td>fatigue</td>\n",
              "      <td>2.29</td>\n",
              "    </tr>\n",
              "  </tbody>\n",
              "</table>\n",
              "</div>"
            ],
            "text/plain": [
              "    feature_names  score\n",
              "17        protime 135.17\n",
              "15           sgot  43.25\n",
              "13      bilirubin  29.96\n",
              "0             age  27.71\n",
              "14  alk_phosphate  17.89\n",
              "16        albumin   6.82\n",
              "10        spiders   3.15\n",
              "18      histology   2.96\n",
              "5         malaise   2.43\n",
              "4         fatigue   2.29"
            ]
          },
          "metadata": {
            "tags": []
          },
          "execution_count": 109
        }
      ]
    },
    {
      "cell_type": "code",
      "metadata": {
        "id": "_iHgERTCKN-s",
        "outputId": "714d585c-b453-44ed-919c-3f376f85f40d",
        "colab": {
          "base_uri": "https://localhost:8080/",
          "height": 419
        }
      },
      "source": [
        "data[]"
      ],
      "execution_count": 114,
      "outputs": [
        {
          "output_type": "execute_result",
          "data": {
            "text/html": [
              "<div>\n",
              "<style scoped>\n",
              "    .dataframe tbody tr th:only-of-type {\n",
              "        vertical-align: middle;\n",
              "    }\n",
              "\n",
              "    .dataframe tbody tr th {\n",
              "        vertical-align: top;\n",
              "    }\n",
              "\n",
              "    .dataframe thead th {\n",
              "        text-align: right;\n",
              "    }\n",
              "</style>\n",
              "<table border=\"1\" class=\"dataframe\">\n",
              "  <thead>\n",
              "    <tr style=\"text-align: right;\">\n",
              "      <th></th>\n",
              "      <th>protime</th>\n",
              "      <th>sgot</th>\n",
              "      <th>bilirubin</th>\n",
              "      <th>age</th>\n",
              "      <th>alk_phosphate</th>\n",
              "      <th>albumin</th>\n",
              "      <th>spiders</th>\n",
              "      <th>histology</th>\n",
              "      <th>malaise</th>\n",
              "      <th>fatigue</th>\n",
              "    </tr>\n",
              "  </thead>\n",
              "  <tbody>\n",
              "    <tr>\n",
              "      <th>0</th>\n",
              "      <td>46</td>\n",
              "      <td>420</td>\n",
              "      <td>1.80</td>\n",
              "      <td>28</td>\n",
              "      <td>191</td>\n",
              "      <td>3.30</td>\n",
              "      <td>2</td>\n",
              "      <td>1</td>\n",
              "      <td>1</td>\n",
              "      <td>1</td>\n",
              "    </tr>\n",
              "    <tr>\n",
              "      <th>1</th>\n",
              "      <td>0</td>\n",
              "      <td>42</td>\n",
              "      <td>0.90</td>\n",
              "      <td>50</td>\n",
              "      <td>135</td>\n",
              "      <td>3.50</td>\n",
              "      <td>2</td>\n",
              "      <td>1</td>\n",
              "      <td>2</td>\n",
              "      <td>1</td>\n",
              "    </tr>\n",
              "    <tr>\n",
              "      <th>2</th>\n",
              "      <td>0</td>\n",
              "      <td>34</td>\n",
              "      <td>1.00</td>\n",
              "      <td>24</td>\n",
              "      <td>0</td>\n",
              "      <td>4.10</td>\n",
              "      <td>2</td>\n",
              "      <td>2</td>\n",
              "      <td>2</td>\n",
              "      <td>1</td>\n",
              "    </tr>\n",
              "    <tr>\n",
              "      <th>3</th>\n",
              "      <td>0</td>\n",
              "      <td>86</td>\n",
              "      <td>0.00</td>\n",
              "      <td>34</td>\n",
              "      <td>0</td>\n",
              "      <td>0.00</td>\n",
              "      <td>2</td>\n",
              "      <td>1</td>\n",
              "      <td>2</td>\n",
              "      <td>2</td>\n",
              "    </tr>\n",
              "    <tr>\n",
              "      <th>4</th>\n",
              "      <td>0</td>\n",
              "      <td>53</td>\n",
              "      <td>1.20</td>\n",
              "      <td>66</td>\n",
              "      <td>102</td>\n",
              "      <td>4.30</td>\n",
              "      <td>2</td>\n",
              "      <td>1</td>\n",
              "      <td>2</td>\n",
              "      <td>1</td>\n",
              "    </tr>\n",
              "    <tr>\n",
              "      <th>...</th>\n",
              "      <td>...</td>\n",
              "      <td>...</td>\n",
              "      <td>...</td>\n",
              "      <td>...</td>\n",
              "      <td>...</td>\n",
              "      <td>...</td>\n",
              "      <td>...</td>\n",
              "      <td>...</td>\n",
              "      <td>...</td>\n",
              "      <td>...</td>\n",
              "    </tr>\n",
              "    <tr>\n",
              "      <th>149</th>\n",
              "      <td>54</td>\n",
              "      <td>249</td>\n",
              "      <td>1.00</td>\n",
              "      <td>32</td>\n",
              "      <td>59</td>\n",
              "      <td>3.70</td>\n",
              "      <td>1</td>\n",
              "      <td>1</td>\n",
              "      <td>2</td>\n",
              "      <td>1</td>\n",
              "    </tr>\n",
              "    <tr>\n",
              "      <th>150</th>\n",
              "      <td>0</td>\n",
              "      <td>30</td>\n",
              "      <td>1.00</td>\n",
              "      <td>54</td>\n",
              "      <td>85</td>\n",
              "      <td>4.50</td>\n",
              "      <td>2</td>\n",
              "      <td>2</td>\n",
              "      <td>2</td>\n",
              "      <td>2</td>\n",
              "    </tr>\n",
              "    <tr>\n",
              "      <th>151</th>\n",
              "      <td>0</td>\n",
              "      <td>16</td>\n",
              "      <td>1.20</td>\n",
              "      <td>38</td>\n",
              "      <td>118</td>\n",
              "      <td>2.80</td>\n",
              "      <td>1</td>\n",
              "      <td>2</td>\n",
              "      <td>1</td>\n",
              "      <td>1</td>\n",
              "    </tr>\n",
              "    <tr>\n",
              "      <th>152</th>\n",
              "      <td>29</td>\n",
              "      <td>54</td>\n",
              "      <td>3.50</td>\n",
              "      <td>32</td>\n",
              "      <td>215</td>\n",
              "      <td>3.40</td>\n",
              "      <td>1</td>\n",
              "      <td>1</td>\n",
              "      <td>1</td>\n",
              "      <td>1</td>\n",
              "    </tr>\n",
              "    <tr>\n",
              "      <th>153</th>\n",
              "      <td>41</td>\n",
              "      <td>117</td>\n",
              "      <td>0.90</td>\n",
              "      <td>50</td>\n",
              "      <td>230</td>\n",
              "      <td>3.40</td>\n",
              "      <td>1</td>\n",
              "      <td>2</td>\n",
              "      <td>2</td>\n",
              "      <td>1</td>\n",
              "    </tr>\n",
              "  </tbody>\n",
              "</table>\n",
              "<p>154 rows × 10 columns</p>\n",
              "</div>"
            ],
            "text/plain": [
              "     protime  sgot  bilirubin  age  ...  spiders  histology  malaise  fatigue\n",
              "0         46   420       1.80   28  ...        2          1        1        1\n",
              "1          0    42       0.90   50  ...        2          1        2        1\n",
              "2          0    34       1.00   24  ...        2          2        2        1\n",
              "3          0    86       0.00   34  ...        2          1        2        2\n",
              "4          0    53       1.20   66  ...        2          1        2        1\n",
              "..       ...   ...        ...  ...  ...      ...        ...      ...      ...\n",
              "149       54   249       1.00   32  ...        1          1        2        1\n",
              "150        0    30       1.00   54  ...        2          2        2        2\n",
              "151        0    16       1.20   38  ...        1          2        1        1\n",
              "152       29    54       3.50   32  ...        1          1        1        1\n",
              "153       41   117       0.90   50  ...        1          2        2        1\n",
              "\n",
              "[154 rows x 10 columns]"
            ]
          },
          "metadata": {
            "tags": []
          },
          "execution_count": 114
        }
      ]
    },
    {
      "cell_type": "code",
      "metadata": {
        "id": "s4_JV7Cgtrox"
      },
      "source": [
        "features_col = list(data.columns)[1:]\n",
        "target_col = [\"class\"] \n",
        "features = data[features_col]\n",
        "target = data[target_col]\n",
        "\n",
        "X_train, X_test, y_train, y_test = train_test_split(\n",
        "    features,target,test_size= 0.3,\n",
        "    stratify=target,random_state=42\n",
        "    )"
      ],
      "execution_count": 116,
      "outputs": []
    },
    {
      "cell_type": "code",
      "metadata": {
        "id": "IIJErfPrqIws",
        "outputId": "f4fdb66b-b769-4ee2-80d2-09bc7c6c5e5f",
        "colab": {
          "base_uri": "https://localhost:8080/",
          "height": 170
        }
      },
      "source": [
        "lr_pipeline = make_pipeline(SimpleImputer(missing_values=np.nan, strategy='median'), StandardScaler(),\n",
        "                         LogisticRegression())\n",
        "\n",
        "lr_pipeline.fit(X_train,y_train)\n",
        "preds = lr_pipeline.predict(X_test)\n",
        "print(classification_report(y_test,preds))"
      ],
      "execution_count": 117,
      "outputs": [
        {
          "output_type": "stream",
          "text": [
            "              precision    recall  f1-score   support\n",
            "\n",
            "           0       0.89      0.92      0.91        37\n",
            "           1       0.67      0.60      0.63        10\n",
            "\n",
            "    accuracy                           0.85        47\n",
            "   macro avg       0.78      0.76      0.77        47\n",
            "weighted avg       0.85      0.85      0.85        47\n",
            "\n"
          ],
          "name": "stdout"
        }
      ]
    },
    {
      "cell_type": "code",
      "metadata": {
        "id": "kWirvllI7mIB",
        "outputId": "c7688d3f-2d3b-44c3-8566-b3383c703288",
        "colab": {
          "base_uri": "https://localhost:8080/",
          "height": 170
        }
      },
      "source": [
        "lr_pipeline = make_pipeline(SimpleImputer(missing_values=np.nan, strategy='median'), StandardScaler(),\n",
        "                         LogisticRegression())\n",
        "\n",
        "lr_pipeline.fit(X_train,y_train)\n",
        "preds = lr_pipeline.predict(X_test)\n",
        "print(classification_report(y_test,preds))"
      ],
      "execution_count": 118,
      "outputs": [
        {
          "output_type": "stream",
          "text": [
            "              precision    recall  f1-score   support\n",
            "\n",
            "           0       0.89      0.92      0.91        37\n",
            "           1       0.67      0.60      0.63        10\n",
            "\n",
            "    accuracy                           0.85        47\n",
            "   macro avg       0.78      0.76      0.77        47\n",
            "weighted avg       0.85      0.85      0.85        47\n",
            "\n"
          ],
          "name": "stdout"
        }
      ]
    },
    {
      "cell_type": "markdown",
      "metadata": {
        "id": "HqI1M0osnymz"
      },
      "source": [
        "# Construct  model based on the first tthen selected features"
      ]
    },
    {
      "cell_type": "code",
      "metadata": {
        "id": "PYeDGOIAoL1T",
        "outputId": "38e236e4-a05e-4c37-c7a1-966ca5cf5038",
        "colab": {
          "base_uri": "https://localhost:8080/",
          "height": 170
        }
      },
      "source": [
        "#selected_features = list(feat_scores.nlargest(10, \"score\" )[\"feature_names\"])\n",
        "selected_features = feat_scores.nlargest(10, \"score\" ).iloc[:,0].to_list() #[\"protime\",\"sgot\",\"bilirubin\", \"age\", \"alk_phosphate\", \"albumin\" ] \n",
        "X_train_1 = X_train[selected_features]\n",
        "X_test_1 = X_test[selected_features]\n",
        "lr = LogisticRegression()\n",
        "lr.fit(X_train_1,y_train)\n",
        "pred_lr = lr.predict(X_test_1)\n",
        "print(classification_report(y_test,pred_lr))"
      ],
      "execution_count": 120,
      "outputs": [
        {
          "output_type": "stream",
          "text": [
            "              precision    recall  f1-score   support\n",
            "\n",
            "           0       0.89      0.92      0.91        37\n",
            "           1       0.67      0.60      0.63        10\n",
            "\n",
            "    accuracy                           0.85        47\n",
            "   macro avg       0.78      0.76      0.77        47\n",
            "weighted avg       0.85      0.85      0.85        47\n",
            "\n"
          ],
          "name": "stdout"
        }
      ]
    },
    {
      "cell_type": "code",
      "metadata": {
        "id": "HOF8SU5wOjrV",
        "outputId": "b8c0bafe-404e-4650-a2ac-229be9f26791",
        "colab": {
          "base_uri": "https://localhost:8080/",
          "height": 170
        }
      },
      "source": [
        "#selected_features = list(feat_scores.nlargest(10, \"score\" )[\"feature_names\"])\n",
        "selected_features1 = [\"protime\",\"sgot\",\"bilirubin\", \"age\", \"alk_phosphate\", \"albumin\" ]\n",
        "X_train_1 = X_train[selected_features1]\n",
        "X_test_1 = X_test[selected_features1]\n",
        "lr = LogisticRegression()\n",
        "lr.fit(X_train_1,y_train)\n",
        "pred_lr = lr.predict(X_test_1)\n",
        "print(classification_report(y_test,pred_lr))"
      ],
      "execution_count": 125,
      "outputs": [
        {
          "output_type": "stream",
          "text": [
            "              precision    recall  f1-score   support\n",
            "\n",
            "           0       0.87      0.89      0.88        37\n",
            "           1       0.56      0.50      0.53        10\n",
            "\n",
            "    accuracy                           0.81        47\n",
            "   macro avg       0.71      0.70      0.70        47\n",
            "weighted avg       0.80      0.81      0.80        47\n",
            "\n"
          ],
          "name": "stdout"
        }
      ]
    },
    {
      "cell_type": "markdown",
      "metadata": {
        "id": "RJRj5xF9WpyF"
      },
      "source": [
        "# Second pipeline"
      ]
    },
    {
      "cell_type": "code",
      "metadata": {
        "id": "cIMTpar3Y4vB"
      },
      "source": [
        "GradientBoostingClassifier?"
      ],
      "execution_count": 144,
      "outputs": []
    },
    {
      "cell_type": "code",
      "metadata": {
        "id": "vmgCswTPfObC"
      },
      "source": [
        "scaler = StandardScaler()"
      ],
      "execution_count": 141,
      "outputs": []
    },
    {
      "cell_type": "code",
      "metadata": {
        "id": "pCWk75hIWuxF"
      },
      "source": [
        "# each of thesesticRegression(solver='liblinear', random_state= 42)\n",
        "clf1 = LogisticRegression(solver='liblinear', random_state= 42)\n",
        "clf2 = RandomForestClassifier(random_state=42)\n",
        "clf3 = GradientBoostingClassifier(validation_fraction=0.2,\n",
        "                                  n_iter_no_change=5, tol=0.01,\n",
        "                                  random_state=42)"
      ],
      "execution_count": 143,
      "outputs": []
    },
    {
      "cell_type": "code",
      "metadata": {
        "id": "wx4X0HHHxqQG"
      },
      "source": [
        "pipe = Pipeline([('scaler',scaler), ('classifier', clf3)])"
      ],
      "execution_count": 142,
      "outputs": []
    },
    {
      "cell_type": "code",
      "metadata": {
        "id": "rcnnyxCpyvjB"
      },
      "source": [
        "# create the parameter dictionary for clf1\n",
        "params1 = {}\n",
        "params1['classifier__penalty'] = [\"l1\", \"l2\", \"none\"]\n",
        "params1['classifier__C'] = [0.1, 1, 10]\n",
        "params1['classifier'] = [clf1]"
      ],
      "execution_count": 145,
      "outputs": []
    },
    {
      "cell_type": "code",
      "metadata": {
        "id": "8O0vSXa8zcP3"
      },
      "source": [
        "# create the parameter dictionary for clf2\n",
        "params2 = {}\n",
        "params2['classifier__n_estimators'] = [100, 200,300]\n",
        "params2['classifier__min_samples_leaf'] = [1, 2, 5, 10]\n",
        "params2['classifier'] = [clf2]"
      ],
      "execution_count": 146,
      "outputs": []
    },
    {
      "cell_type": "code",
      "metadata": {
        "id": "pHVHSYI-0XPK"
      },
      "source": [
        "# create the parameter dictionary for clf2\n",
        "params3 = {}\n",
        "params3['classifier__n_estimators'] = [100, 200,300]\n",
        "params3['classifier__min_samples_leaf'] = [1, 2, 5, 10]\n",
        "params3['classifier'] = [clf3]"
      ],
      "execution_count": 147,
      "outputs": []
    },
    {
      "cell_type": "code",
      "metadata": {
        "id": "egzB8n861G28"
      },
      "source": [
        "# create a list of parameter dictionaries\n",
        "params = [params1, params2, params3]"
      ],
      "execution_count": 148,
      "outputs": []
    },
    {
      "cell_type": "code",
      "metadata": {
        "id": "kojZbDtW1N3R"
      },
      "source": [
        "# This will search every parameter combination within each dictionary\n",
        "grid = GridSearchCV(pipe, params, cv=5)\n",
        "grid.fit(X_train, y_train)\n",
        "best_param = grid.best_params_\n",
        "best_estimator = grid.best_estimator_"
      ],
      "execution_count": 151,
      "outputs": []
    },
    {
      "cell_type": "code",
      "metadata": {
        "id": "iHVL0H0pAaeu",
        "outputId": "87109177-1eb0-430c-a07b-41cb8537ecd3",
        "colab": {
          "base_uri": "https://localhost:8080/",
          "height": 289
        }
      },
      "source": [
        "best_estimator"
      ],
      "execution_count": 152,
      "outputs": [
        {
          "output_type": "execute_result",
          "data": {
            "text/plain": [
              "Pipeline(memory=None,\n",
              "         steps=[('scaler',\n",
              "                 StandardScaler(copy=True, with_mean=True, with_std=True)),\n",
              "                ('classifier',\n",
              "                 RandomForestClassifier(bootstrap=True, ccp_alpha=0.0,\n",
              "                                        class_weight=None, criterion='gini',\n",
              "                                        max_depth=None, max_features='auto',\n",
              "                                        max_leaf_nodes=None, max_samples=None,\n",
              "                                        min_impurity_decrease=0.0,\n",
              "                                        min_impurity_split=None,\n",
              "                                        min_samples_leaf=1, min_samples_split=2,\n",
              "                                        min_weight_fraction_leaf=0.0,\n",
              "                                        n_estimators=200, n_jobs=None,\n",
              "                                        oob_score=False, random_state=42,\n",
              "                                        verbose=0, warm_start=False))],\n",
              "         verbose=False)"
            ]
          },
          "metadata": {
            "tags": []
          },
          "execution_count": 152
        }
      ]
    },
    {
      "cell_type": "code",
      "metadata": {
        "id": "vX4Wboa2AuRW",
        "outputId": "9a2f5931-b2a6-4f20-a0ae-0af6a3f9cc1a",
        "colab": {
          "base_uri": "https://localhost:8080/",
          "height": 187
        }
      },
      "source": [
        "best_param"
      ],
      "execution_count": 153,
      "outputs": [
        {
          "output_type": "execute_result",
          "data": {
            "text/plain": [
              "{'classifier': RandomForestClassifier(bootstrap=True, ccp_alpha=0.0, class_weight=None,\n",
              "                        criterion='gini', max_depth=None, max_features='auto',\n",
              "                        max_leaf_nodes=None, max_samples=None,\n",
              "                        min_impurity_decrease=0.0, min_impurity_split=None,\n",
              "                        min_samples_leaf=1, min_samples_split=2,\n",
              "                        min_weight_fraction_leaf=0.0, n_estimators=200,\n",
              "                        n_jobs=None, oob_score=False, random_state=42, verbose=0,\n",
              "                        warm_start=False),\n",
              " 'classifier__min_samples_leaf': 1,\n",
              " 'classifier__n_estimators': 200}"
            ]
          },
          "metadata": {
            "tags": []
          },
          "execution_count": 153
        }
      ]
    },
    {
      "cell_type": "code",
      "metadata": {
        "id": "AN6r19xOA5i6",
        "outputId": "10168d07-cda7-4580-aa62-837f968f3d9e",
        "colab": {
          "base_uri": "https://localhost:8080/",
          "height": 289
        }
      },
      "source": [
        "best_estimator.fit(X_train, y_train)"
      ],
      "execution_count": 154,
      "outputs": [
        {
          "output_type": "execute_result",
          "data": {
            "text/plain": [
              "Pipeline(memory=None,\n",
              "         steps=[('scaler',\n",
              "                 StandardScaler(copy=True, with_mean=True, with_std=True)),\n",
              "                ('classifier',\n",
              "                 RandomForestClassifier(bootstrap=True, ccp_alpha=0.0,\n",
              "                                        class_weight=None, criterion='gini',\n",
              "                                        max_depth=None, max_features='auto',\n",
              "                                        max_leaf_nodes=None, max_samples=None,\n",
              "                                        min_impurity_decrease=0.0,\n",
              "                                        min_impurity_split=None,\n",
              "                                        min_samples_leaf=1, min_samples_split=2,\n",
              "                                        min_weight_fraction_leaf=0.0,\n",
              "                                        n_estimators=200, n_jobs=None,\n",
              "                                        oob_score=False, random_state=42,\n",
              "                                        verbose=0, warm_start=False))],\n",
              "         verbose=False)"
            ]
          },
          "metadata": {
            "tags": []
          },
          "execution_count": 154
        }
      ]
    },
    {
      "cell_type": "code",
      "metadata": {
        "id": "v9OQpQ6fBWmx",
        "outputId": "51f56df1-a4aa-422a-fbca-ae9dbc680deb",
        "colab": {
          "base_uri": "https://localhost:8080/",
          "height": 170
        }
      },
      "source": [
        "preds = best_estimator.predict(X_test)\n",
        "print(classification_report(y_test,preds))"
      ],
      "execution_count": 156,
      "outputs": [
        {
          "output_type": "stream",
          "text": [
            "              precision    recall  f1-score   support\n",
            "\n",
            "           0       0.88      0.95      0.91        37\n",
            "           1       0.71      0.50      0.59        10\n",
            "\n",
            "    accuracy                           0.85        47\n",
            "   macro avg       0.79      0.72      0.75        47\n",
            "weighted avg       0.84      0.85      0.84        47\n",
            "\n"
          ],
          "name": "stdout"
        }
      ]
    }
  ]
}